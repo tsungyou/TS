{
 "cells": [
  {
   "cell_type": "code",
   "execution_count": 1,
   "metadata": {},
   "outputs": [
    {
     "data": {
      "text/plain": [
       "('total len of twse stocks: ', 1016)"
      ]
     },
     "execution_count": 1,
     "metadata": {},
     "output_type": "execute_result"
    }
   ],
   "source": [
    "import pandas as pd\n",
    "import requests\n",
    "import yfinance as yf\n",
    "import numpy as np\n",
    "import time\n",
    "from tqdm import tqdm\n",
    "import psycopg2\n",
    "from datetime import datetime, timedelta\n",
    "DB_HOST = 'localhost'\n",
    "DB_NAME = 'tw'\n",
    "DB_USER = 'mini'\n",
    "DB_PASS = 'buddyrich134'\n",
    "def get_db_connection():\n",
    "    conn = psycopg2.connect(host=DB_HOST, dbname=DB_NAME, user=DB_USER, password=DB_PASS)\n",
    "    return conn\n",
    "\n",
    "\n",
    "conn = get_db_connection()\n",
    "cursor = conn.cursor()\n",
    "uri_pe = \"https://www.twse.com.tw/rwd/zh/afterTrading/BWIBBU_d?date=20240809&selectType=ALL\"\n",
    "\n",
    "res = requests.get(uri_pe)\n",
    "stock_l = res.json()['data']\n",
    "stock_list = [i[0] for i in stock_l]\n",
    "\n",
    "\"total len of twse stocks: \", len(stock_list)"
   ]
  },
  {
   "cell_type": "code",
   "execution_count": null,
   "metadata": {},
   "outputs": [],
   "source": [
    "stocks = []\n",
    "undone = []\n",
    "for code in tqdm([code+\".TW\" for code in stock_list]):\n",
    "    stock = yf.download(code, interval='5m', start=datetime.now() - timedelta(60), progress=False, ignore_tz=True, rounding=2, threads=10, group_by='column', timeout=1)\n",
    "    if len(stock) == 0:\n",
    "        undone.append(code)\n",
    "        continue\n",
    "    stock['Open'] = np.round(stock['Open'], 2)\n",
    "    stock['High'] = np.round(stock['High'], 2)\n",
    "    stock['Low'] = np.round(stock['Low'], 2)\n",
    "    stock['Close'] = np.round(stock['Close'], 2)\n",
    "    stock['Adj Close'] = np.round(stock['Adj Close'], 2)\n",
    "    stock.reset_index(inplace=True)\n",
    "    stock['code'] = code\n",
    "    stocks.append(stock.values.tolist())\n",
    "res = sum(stocks, [])\n",
    "cursor.executemany(f'''\n",
    "INSERT INTO public.stock_price (da, op, hi, lo, cl, adj vol, code)\n",
    "VALUES (%s, %s, %s, %s, %s, %s, %s, %s)\n",
    "''', res)\n",
    "conn.commit()"
   ]
  },
  {
   "cell_type": "code",
   "execution_count": 5,
   "metadata": {},
   "outputs": [
    {
     "name": "stderr",
     "output_type": "stream",
     "text": [
      "100%|██████████| 49/49 [00:08<00:00,  6.03it/s]\n"
     ]
    }
   ],
   "source": [
    "len(undone)\n",
    "stocks = []\n",
    "undone1 = []\n",
    "for code in tqdm(undone):\n",
    "    stock = yf.download(code, interval='5m', start=datetime.now() - timedelta(60), progress=False, ignore_tz=True, rounding=2, threads=10, group_by='column', timeout=1)\n",
    "    if len(stock) == 0:\n",
    "        undone1.append(code)\n",
    "        continue\n",
    "    stock['Open'] = np.round(stock['Open'], 2)\n",
    "    stock['High'] = np.round(stock['High'], 2)\n",
    "    stock['Low'] = np.round(stock['Low'], 2)\n",
    "    stock['Close'] = np.round(stock['Close'], 2)\n",
    "    stock['Adj Close'] = np.round(stock['Adj Close'], 2)\n",
    "    stock.reset_index(inplace=True)\n",
    "    stock['code'] = code\n",
    "    stocks.append(stock.values.tolist())\n",
    "res = sum(stocks, [])\n",
    "cursor.executemany(f'''\n",
    "INSERT INTO public.stock_price (da, op, hi, lo, cl, adj, vol, code)\n",
    "VALUES (%s, %s, %s, %s, %s, %s, %s, %s)\n",
    "''', res)\n",
    "conn.commit()"
   ]
  },
  {
   "cell_type": "code",
   "execution_count": 7,
   "metadata": {},
   "outputs": [
    {
     "data": {
      "text/plain": [
       "1018"
      ]
     },
     "execution_count": 7,
     "metadata": {},
     "output_type": "execute_result"
    }
   ],
   "source": [
    "cursor.execute(\"select distinct code from public.stock_price;\")\n",
    "conn.commit()\n",
    "res = cursor.fetchall()\n",
    "len(res)"
   ]
  },
  {
   "cell_type": "code",
   "execution_count": null,
   "metadata": {},
   "outputs": [],
   "source": [
    "# CREATE INDEX\n",
    "# CREATE INDEX\n",
    "# tw=# DELETE FROM public.stock_price\n",
    "# WHERE code = '1101';\n",
    "# DELETE 2228\n",
    "# tw=# DELETE FROM public.stock_price\n",
    "# WHERE code = '112';\n",
    "# DELETE 0\n",
    "# tw=# DELETE FROM public.stock_price\n",
    "# WHERE code = '1102';\n",
    "# DELETE 2227\n",
    "# tw=# \n"
   ]
  },
  {
   "cell_type": "code",
   "execution_count": 8,
   "metadata": {},
   "outputs": [],
   "source": [
    "len(undone)\n",
    "stocks = []\n",
    "undone1 = []\n",
    "code = '^TWII'\n",
    "stock = yf.download(code, interval='5m', start=datetime.now() - timedelta(60), progress=False, ignore_tz=True, rounding=2, threads=10, group_by='column', timeout=1)\n",
    "if len(stock) == 0:\n",
    "    undone1.append(code)\n",
    "stock['Open'] = np.round(stock['Open'], 2)\n",
    "stock['High'] = np.round(stock['High'], 2)\n",
    "stock['Low'] = np.round(stock['Low'], 2)\n",
    "stock['Close'] = np.round(stock['Close'], 2)\n",
    "stock['Adj Close'] = np.round(stock['Adj Close'], 2)\n",
    "stock.reset_index(inplace=True)\n",
    "stock['code'] = code\n",
    "stocks.append(stock.values.tolist())\n",
    "res = sum(stocks, [])\n",
    "cursor.executemany(f'''\n",
    "INSERT INTO public.stock_price (da, op, hi, lo, cl, adj, vol, code)\n",
    "VALUES (%s, %s, %s, %s, %s, %s, %s, %s)\n",
    "''', res)\n",
    "conn.commit()"
   ]
  }
 ],
 "metadata": {
  "kernelspec": {
   "display_name": "Python 3",
   "language": "python",
   "name": "python3"
  },
  "language_info": {
   "codemirror_mode": {
    "name": "ipython",
    "version": 3
   },
   "file_extension": ".py",
   "mimetype": "text/x-python",
   "name": "python",
   "nbconvert_exporter": "python",
   "pygments_lexer": "ipython3",
   "version": "3.11.9"
  }
 },
 "nbformat": 4,
 "nbformat_minor": 2
}
