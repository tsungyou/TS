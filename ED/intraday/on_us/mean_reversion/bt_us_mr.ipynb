{
 "cells": [
  {
   "cell_type": "code",
   "execution_count": 23,
   "metadata": {},
   "outputs": [],
   "source": [
    "import pandas as pd\n",
    "from tqdm import tqdm\n",
    "from scipy import stats\n",
    "import numpy as np"
   ]
  },
  {
   "cell_type": "code",
   "execution_count": 25,
   "metadata": {},
   "outputs": [],
   "source": [
    "def backtest_code(res, code, benchmark = 2, benchmark_index=\"US100\"):\n",
    "    rolling = 5\n",
    "    pivoted = res[[code, benchmark_index]]\n",
    "    pivoted.ffill()\n",
    "    ret = pivoted.pct_change(fill_method=None)\n",
    "    try:\n",
    "        ret['stock_price'] = pivoted[code]\n",
    "        ret['ret_diff'] = ret[code] - ret[benchmark_index]\n",
    "        # type 1\n",
    "        # ret['ret_diff_std'] = ret['ret_diff'].rolling(rolling).std() * 100\n",
    "        # ret['ret_diff_mean'] = ret['ret_diff'].rolling(rolling).mean() * 100\n",
    "        # ret['stdize_ret_diff'] = abs((ret['ret_diff'] - ret['ret_diff_mean'])/ret['ret_diff_std'])\n",
    "        \n",
    "        # type 2\n",
    "        ret['ret_diff_std'] = ret['ret_diff'].rolling(rolling).std()\n",
    "        ret['ret_diff_mean'] = ret['ret_diff'].rolling(rolling).mean()\n",
    "        ret['stdize_ret_diff'] = abs((ret['ret_diff'] - ret['ret_diff_mean'])*ret['ret_diff_std'])*10000\n",
    "\n",
    "        ret[code] = (1 + ret[code]).cumprod() - 1\n",
    "\n",
    "        ret['index'] = [i for i in range(len(ret))]\n",
    "\n",
    "        # check direction\n",
    "        ret['lag10'] = ret['stock_price'].shift(-4)\n",
    "        ret['change_stock'] = (ret['lag10'] - ret[code])/ret[code]\n",
    "        ret['direction'] = ret.apply(lambda x: -1 if x['stock_price'] - x['lag10'] > 0 else 1, axis=1)\n",
    "\n",
    "        # check if the direction are the same, if not, tned to not being a mean reversion\n",
    "        ret['lag10_twii'] = ret[benchmark_index].shift(-4)\n",
    "        ret['change_twii'] = (ret['lag10_twii'] - ret[benchmark_index])/ret[benchmark_index]\n",
    "        ret['diff_lag'] = ret.apply(lambda x: 1 if abs(x['change_stock'] - x['change_twii']) < abs(x['change_stock']) else 1, axis=1)\n",
    "\n",
    "        # check raise\n",
    "        ret[f'{code}_lag60'] = ret['stock_price'].shift(-12)\n",
    "        ret['target_60mins'] = (ret[f'{code}_lag60'] - ret['stock_price'])/ret['stock_price'] * ret['direction']\n",
    "        ret = ret[(ret['stdize_ret_diff'] >= benchmark) & ret['diff_lag'] == 1][['target_60mins', 'stdize_ret_diff']].dropna()\n",
    "        return ret\n",
    "    except:\n",
    "        print(pivoted)"
   ]
  },
  {
   "cell_type": "markdown",
   "metadata": {},
   "source": [
    "# US100"
   ]
  },
  {
   "cell_type": "code",
   "execution_count": 22,
   "metadata": {},
   "outputs": [
    {
     "name": "stdout",
     "output_type": "stream",
     "text": [
      "798\n",
      "795\n",
      "T-statistic: 0.5299965688433509\n",
      "P-value: 0.29813124044082423\n"
     ]
    }
   ],
   "source": [
    "us_index = \"US100\"\n",
    "res = pd.read_parquet(f\"{us_index}.parquet\")\n",
    "code_list=list(set(res.columns))\n",
    "\n",
    "dfs = []\n",
    "for code in tqdm(code_list[:]):\n",
    "    if code == us_index: continue\n",
    "    df = backtest_code(res, code, benchmark=2, benchmark_index=us_index)\n",
    "    if len(df) == 0: continue\n",
    "    dfs.append(df)\n",
    "\n",
    "\n",
    "# to test if return after 60 mins are greater than {test}\n",
    "test = 0.01\n",
    "final = pd.concat(dfs)\n",
    "print(len(final))\n",
    "final = final[final['target_60mins'] != 0.0]\n",
    "final['target_60mins'] = final['target_60mins'] - test\n",
    "print(len(final))\n",
    "mean = final['target_60mins'].mean()\n",
    "n = len(final)\n",
    "s = final['target_60mins'].std()\n",
    "\n",
    "t_statistic = (mean - 0.0) / (s / np.sqrt(n))\n",
    "print(f\"T-statistic: {t_statistic}\")\n",
    "\n",
    "t_stat, p_value = stats.ttest_1samp(final['target_60mins'], 0.0)\n",
    "\n",
    "if t_stat > 0:\n",
    "    one_tailed_p_value = p_value / 2\n",
    "else:\n",
    "    one_tailed_p_value = 1 - (p_value / 2)\n",
    "\n",
    "print(f\"P-value: {one_tailed_p_value}\")"
   ]
  },
  {
   "cell_type": "markdown",
   "metadata": {},
   "source": [
    "# US500"
   ]
  },
  {
   "cell_type": "code",
   "execution_count": 28,
   "metadata": {},
   "outputs": [
    {
     "name": "stderr",
     "output_type": "stream",
     "text": [
      "100%|██████████| 502/502 [00:15<00:00, 33.17it/s]\n"
     ]
    }
   ],
   "source": [
    "us_index = \"US100\"\n",
    "res = pd.read_parquet(f\"US500.parquet\")\n",
    "code_list=list(set(res.columns))\n",
    "\n",
    "dfs = []\n",
    "for code in tqdm(code_list[:]):\n",
    "    if code == us_index: continue\n",
    "    df = backtest_code(res, code, benchmark=2, benchmark_index=us_index)\n",
    "    if len(df) == 0: continue\n",
    "    dfs.append(df)"
   ]
  },
  {
   "cell_type": "code",
   "execution_count": 32,
   "metadata": {},
   "outputs": [
    {
     "name": "stdout",
     "output_type": "stream",
     "text": [
      "2507\n",
      "2500\n",
      "T-statistic: 4.093363030503\n",
      "P-value: 2.193255260061279e-05\n"
     ]
    }
   ],
   "source": [
    "# to test if return after 60 mins are greater than {test}\n",
    "test = 0.009\n",
    "final = pd.concat(dfs)\n",
    "print(len(final))\n",
    "final = final[final['target_60mins'] != 0.0]\n",
    "final['target_60mins'] = final['target_60mins'] - test\n",
    "print(len(final))\n",
    "mean = final['target_60mins'].mean()\n",
    "n = len(final)\n",
    "s = final['target_60mins'].std()\n",
    "\n",
    "t_statistic = (mean - 0.0) / (s / np.sqrt(n))\n",
    "print(f\"T-statistic: {t_statistic}\")\n",
    "\n",
    "t_stat, p_value = stats.ttest_1samp(final['target_60mins'], 0.0)\n",
    "\n",
    "if t_stat > 0:\n",
    "    one_tailed_p_value = p_value / 2\n",
    "else:\n",
    "    one_tailed_p_value = 1 - (p_value / 2)\n",
    "\n",
    "print(f\"P-value: {one_tailed_p_value}\")"
   ]
  }
 ],
 "metadata": {
  "kernelspec": {
   "display_name": "Python 3",
   "language": "python",
   "name": "python3"
  },
  "language_info": {
   "codemirror_mode": {
    "name": "ipython",
    "version": 3
   },
   "file_extension": ".py",
   "mimetype": "text/x-python",
   "name": "python",
   "nbconvert_exporter": "python",
   "pygments_lexer": "ipython3",
   "version": "3.11.9"
  }
 },
 "nbformat": 4,
 "nbformat_minor": 2
}
