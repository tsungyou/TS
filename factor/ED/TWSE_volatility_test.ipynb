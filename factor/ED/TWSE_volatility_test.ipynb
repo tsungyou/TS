{
 "cells": [
  {
   "cell_type": "code",
   "execution_count": 1,
   "metadata": {},
   "outputs": [
    {
     "name": "stdout",
     "output_type": "stream",
     "text": [
      "/Users/test/risksoft/TS/db\n"
     ]
    }
   ],
   "source": [
    "from datetime import datetime, timedelta\n",
    "import pandas as pd\n",
    "import numpy as np\n",
    "import os\n",
    "import warnings\n",
    "warnings.filterwarnings(\"ignore\")\n",
    "os.chdir('../../db')\n",
    "print(os.getcwd())"
   ]
  },
  {
   "cell_type": "code",
   "execution_count": 42,
   "metadata": {},
   "outputs": [
    {
     "data": {
      "text/plain": [
       "(3305, 2571)"
      ]
     },
     "execution_count": 42,
     "metadata": {},
     "output_type": "execute_result"
    }
   ],
   "source": []
  },
  {
   "cell_type": "code",
   "execution_count": 67,
   "metadata": {},
   "outputs": [
    {
     "name": "stdout",
     "output_type": "stream",
     "text": [
      "3305 2571\n"
     ]
    }
   ],
   "source": [
    "twse = pd.read_parquet(\"tw/ind/TWSE.parquet\")\n",
    "twotci = pd.read_parquet(\"tw/ind/TWOTCI.parquet\")\n",
    "print(len(twse), len(twotci))\n",
    "def convert_to_datetime(date_str):\n",
    "    date_str = date_str.strip()\n",
    "    year = int(date_str[:3]) + 1911\n",
    "    month = int(date_str[4:6])\n",
    "    day = int(date_str[7:9])\n",
    "    return datetime(year, month, day)\n",
    "    \n",
    "twotci_new = twotci[['da', '金額(千元)', '櫃買指數']]\n",
    "twotci_new.index = twotci_new['da'].apply(convert_to_datetime)\n",
    "twse_new = twse[['成交金額', '發行量加權股價指數']].loc['2014-01-01':]\n",
    "df_concat = pd.concat([twse_new, twotci_new.iloc[:, [1,2]]], axis=1).sort_index(ascending=True)\n",
    "df = df_concat.apply(lambda x: x.str.replace(\",\", '')).astype(float).dropna()"
   ]
  },
  {
   "cell_type": "code",
   "execution_count": 68,
   "metadata": {},
   "outputs": [
    {
     "data": {
      "text/html": [
       "<div>\n",
       "<style scoped>\n",
       "    .dataframe tbody tr th:only-of-type {\n",
       "        vertical-align: middle;\n",
       "    }\n",
       "\n",
       "    .dataframe tbody tr th {\n",
       "        vertical-align: top;\n",
       "    }\n",
       "\n",
       "    .dataframe thead th {\n",
       "        text-align: right;\n",
       "    }\n",
       "</style>\n",
       "<table border=\"1\" class=\"dataframe\">\n",
       "  <thead>\n",
       "    <tr style=\"text-align: right;\">\n",
       "      <th></th>\n",
       "      <th>成交金額</th>\n",
       "      <th>發行量加權股價指數</th>\n",
       "      <th>金額(千元)</th>\n",
       "      <th>櫃買指數</th>\n",
       "    </tr>\n",
       "  </thead>\n",
       "  <tbody>\n",
       "    <tr>\n",
       "      <th>2014-01-02</th>\n",
       "      <td>9.211540e+10</td>\n",
       "      <td>8612.54</td>\n",
       "      <td>2.726622e+10</td>\n",
       "      <td>130.70</td>\n",
       "    </tr>\n",
       "    <tr>\n",
       "      <th>2014-01-03</th>\n",
       "      <td>9.348146e+10</td>\n",
       "      <td>8546.54</td>\n",
       "      <td>2.692302e+10</td>\n",
       "      <td>131.04</td>\n",
       "    </tr>\n",
       "    <tr>\n",
       "      <th>2014-01-06</th>\n",
       "      <td>9.609577e+10</td>\n",
       "      <td>8500.01</td>\n",
       "      <td>3.040079e+10</td>\n",
       "      <td>130.28</td>\n",
       "    </tr>\n",
       "    <tr>\n",
       "      <th>2014-01-07</th>\n",
       "      <td>9.718154e+10</td>\n",
       "      <td>8512.30</td>\n",
       "      <td>2.535282e+10</td>\n",
       "      <td>131.34</td>\n",
       "    </tr>\n",
       "    <tr>\n",
       "      <th>2014-01-08</th>\n",
       "      <td>1.172220e+11</td>\n",
       "      <td>8556.01</td>\n",
       "      <td>3.232564e+10</td>\n",
       "      <td>131.85</td>\n",
       "    </tr>\n",
       "    <tr>\n",
       "      <th>...</th>\n",
       "      <td>...</td>\n",
       "      <td>...</td>\n",
       "      <td>...</td>\n",
       "      <td>...</td>\n",
       "    </tr>\n",
       "    <tr>\n",
       "      <th>2024-06-24</th>\n",
       "      <td>5.173075e+11</td>\n",
       "      <td>22813.70</td>\n",
       "      <td>9.655997e+10</td>\n",
       "      <td>267.56</td>\n",
       "    </tr>\n",
       "    <tr>\n",
       "      <th>2024-06-25</th>\n",
       "      <td>4.822124e+11</td>\n",
       "      <td>22875.97</td>\n",
       "      <td>8.976520e+10</td>\n",
       "      <td>268.29</td>\n",
       "    </tr>\n",
       "    <tr>\n",
       "      <th>2024-06-26</th>\n",
       "      <td>4.729230e+11</td>\n",
       "      <td>22986.69</td>\n",
       "      <td>9.829917e+10</td>\n",
       "      <td>271.14</td>\n",
       "    </tr>\n",
       "    <tr>\n",
       "      <th>2024-06-27</th>\n",
       "      <td>4.503643e+11</td>\n",
       "      <td>22905.98</td>\n",
       "      <td>9.335572e+10</td>\n",
       "      <td>269.46</td>\n",
       "    </tr>\n",
       "    <tr>\n",
       "      <th>2024-06-28</th>\n",
       "      <td>4.484959e+11</td>\n",
       "      <td>23032.25</td>\n",
       "      <td>1.104755e+11</td>\n",
       "      <td>273.35</td>\n",
       "    </tr>\n",
       "  </tbody>\n",
       "</table>\n",
       "<p>2562 rows × 4 columns</p>\n",
       "</div>"
      ],
      "text/plain": [
       "                    成交金額  發行量加權股價指數        金額(千元)    櫃買指數\n",
       "2014-01-02  9.211540e+10    8612.54  2.726622e+10  130.70\n",
       "2014-01-03  9.348146e+10    8546.54  2.692302e+10  131.04\n",
       "2014-01-06  9.609577e+10    8500.01  3.040079e+10  130.28\n",
       "2014-01-07  9.718154e+10    8512.30  2.535282e+10  131.34\n",
       "2014-01-08  1.172220e+11    8556.01  3.232564e+10  131.85\n",
       "...                  ...        ...           ...     ...\n",
       "2024-06-24  5.173075e+11   22813.70  9.655997e+10  267.56\n",
       "2024-06-25  4.822124e+11   22875.97  8.976520e+10  268.29\n",
       "2024-06-26  4.729230e+11   22986.69  9.829917e+10  271.14\n",
       "2024-06-27  4.503643e+11   22905.98  9.335572e+10  269.46\n",
       "2024-06-28  4.484959e+11   23032.25  1.104755e+11  273.35\n",
       "\n",
       "[2562 rows x 4 columns]"
      ]
     },
     "execution_count": 68,
     "metadata": {},
     "output_type": "execute_result"
    }
   ],
   "source": [
    "df"
   ]
  }
 ],
 "metadata": {
  "kernelspec": {
   "display_name": "Python 3",
   "language": "python",
   "name": "python3"
  },
  "language_info": {
   "codemirror_mode": {
    "name": "ipython",
    "version": 3
   },
   "file_extension": ".py",
   "mimetype": "text/x-python",
   "name": "python",
   "nbconvert_exporter": "python",
   "pygments_lexer": "ipython3",
   "version": "3.11.9"
  }
 },
 "nbformat": 4,
 "nbformat_minor": 2
}
