{
 "cells": [
  {
   "cell_type": "code",
   "execution_count": 2,
   "metadata": {},
   "outputs": [
    {
     "name": "stdout",
     "output_type": "stream",
     "text": [
      "/Users/test/risksoft/TS/db\n"
     ]
    }
   ],
   "source": [
    "import numpy as np\n",
    "import pandas as pd\n",
    "import matplotlib.pyplot as plt \n",
    "from tqdm import tqdm\n",
    "import warnings\n",
    "import statsmodels.api as sm\n",
    "import os\n",
    "warnings.filterwarnings(\"ignore\")\n",
    "os.chdir(\"../../db\")\n",
    "print(os.getcwd())"
   ]
  },
  {
   "cell_type": "code",
   "execution_count": 6,
   "metadata": {},
   "outputs": [],
   "source": [
    "pct_close = pd.read_parquet(\"tw/pdata/close_pct.parquet\")\n",
    "pct_close_w = pct_close.resample(\"W-FRI\").sum()\n",
    "\n",
    "indexes = pct_close_w.index\n",
    "tickers = pct_close_w.iloc[:, :].columns\n",
    "indices = indexes[52:104]\n",
    "forecast = np.zeros((len(indices), len(tickers)))\n",
    "print(indices[0], indices[-1])\n",
    "for index, date in enumerate(tqdm(indices, desc=f\"arma model for top {len(tickers)}, enumerate by da\")):\n",
    "    pct_train = pct_close_w.loc[indexes[index]:date]\n",
    "    for i in range(len(tickers)):\n",
    "        series = pct_train[tickers[i]]\n",
    "        if series.isna().any():\n",
    "            prediction = 0\n",
    "            print(tickers[i], \"failed at\", date)\n",
    "            continue\n",
    "            ###### ARIMA ma\n",
    "        else:\n",
    "            model = sm.tsa.arima.ARIMA(series, order=(2, 0, 0))\n",
    "            model_fit = model.fit()\n",
    "            prediction = model_fit.forecast().values[0]\n",
    "        forecast[index, i] = prediction\n",
    "factor = pd.DataFrame(forecast, columns=tickers, index=indices)\n"
   ]
  },
  {
   "cell_type": "code",
   "execution_count": null,
   "metadata": {},
   "outputs": [],
   "source": []
  }
 ],
 "metadata": {
  "kernelspec": {
   "display_name": "Python 3",
   "language": "python",
   "name": "python3"
  },
  "language_info": {
   "codemirror_mode": {
    "name": "ipython",
    "version": 3
   },
   "file_extension": ".py",
   "mimetype": "text/x-python",
   "name": "python",
   "nbconvert_exporter": "python",
   "pygments_lexer": "ipython3",
   "version": "3.11.9"
  }
 },
 "nbformat": 4,
 "nbformat_minor": 2
}
