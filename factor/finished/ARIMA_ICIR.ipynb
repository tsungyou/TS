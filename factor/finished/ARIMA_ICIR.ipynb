{
 "cells": [
  {
   "cell_type": "code",
   "execution_count": 72,
   "metadata": {},
   "outputs": [],
   "source": [
    "import pandas as pd\n",
    "import yfinance as yf\n",
    "import statsmodels.api as sm\n",
    "import warnings\n",
    "from statsmodels.graphics.tsaplots import plot_acf, plot_pacf\n",
    "import numpy as np\n",
    "import pandas as pd\n",
    "import matplotlib.pyplot as plt\n",
    "from datetime import datetime, timedelta\n",
    "from statsmodels.tsa.stattools import pacf\n",
    "from tqdm import tqdm\n",
    "warnings.filterwarnings(\"ignore\")\n",
    "close = pd.read_parquet(\"../research_IC/Adj_close.parquet\")\n",
    "df_close = close\n",
    "df_close.dropna(how='all', axis=0, inplace=True)\n",
    "df_close.dropna(how='all', axis=1, inplace=True)\n",
    "pct_change = df_close.pct_change().dropna(axis=0, how='all').loc['2010-01-01':] # 3/19\n",
    "pct_change = pct_change.resample(\"W\").sum()"
   ]
  },
  {
   "cell_type": "code",
   "execution_count": null,
   "metadata": {},
   "outputs": [],
   "source": [
    "def get_best_lags(df):\n",
    "    # df = pct_change_train[ticker]\n",
    "    pacf_values = pacf(df, method='ywm')\n",
    "    N = len(df)\n",
    "    threshold = 1.96 / np.sqrt(N)\n",
    "    significant_indices = np.where(np.abs(pacf_values) > threshold)[0]\n",
    "    # significant_pacf_values = pacf_values[significant_indices]\n",
    "    if len(significant_indices) >= 2:\n",
    "        best_lag_n = significant_indices[1]\n",
    "    elif len(significant_indices) == 1:\n",
    "        best_lag_n = np.argmax(np.abs(pacf_values[1:])) + 1\n",
    "    return best_lag_n\n",
    "\n",
    "stock_list = list(df_close.columns)\n",
    "factors = {}\n",
    "indices = []\n",
    "backtest_period = 25\n",
    "list_stock = list(pct_change.columns)\n",
    "for index in tqdm(range(len(pct_change)-backtest_period)):\n",
    "    prediction_factor = [0] * len(list_stock)\n",
    "\n",
    "    end_date_of_calculation = pct_change.iloc[index+backtest_period].name\n",
    "    start_date_of_calculation = pct_change.iloc[index].name\n",
    "    pct_change_train = pct_change[start_date_of_calculation:end_date_of_calculation]\n",
    "    for ticker in stock_list[:100]:\n",
    "        #get max lags with pacf\n",
    "        train_data = pct_change_train[ticker]\n",
    "        if np.mean(train_data) == 0:\n",
    "            appender = 0\n",
    "        else:\n",
    "            best_lag_n = get_best_lags(train_data)\n",
    "            model = sm.tsa.arima.ARIMA(train_data, order=(best_lag_n, 0, 0)) # order = (ar_t, i_t, ma_t), for ar model only => ma_t = 0\n",
    "            model_fit = model.fit()\n",
    "            prediction = model_fit.forecast()\n",
    "            appender = prediction.item()\n",
    "        prediction_factor.append(appender)\n",
    "    factors[end_date_of_calculation] = prediction_factor\n",
    "factors_final = pd.DataFrame(factors).T\n",
    "factors_final.columns = stock_list[:100]"
   ]
  },
  {
   "cell_type": "code",
   "execution_count": 94,
   "metadata": {},
   "outputs": [],
   "source": [
    "factors_processed = factors_final[factors_final != 0].dropna(how='all', axis=1)\n",
    "factors_processed.columns = stock_list[:100]\n",
    "factors_final.to_parquet(\"ARIMA_freqW_factors_20d_bestlag_first100.parquet\")\n"
   ]
  },
  {
   "cell_type": "code",
   "execution_count": null,
   "metadata": {},
   "outputs": [],
   "source": [
    "# calculate ICIR"
   ]
  }
 ],
 "metadata": {
  "kernelspec": {
   "display_name": "Python 3",
   "language": "python",
   "name": "python3"
  },
  "language_info": {
   "codemirror_mode": {
    "name": "ipython",
    "version": 3
   },
   "file_extension": ".py",
   "mimetype": "text/x-python",
   "name": "python",
   "nbconvert_exporter": "python",
   "pygments_lexer": "ipython3",
   "version": "3.11.9"
  }
 },
 "nbformat": 4,
 "nbformat_minor": 2
}
