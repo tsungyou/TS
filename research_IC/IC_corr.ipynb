{
 "cells": [
  {
   "cell_type": "code",
   "execution_count": 29,
   "metadata": {},
   "outputs": [],
   "source": [
    "import pandas as pd\n",
    "import matplotlib.pyplot as plt\n",
    "import scipy.stats as st\n",
    "from mathematics import AlphaFunctions\n",
    "# import abc\n",
    "class Database(AlphaFunctions):\n",
    "\n",
    "    __slots__ = (\"fft\", \"arima\", \"icir\", \"_close\")\n",
    "\n",
    "    def __init__(self):\n",
    "        super().__init__()\n",
    "        self._close = pd.read_parquet(\"Adj_close.parquet\")\n",
    "    \n",
    "    @property\n",
    "    def close(self):\n",
    "        return self._close\n",
    "    \n",
    "    @close.setter\n",
    "    def close(self, adj_close):\n",
    "        self._close = adj_close\n",
    "\n",
    "    @close.deleter\n",
    "    def close(self):\n",
    "        del self._close\n",
    "        print('del complete')\n",
    "\n",
    "    def __encapsulate(self):\n",
    "        print(\"call encapsulated function\")\n",
    "\n",
    "    @staticmethod\n",
    "    def plot_long_short_return(close):\n",
    "        plt.plot(close)\n",
    "        plt.show()\n",
    "\n",
    "    @classmethod\n",
    "    def plot_existing_factor(cls):\n",
    "        adj_close = cls().close\n",
    "        plt.plot(adj_close.loc[pd.to_datetime('2020-01-01'):]['1234.TW'])\n",
    "        plt.title(\"1234.TW, 2020\")\n",
    "        plt.show()\n",
    "\n",
    "a = Database()"
   ]
  }
 ],
 "metadata": {
  "kernelspec": {
   "display_name": "Python 3",
   "language": "python",
   "name": "python3"
  },
  "language_info": {
   "codemirror_mode": {
    "name": "ipython",
    "version": 3
   },
   "file_extension": ".py",
   "mimetype": "text/x-python",
   "name": "python",
   "nbconvert_exporter": "python",
   "pygments_lexer": "ipython3",
   "version": "3.11.9"
  }
 },
 "nbformat": 4,
 "nbformat_minor": 2
}
