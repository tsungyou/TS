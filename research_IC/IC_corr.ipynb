{
 "cells": [
  {
   "cell_type": "code",
   "execution_count": null,
   "metadata": {},
   "outputs": [],
   "source": [
    "import pandas as pd\n",
    "import matplotlib.pyplot as plt\n",
    "import scipy.stats as st\n",
    "\n",
    "close = pd.read_parquet(\"Adj_close.parquet\")\n",
    "df = close.loc['2020-01-01':]"
   ]
  },
  {
   "cell_type": "code",
   "execution_count": 9,
   "metadata": {},
   "outputs": [],
   "source": [
    "ma20 = df.rolling(window=int(2)).mean()\n",
    "diff_ma20 = df/ma20 - 1\n",
    "diff_ma20.dropna(how='all', axis=0, inplace=True)\n",
    "# def get_demean_weighting(self, data):\n",
    "df1 = diff_ma20.dropna(axis='columns', how='all').copy()\n",
    "demean = df1.sub(df1.mean(axis=1), axis=0)\n",
    "weighting = demean.div(demean.abs().sum(axis=1), axis=0)\n",
    "# 計算出來的因子（diff_ma20）是當天計算出來的，所以要再下一個交易日Open/Current Close買進\n"
   ]
  }
 ],
 "metadata": {
  "kernelspec": {
   "display_name": "Python 3",
   "language": "python",
   "name": "python3"
  },
  "language_info": {
   "codemirror_mode": {
    "name": "ipython",
    "version": 3
   },
   "file_extension": ".py",
   "mimetype": "text/x-python",
   "name": "python",
   "nbconvert_exporter": "python",
   "pygments_lexer": "ipython3",
   "version": "3.11.9"
  }
 },
 "nbformat": 4,
 "nbformat_minor": 2
}
