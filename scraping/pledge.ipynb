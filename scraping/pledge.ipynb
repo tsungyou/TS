{
 "cells": [
  {
   "cell_type": "code",
   "execution_count": 100,
   "metadata": {},
   "outputs": [
    {
     "data": {
      "text/plain": [
       "['2002',\n",
       " '2006',\n",
       " '2007',\n",
       " '2008',\n",
       " '2009',\n",
       " '2010',\n",
       " '2012',\n",
       " '2013',\n",
       " '2014',\n",
       " '2015',\n",
       " '2017',\n",
       " '2020',\n",
       " '2022',\n",
       " '2023',\n",
       " '2024',\n",
       " '2025',\n",
       " '2027',\n",
       " '2028',\n",
       " '2029',\n",
       " '2030',\n",
       " '2031',\n",
       " '2032',\n",
       " '2033',\n",
       " '2034',\n",
       " '2038',\n",
       " '2069',\n",
       " '2211',\n",
       " '3004',\n",
       " '5007',\n",
       " '5538',\n",
       " '9958']"
      ]
     },
     "execution_count": 100,
     "metadata": {},
     "output_type": "execute_result"
    }
   ],
   "source": [
    "import requests\n",
    "from bs4 import BeautifulSoup\n",
    "from fake_useragent import UserAgent\n",
    "def getSteelList():\n",
    "    url = \"https://histock.tw/twclass/A021\"\n",
    "    user_agent = UserAgent()\n",
    "    headers = {\"user-agent\": user_agent.random}\n",
    "    res = requests.get(url, headers=headers)\n",
    "    soup = BeautifulSoup(res.text, 'lxml')\n",
    "\n",
    "    a = soup.find_all(\"span\", {\"class\":\"w60 lft-p stockno\"})\n",
    "    list_ = []\n",
    "    for i, test in enumerate(a):\n",
    "        if i == 0:\n",
    "            continue\n",
    "        list_.append(test.text)\n",
    "    return list_\n",
    "list_ = getSteelList()\n",
    "list_"
   ]
  },
  {
   "cell_type": "code",
   "execution_count": 122,
   "metadata": {},
   "outputs": [
    {
     "name": "stdout",
     "output_type": "stream",
     "text": [
      "2022 109\n",
      "2023 109\n",
      "2024 109\n",
      "2025 109\n",
      "2027 109\n"
     ]
    },
    {
     "ename": "NoSuchWindowException",
     "evalue": "Message: no such window: target window already closed\nfrom unknown error: web view not found\n  (Session info: chrome=125.0.6422.113)\nStacktrace:\n0   chromedriver                        0x00000001092626c8 chromedriver + 6149832\n1   chromedriver                        0x0000000109259cea chromedriver + 6114538\n2   chromedriver                        0x0000000108ce6d5c chromedriver + 400732\n3   chromedriver                        0x0000000108cbc294 chromedriver + 225940\n4   chromedriver                        0x0000000108d5f6fd chromedriver + 894717\n5   chromedriver                        0x0000000108d75a98 chromedriver + 985752\n6   chromedriver                        0x0000000108d56a53 chromedriver + 858707\n7   chromedriver                        0x0000000108d266d5 chromedriver + 661205\n8   chromedriver                        0x0000000108d26f6e chromedriver + 663406\n9   chromedriver                        0x0000000109223d00 chromedriver + 5893376\n10  chromedriver                        0x00000001092294cc chromedriver + 5915852\n11  chromedriver                        0x00000001092058c4 chromedriver + 5769412\n12  chromedriver                        0x0000000109229f99 chromedriver + 5918617\n13  chromedriver                        0x00000001091f6ed4 chromedriver + 5709524\n14  chromedriver                        0x000000010924a018 chromedriver + 6049816\n15  chromedriver                        0x000000010924a1d7 chromedriver + 6050263\n16  chromedriver                        0x000000010925989e chromedriver + 6113438\n17  libsystem_pthread.dylib             0x00007ff80aa02202 _pthread_start + 99\n18  libsystem_pthread.dylib             0x00007ff80a9fdbab thread_start + 15\n",
     "output_type": "error",
     "traceback": [
      "\u001b[0;31m---------------------------------------------------------------------------\u001b[0m",
      "\u001b[0;31mNoSuchWindowException\u001b[0m                     Traceback (most recent call last)",
      "Cell \u001b[0;32mIn[122], line 49\u001b[0m\n\u001b[1;32m     45\u001b[0m search_button\u001b[38;5;241m.\u001b[39mclick()\n\u001b[1;32m     47\u001b[0m time\u001b[38;5;241m.\u001b[39msleep(\u001b[38;5;241m3\u001b[39m)\n\u001b[0;32m---> 49\u001b[0m \u001b[43mWebDriverWait\u001b[49m\u001b[43m(\u001b[49m\u001b[43mdriver\u001b[49m\u001b[43m,\u001b[49m\u001b[43m \u001b[49m\u001b[38;5;241;43m10\u001b[39;49m\u001b[43m)\u001b[49m\u001b[38;5;241;43m.\u001b[39;49m\u001b[43muntil\u001b[49m\u001b[43m(\u001b[49m\n\u001b[1;32m     50\u001b[0m \u001b[43m    \u001b[49m\u001b[43mEC\u001b[49m\u001b[38;5;241;43m.\u001b[39;49m\u001b[43mvisibility_of_element_located\u001b[49m\u001b[43m(\u001b[49m\u001b[43m(\u001b[49m\u001b[43mBy\u001b[49m\u001b[38;5;241;43m.\u001b[39;49m\u001b[43mCLASS_NAME\u001b[49m\u001b[43m,\u001b[49m\u001b[43m \u001b[49m\u001b[38;5;124;43m\"\u001b[39;49m\u001b[38;5;124;43mhasBorder\u001b[39;49m\u001b[38;5;124;43m\"\u001b[39;49m\u001b[43m)\u001b[49m\u001b[43m)\u001b[49m\n\u001b[1;32m     51\u001b[0m \u001b[43m\u001b[49m\u001b[43m)\u001b[49m\n\u001b[1;32m     53\u001b[0m pledge_table \u001b[38;5;241m=\u001b[39m driver\u001b[38;5;241m.\u001b[39mfind_element(By\u001b[38;5;241m.\u001b[39mCLASS_NAME, \u001b[38;5;124m\"\u001b[39m\u001b[38;5;124mhasBorder\u001b[39m\u001b[38;5;124m\"\u001b[39m)\n\u001b[1;32m     54\u001b[0m rows \u001b[38;5;241m=\u001b[39m pledge_table\u001b[38;5;241m.\u001b[39mfind_elements(By\u001b[38;5;241m.\u001b[39mTAG_NAME, \u001b[38;5;124m\"\u001b[39m\u001b[38;5;124mtr\u001b[39m\u001b[38;5;124m\"\u001b[39m)\n",
      "File \u001b[0;32m~/workspace/Capstone_NTU/.env/lib/python3.11/site-packages/selenium/webdriver/support/wait.py:96\u001b[0m, in \u001b[0;36mWebDriverWait.until\u001b[0;34m(self, method, message)\u001b[0m\n\u001b[1;32m     94\u001b[0m \u001b[38;5;28;01mwhile\u001b[39;00m \u001b[38;5;28;01mTrue\u001b[39;00m:\n\u001b[1;32m     95\u001b[0m     \u001b[38;5;28;01mtry\u001b[39;00m:\n\u001b[0;32m---> 96\u001b[0m         value \u001b[38;5;241m=\u001b[39m \u001b[43mmethod\u001b[49m\u001b[43m(\u001b[49m\u001b[38;5;28;43mself\u001b[39;49m\u001b[38;5;241;43m.\u001b[39;49m\u001b[43m_driver\u001b[49m\u001b[43m)\u001b[49m\n\u001b[1;32m     97\u001b[0m         \u001b[38;5;28;01mif\u001b[39;00m value:\n\u001b[1;32m     98\u001b[0m             \u001b[38;5;28;01mreturn\u001b[39;00m value\n",
      "File \u001b[0;32m~/workspace/Capstone_NTU/.env/lib/python3.11/site-packages/selenium/webdriver/support/expected_conditions.py:156\u001b[0m, in \u001b[0;36mvisibility_of_element_located.<locals>._predicate\u001b[0;34m(driver)\u001b[0m\n\u001b[1;32m    154\u001b[0m \u001b[38;5;28;01mdef\u001b[39;00m \u001b[38;5;21m_predicate\u001b[39m(driver: WebDriverOrWebElement):\n\u001b[1;32m    155\u001b[0m     \u001b[38;5;28;01mtry\u001b[39;00m:\n\u001b[0;32m--> 156\u001b[0m         \u001b[38;5;28;01mreturn\u001b[39;00m _element_if_visible(\u001b[43mdriver\u001b[49m\u001b[38;5;241;43m.\u001b[39;49m\u001b[43mfind_element\u001b[49m\u001b[43m(\u001b[49m\u001b[38;5;241;43m*\u001b[39;49m\u001b[43mlocator\u001b[49m\u001b[43m)\u001b[49m)\n\u001b[1;32m    157\u001b[0m     \u001b[38;5;28;01mexcept\u001b[39;00m StaleElementReferenceException:\n\u001b[1;32m    158\u001b[0m         \u001b[38;5;28;01mreturn\u001b[39;00m \u001b[38;5;28;01mFalse\u001b[39;00m\n",
      "File \u001b[0;32m~/workspace/Capstone_NTU/.env/lib/python3.11/site-packages/selenium/webdriver/remote/webdriver.py:741\u001b[0m, in \u001b[0;36mWebDriver.find_element\u001b[0;34m(self, by, value)\u001b[0m\n\u001b[1;32m    738\u001b[0m     by \u001b[38;5;241m=\u001b[39m By\u001b[38;5;241m.\u001b[39mCSS_SELECTOR\n\u001b[1;32m    739\u001b[0m     value \u001b[38;5;241m=\u001b[39m \u001b[38;5;124mf\u001b[39m\u001b[38;5;124m'\u001b[39m\u001b[38;5;124m[name=\u001b[39m\u001b[38;5;124m\"\u001b[39m\u001b[38;5;132;01m{\u001b[39;00mvalue\u001b[38;5;132;01m}\u001b[39;00m\u001b[38;5;124m\"\u001b[39m\u001b[38;5;124m]\u001b[39m\u001b[38;5;124m'\u001b[39m\n\u001b[0;32m--> 741\u001b[0m \u001b[38;5;28;01mreturn\u001b[39;00m \u001b[38;5;28;43mself\u001b[39;49m\u001b[38;5;241;43m.\u001b[39;49m\u001b[43mexecute\u001b[49m\u001b[43m(\u001b[49m\u001b[43mCommand\u001b[49m\u001b[38;5;241;43m.\u001b[39;49m\u001b[43mFIND_ELEMENT\u001b[49m\u001b[43m,\u001b[49m\u001b[43m \u001b[49m\u001b[43m{\u001b[49m\u001b[38;5;124;43m\"\u001b[39;49m\u001b[38;5;124;43musing\u001b[39;49m\u001b[38;5;124;43m\"\u001b[39;49m\u001b[43m:\u001b[49m\u001b[43m \u001b[49m\u001b[43mby\u001b[49m\u001b[43m,\u001b[49m\u001b[43m \u001b[49m\u001b[38;5;124;43m\"\u001b[39;49m\u001b[38;5;124;43mvalue\u001b[39;49m\u001b[38;5;124;43m\"\u001b[39;49m\u001b[43m:\u001b[49m\u001b[43m \u001b[49m\u001b[43mvalue\u001b[49m\u001b[43m}\u001b[49m\u001b[43m)\u001b[49m[\u001b[38;5;124m\"\u001b[39m\u001b[38;5;124mvalue\u001b[39m\u001b[38;5;124m\"\u001b[39m]\n",
      "File \u001b[0;32m~/workspace/Capstone_NTU/.env/lib/python3.11/site-packages/selenium/webdriver/remote/webdriver.py:347\u001b[0m, in \u001b[0;36mWebDriver.execute\u001b[0;34m(self, driver_command, params)\u001b[0m\n\u001b[1;32m    345\u001b[0m response \u001b[38;5;241m=\u001b[39m \u001b[38;5;28mself\u001b[39m\u001b[38;5;241m.\u001b[39mcommand_executor\u001b[38;5;241m.\u001b[39mexecute(driver_command, params)\n\u001b[1;32m    346\u001b[0m \u001b[38;5;28;01mif\u001b[39;00m response:\n\u001b[0;32m--> 347\u001b[0m     \u001b[38;5;28;43mself\u001b[39;49m\u001b[38;5;241;43m.\u001b[39;49m\u001b[43merror_handler\u001b[49m\u001b[38;5;241;43m.\u001b[39;49m\u001b[43mcheck_response\u001b[49m\u001b[43m(\u001b[49m\u001b[43mresponse\u001b[49m\u001b[43m)\u001b[49m\n\u001b[1;32m    348\u001b[0m     response[\u001b[38;5;124m\"\u001b[39m\u001b[38;5;124mvalue\u001b[39m\u001b[38;5;124m\"\u001b[39m] \u001b[38;5;241m=\u001b[39m \u001b[38;5;28mself\u001b[39m\u001b[38;5;241m.\u001b[39m_unwrap_value(response\u001b[38;5;241m.\u001b[39mget(\u001b[38;5;124m\"\u001b[39m\u001b[38;5;124mvalue\u001b[39m\u001b[38;5;124m\"\u001b[39m, \u001b[38;5;28;01mNone\u001b[39;00m))\n\u001b[1;32m    349\u001b[0m     \u001b[38;5;28;01mreturn\u001b[39;00m response\n",
      "File \u001b[0;32m~/workspace/Capstone_NTU/.env/lib/python3.11/site-packages/selenium/webdriver/remote/errorhandler.py:229\u001b[0m, in \u001b[0;36mErrorHandler.check_response\u001b[0;34m(self, response)\u001b[0m\n\u001b[1;32m    227\u001b[0m         alert_text \u001b[38;5;241m=\u001b[39m value[\u001b[38;5;124m\"\u001b[39m\u001b[38;5;124malert\u001b[39m\u001b[38;5;124m\"\u001b[39m]\u001b[38;5;241m.\u001b[39mget(\u001b[38;5;124m\"\u001b[39m\u001b[38;5;124mtext\u001b[39m\u001b[38;5;124m\"\u001b[39m)\n\u001b[1;32m    228\u001b[0m     \u001b[38;5;28;01mraise\u001b[39;00m exception_class(message, screen, stacktrace, alert_text)  \u001b[38;5;66;03m# type: ignore[call-arg]  # mypy is not smart enough here\u001b[39;00m\n\u001b[0;32m--> 229\u001b[0m \u001b[38;5;28;01mraise\u001b[39;00m exception_class(message, screen, stacktrace)\n",
      "\u001b[0;31mNoSuchWindowException\u001b[0m: Message: no such window: target window already closed\nfrom unknown error: web view not found\n  (Session info: chrome=125.0.6422.113)\nStacktrace:\n0   chromedriver                        0x00000001092626c8 chromedriver + 6149832\n1   chromedriver                        0x0000000109259cea chromedriver + 6114538\n2   chromedriver                        0x0000000108ce6d5c chromedriver + 400732\n3   chromedriver                        0x0000000108cbc294 chromedriver + 225940\n4   chromedriver                        0x0000000108d5f6fd chromedriver + 894717\n5   chromedriver                        0x0000000108d75a98 chromedriver + 985752\n6   chromedriver                        0x0000000108d56a53 chromedriver + 858707\n7   chromedriver                        0x0000000108d266d5 chromedriver + 661205\n8   chromedriver                        0x0000000108d26f6e chromedriver + 663406\n9   chromedriver                        0x0000000109223d00 chromedriver + 5893376\n10  chromedriver                        0x00000001092294cc chromedriver + 5915852\n11  chromedriver                        0x00000001092058c4 chromedriver + 5769412\n12  chromedriver                        0x0000000109229f99 chromedriver + 5918617\n13  chromedriver                        0x00000001091f6ed4 chromedriver + 5709524\n14  chromedriver                        0x000000010924a018 chromedriver + 6049816\n15  chromedriver                        0x000000010924a1d7 chromedriver + 6050263\n16  chromedriver                        0x000000010925989e chromedriver + 6113438\n17  libsystem_pthread.dylib             0x00007ff80aa02202 _pthread_start + 99\n18  libsystem_pthread.dylib             0x00007ff80a9fdbab thread_start + 15\n"
     ]
    }
   ],
   "source": [
    "from selenium.webdriver.support.ui import Select\n",
    "import time\n",
    "import pandas as pd\n",
    "from selenium import webdriver\n",
    "from selenium.webdriver.chrome.service import Service\n",
    "from selenium.webdriver.common.by import By\n",
    "from selenium.webdriver.chrome.options import Options\n",
    "from selenium.webdriver.support.ui import WebDriverWait\n",
    "from selenium.webdriver.support import expected_conditions as EC\n",
    "for year in [109]:\n",
    "    service = Service('')  # Replace 'path_to_chromedriver' with the actual path to ChromeDriver\n",
    "    driver = webdriver.Chrome(service=service)\n",
    "    url = \"https://mops.twse.com.tw/mops/web/stapap1\"\n",
    "    driver.get(url)\n",
    "    time.sleep(3)\n",
    "    dropdown = Select(driver.find_element(By.ID, \"isnew\"))\n",
    "    dropdown.select_by_visible_text(\"歷史資料\")\n",
    "    for ticker in list_[12:]:\n",
    "        time.sleep(1)\n",
    "        \n",
    "        if year != 113:\n",
    "            loop_month = 13\n",
    "        else:\n",
    "            loop_month = 5\n",
    "        final_df = pd.DataFrame()\n",
    "        for month in range(1, loop_month):\n",
    "            time.sleep(1)\n",
    "            search_box = WebDriverWait(driver, 10).until(\n",
    "                EC.presence_of_element_located((By.CSS_SELECTOR, \"input[type='text'].textbox[name='co_id']\"))\n",
    "            )\n",
    "            search_box.clear()\n",
    "            search_box.send_keys(ticker)\n",
    "\n",
    "            year_box = WebDriverWait(driver, 10).until(\n",
    "                EC.presence_of_element_located((By.CSS_SELECTOR, \"input[type='text'].textbox[name='year']\"))\n",
    "            )\n",
    "            year_box.clear()\n",
    "            year_box.send_keys(year)    \n",
    "\n",
    "            dropdown = Select(driver.find_element(By.ID, \"month\"))\n",
    "            dropdown.select_by_visible_text(str(month))\n",
    "            search_button = WebDriverWait(driver, 10).until(\n",
    "                EC.element_to_be_clickable((By.XPATH, \"//input[@value=' 查詢 ']\"))\n",
    "            )\n",
    "            search_button.click()\n",
    "\n",
    "            time.sleep(3)\n",
    "\n",
    "            WebDriverWait(driver, 10).until(\n",
    "                EC.visibility_of_element_located((By.CLASS_NAME, \"hasBorder\"))\n",
    "            )\n",
    "\n",
    "            pledge_table = driver.find_element(By.CLASS_NAME, \"hasBorder\")\n",
    "            rows = pledge_table.find_elements(By.TAG_NAME, \"tr\")\n",
    "            pledge_info = []\n",
    "            for row in rows:\n",
    "                cols = row.find_elements(By.TAG_NAME, \"td\")\n",
    "                cols = [ele.text.strip() for ele in cols]\n",
    "                if len(cols) == 9:  # Drop sublists with length not equal to 9\n",
    "                    pledge_info.append(cols)\n",
    "            pledge_df = pd.DataFrame(pledge_info)\n",
    "            pledge_df['year']    = year\n",
    "            pledge_df['month']   = month\n",
    "            pledge_df['ticker']  = ticker\n",
    "\n",
    "            final_df = pd.concat([final_df, pledge_df])\n",
    "        print(ticker, year)\n",
    "        final_df.columns = ['職稱', \"姓名\", \"選任時持股\", \"目前持股\", \"設質股數\", \"\t設質股數佔持股比例\", \"配偶、未成年子女及利用他人名義持有部份-內部人關係人目前持股合計\", \"配偶、未成年子女及利用他人名義持有部份-設質股數\", \"配偶、未成年子女及利用他人名義持有部份-設質比例\", \"year\", \"month\", \"ticker\"]\n",
    "\n",
    "        final_df.to_csv(f\"pledge_{year}_{ticker}.csv\")\n",
    "    driver.quit()\n",
    "    time.sleep(3)"
   ]
  },
  {
   "cell_type": "code",
   "execution_count": 119,
   "metadata": {},
   "outputs": [],
   "source": [
    "import os\n",
    "import pandas as pd\n",
    "\n",
    "# Step 1: Get all CSV files in the current directory\n",
    "csv_files = [file for file in os.listdir('.') if file.endswith('.csv')]\n",
    "\n",
    "# Step 2: Read each CSV file into a dataframe and store in a list\n",
    "dataframes = []\n",
    "for file in csv_files:\n",
    "    df = pd.read_csv(file)\n",
    "    dataframes.append(df)\n",
    "\n",
    "# Step 3: Concatenate all dataframes by columns\n",
    "concatenated_df = pd.concat(dataframes, axis=0)\n",
    "\n",
    "# Step 4: Save the concatenated dataframe to a new CSV file\n",
    "concatenated_df.to_csv('output/pledge_110_113.csv', index=False)\n"
   ]
  },
  {
   "cell_type": "code",
   "execution_count": 120,
   "metadata": {},
   "outputs": [
    {
     "data": {
      "text/plain": [
       "31822"
      ]
     },
     "execution_count": 120,
     "metadata": {},
     "output_type": "execute_result"
    }
   ],
   "source": [
    "s = pd.read_csv(\"output/pledge_110_113.csv\")\n",
    "len(s)"
   ]
  }
 ],
 "metadata": {
  "kernelspec": {
   "display_name": ".env",
   "language": "python",
   "name": "python3"
  },
  "language_info": {
   "codemirror_mode": {
    "name": "ipython",
    "version": 3
   },
   "file_extension": ".py",
   "mimetype": "text/x-python",
   "name": "python",
   "nbconvert_exporter": "python",
   "pygments_lexer": "ipython3",
   "version": "3.11.9"
  }
 },
 "nbformat": 4,
 "nbformat_minor": 2
}
