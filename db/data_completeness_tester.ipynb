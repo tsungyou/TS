{
 "cells": [
  {
   "cell_type": "code",
   "execution_count": 2,
   "metadata": {},
   "outputs": [],
   "source": [
    "import pandas as pd\n",
    "import matplotlib.pyplot as plt\n",
    "import numpy as np\n",
    "import os"
   ]
  },
  {
   "cell_type": "code",
   "execution_count": 15,
   "metadata": {},
   "outputs": [],
   "source": [
    "directories = ['tw/pb_ratio', \"tw/price\"]\n",
    "parquet_files = [os.path.join(directories[1], f) for f in os.listdir(directories[1]) if f.endswith(\".parquet\")] \n",
    "dfs = []\n",
    "parquet_files.remove(\"tw/price/2020.parquet\")\n",
    "parquet_files.remove(\"tw/price/2021.parquet\")"
   ]
  },
  {
   "cell_type": "code",
   "execution_count": 17,
   "metadata": {},
   "outputs": [
    {
     "name": "stdout",
     "output_type": "stream",
     "text": [
      "['tw/price/2023.parquet', 'tw/price/2022.parquet', 'tw/price/2024.parquet']\n"
     ]
    }
   ],
   "source": [
    "print(parquet_files)\n",
    "for file in parquet_files:\n",
    "    df = pd.read_parquet(file)\n",
    "    dfs.append(df)\n",
    "df_concat = pd.concat(dfs)\n"
   ]
  },
  {
   "cell_type": "code",
   "execution_count": 33,
   "metadata": {},
   "outputs": [],
   "source": [
    "values_dict = {\n",
    "    \"cl\": \"close\",\n",
    "    \"op\": \"open\",\n",
    "    \"vol(turnover)\": \"volume\",\n",
    "    'vol(volume)': \"volume(share)\",\n",
    "    \"yield\": \"yield\",\n",
    "    \"pe_ratio\": \"pe_ratio\",\n",
    "    \"pb_ratio\": \"pb_ratio\",\n",
    "}\n",
    "values = 'vol(turnover)'\n",
    "pivoted = df_concat.pivot(index='da', values=values, columns=\"ticker\")\n",
    "pivoted.replace(\"--\", None, inplace=True)\n",
    "pivoted = pivoted.ffill()\n",
    "pivoted = pivoted.astype(float)\n",
    "pivoted.astype(float).to_parquet(f\"tw/pdata/{values_dict[values]}.parquet\")\n",
    "pivoted_pct = pivoted.pct_change().dropna(how=\"all\")\n",
    "pivoted_pct.to_parquet(f'tw/pdata/{values_dict[values]}_pct.parquet')"
   ]
  }
 ],
 "metadata": {
  "kernelspec": {
   "display_name": "Python 3",
   "language": "python",
   "name": "python3"
  },
  "language_info": {
   "codemirror_mode": {
    "name": "ipython",
    "version": 3
   },
   "file_extension": ".py",
   "mimetype": "text/x-python",
   "name": "python",
   "nbconvert_exporter": "python",
   "pygments_lexer": "ipython3",
   "version": "3.11.9"
  }
 },
 "nbformat": 4,
 "nbformat_minor": 2
}
