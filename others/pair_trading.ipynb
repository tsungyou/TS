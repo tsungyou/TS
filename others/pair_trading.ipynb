{
 "cells": [
  {
   "cell_type": "code",
   "execution_count": 1,
   "metadata": {},
   "outputs": [
    {
     "data": {
      "text/plain": [
       "'/Users/mini/TS/others'"
      ]
     },
     "execution_count": 1,
     "metadata": {},
     "output_type": "execute_result"
    }
   ],
   "source": [
    "import os\n",
    "os.getcwd()\n",
    "download/stock_data"
   ]
  },
  {
   "cell_type": "code",
   "execution_count": 10,
   "metadata": {},
   "outputs": [],
   "source": [
    "import pandas as pd\n",
    "def convert_csv_to_parquet(fname, from_location='db', to_location='db'):\n",
    "    df = pd.read_csv(f\"{from_location}/{fname}\", sep='\\t')\n",
    "    df.columns = ['da', 'op', 'hi', 'lo', 'cl', 'vol1', 'vol2', 'spread']\n",
    "    df.set_index(pd.to_datetime(df['da']), drop=True, inplace=True)\n",
    "\n",
    "    fname_parquet = fname.replace('csv', 'parquet')\n",
    "    df.to_parquet(f\"{to_location}/{fname_parquet}\")\n",
    "list_ = [fname for fname in os.listdir(\"db\") if fname.endswith(\"csv\")]\n",
    "list_\n",
    "for fname in list_:\n",
    "    convert_csv_to_parquet(fname)"
   ]
  },
  {
   "cell_type": "code",
   "execution_count": 8,
   "metadata": {},
   "outputs": [
    {
     "data": {
      "text/html": [
       "<div>\n",
       "<style scoped>\n",
       "    .dataframe tbody tr th:only-of-type {\n",
       "        vertical-align: middle;\n",
       "    }\n",
       "\n",
       "    .dataframe tbody tr th {\n",
       "        vertical-align: top;\n",
       "    }\n",
       "\n",
       "    .dataframe thead th {\n",
       "        text-align: right;\n",
       "    }\n",
       "</style>\n",
       "<table border=\"1\" class=\"dataframe\">\n",
       "  <thead>\n",
       "    <tr style=\"text-align: right;\">\n",
       "      <th></th>\n",
       "      <th>&lt;DATE&gt;\\t&lt;OPEN&gt;\\t&lt;HIGH&gt;\\t&lt;LOW&gt;\\t&lt;CLOSE&gt;\\t&lt;TICKVOL&gt;\\t&lt;VOL&gt;\\t&lt;SPREAD&gt;</th>\n",
       "    </tr>\n",
       "  </thead>\n",
       "  <tbody>\n",
       "    <tr>\n",
       "      <th>0</th>\n",
       "      <td>2019.01.02\\t109.424\\t109.458\\t108.703\\t108.870...</td>\n",
       "    </tr>\n",
       "    <tr>\n",
       "      <th>1</th>\n",
       "      <td>2019.01.03\\t108.868\\t108.888\\t104.720\\t107.666...</td>\n",
       "    </tr>\n",
       "    <tr>\n",
       "      <th>2</th>\n",
       "      <td>2019.01.04\\t107.631\\t108.585\\t107.508\\t108.504...</td>\n",
       "    </tr>\n",
       "    <tr>\n",
       "      <th>3</th>\n",
       "      <td>2019.01.07\\t108.489\\t108.743\\t108.014\\t108.706...</td>\n",
       "    </tr>\n",
       "    <tr>\n",
       "      <th>4</th>\n",
       "      <td>2019.01.08\\t108.706\\t109.083\\t108.436\\t108.731...</td>\n",
       "    </tr>\n",
       "    <tr>\n",
       "      <th>...</th>\n",
       "      <td>...</td>\n",
       "    </tr>\n",
       "    <tr>\n",
       "      <th>1451</th>\n",
       "      <td>2024.08.05\\t146.515\\t146.650\\t141.687\\t144.180...</td>\n",
       "    </tr>\n",
       "    <tr>\n",
       "      <th>1452</th>\n",
       "      <td>2024.08.06\\t144.195\\t146.376\\t143.627\\t144.356...</td>\n",
       "    </tr>\n",
       "    <tr>\n",
       "      <th>1453</th>\n",
       "      <td>2024.08.07\\t144.335\\t147.908\\t144.309\\t146.719...</td>\n",
       "    </tr>\n",
       "    <tr>\n",
       "      <th>1454</th>\n",
       "      <td>2024.08.08\\t146.677\\t147.549\\t145.432\\t147.291...</td>\n",
       "    </tr>\n",
       "    <tr>\n",
       "      <th>1455</th>\n",
       "      <td>2024.08.09\\t147.256\\t147.818\\t146.508\\t146.763...</td>\n",
       "    </tr>\n",
       "  </tbody>\n",
       "</table>\n",
       "<p>1456 rows × 1 columns</p>\n",
       "</div>"
      ],
      "text/plain": [
       "     <DATE>\\t<OPEN>\\t<HIGH>\\t<LOW>\\t<CLOSE>\\t<TICKVOL>\\t<VOL>\\t<SPREAD>\n",
       "0     2019.01.02\\t109.424\\t109.458\\t108.703\\t108.870...                \n",
       "1     2019.01.03\\t108.868\\t108.888\\t104.720\\t107.666...                \n",
       "2     2019.01.04\\t107.631\\t108.585\\t107.508\\t108.504...                \n",
       "3     2019.01.07\\t108.489\\t108.743\\t108.014\\t108.706...                \n",
       "4     2019.01.08\\t108.706\\t109.083\\t108.436\\t108.731...                \n",
       "...                                                 ...                \n",
       "1451  2024.08.05\\t146.515\\t146.650\\t141.687\\t144.180...                \n",
       "1452  2024.08.06\\t144.195\\t146.376\\t143.627\\t144.356...                \n",
       "1453  2024.08.07\\t144.335\\t147.908\\t144.309\\t146.719...                \n",
       "1454  2024.08.08\\t146.677\\t147.549\\t145.432\\t147.291...                \n",
       "1455  2024.08.09\\t147.256\\t147.818\\t146.508\\t146.763...                \n",
       "\n",
       "[1456 rows x 1 columns]"
      ]
     },
     "execution_count": 8,
     "metadata": {},
     "output_type": "execute_result"
    }
   ],
   "source": [
    "pd.read_csv(\"db/USDJPY.csv\")"
   ]
  }
 ],
 "metadata": {
  "kernelspec": {
   "display_name": "Python 3",
   "language": "python",
   "name": "python3"
  },
  "language_info": {
   "codemirror_mode": {
    "name": "ipython",
    "version": 3
   },
   "file_extension": ".py",
   "mimetype": "text/x-python",
   "name": "python",
   "nbconvert_exporter": "python",
   "pygments_lexer": "ipython3",
   "version": "3.11.9"
  }
 },
 "nbformat": 4,
 "nbformat_minor": 2
}
