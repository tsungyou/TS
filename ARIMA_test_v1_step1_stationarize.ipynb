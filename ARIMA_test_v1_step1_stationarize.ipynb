{
 "cells": [
  {
   "cell_type": "code",
   "execution_count": 1,
   "metadata": {},
   "outputs": [],
   "source": [
    "import pandas as pd\n",
    "import numpy as np\n",
    "import matplotlib.pyplot as plt\n",
    "from statsmodels.tsa.stattools import adfuller"
   ]
  },
  {
   "cell_type": "code",
   "execution_count": 2,
   "metadata": {},
   "outputs": [
    {
     "name": "stdout",
     "output_type": "stream",
     "text": [
      "ADF stats: -2.788393659043542\n",
      "p-value: 0.05995087219214737\n",
      "(-2.788393659043542, 0.05995087219214737, 6, 95, {'1%': -3.5011373281819504, '5%': -2.8924800524857854, '10%': -2.5832749307479226}, 281.02327998180584)\n"
     ]
    }
   ],
   "source": [
    "def perform_adf_test(series):\n",
    "    result = adfuller(series)\n",
    "    print(\"ADF stats:\", result[0])\n",
    "    print(\"p-value:\", result[1])\n",
    "    print(result)\n",
    "def test_ar_ts_data(lags, coefs, length):\n",
    "    coefs = np.array(coefs)\n",
    "\n",
    "    series = [np.random.normal() for _ in range(lags)]\n",
    "    for _ in range(length):\n",
    "        prev_values = series[-lags:][::-1]\n",
    "        new_value  = np.sum(np.array(prev_values) * coefs) + np.random.normal() \n",
    "        series.append(new_value)\n",
    "    return np.array(series)\n",
    "# coef sum = 1 => non stationary\n",
    "series = test_ar_ts_data(2, [.5, .3], 100)\n",
    "perform_adf_test(series)\n"
   ]
  },
  {
   "cell_type": "code",
   "execution_count": 4,
   "metadata": {},
   "outputs": [],
   "source": [
    "import yfinance as yf\n",
    "import statsmodels.api as sm\n",
    "import warnings\n",
    "from statsmodels.graphics.tsaplots import plot_acf, plot_pacf\n",
    "warnings.filterwarnings(\"ignore\")\n",
    "df = yf.download([\"AAPL\",\"NVDA\",\"ON\",\"MCD\", \"GS\", \"GM\", \"F\"], start='2022-01-01', progress=False)\n",
    "close = df['Adj Close']"
   ]
  },
  {
   "cell_type": "code",
   "execution_count": 45,
   "metadata": {},
   "outputs": [
    {
     "data": {
      "image/png": "[encoded data removed]",
      "text/plain": [
       "<Figure size 640x480 with 1 Axes>"
      ]
     },
     "metadata": {},
     "output_type": "display_data"
    }
   ],
   "source": [
    "train_end = pd.to_datetime(\"2023-01-01\")\n",
    "test_end  = pd.to_datetime(\"2024-01-01\")\n",
    "aapl = close['AAPL']\n",
    "train_data = aapl[:train_end]\n",
    "test_data  = aapl[train_end + pd.to_timedelta(1): test_end]\n",
    "plot_pa = plot_pacf(aapl)-0\n",
    "model = sm.tsa.arima.ARIMA(train_data, order=(1, 0, 0)) # order = (ar_t, ma_t), for ar model only => ma_t = 0"
   ]
  },
  {
   "cell_type": "code",
   "execution_count": 46,
   "metadata": {},
   "outputs": [
    {
     "name": "stdout",
     "output_type": "stream",
     "text": [
      "fitting time: 0.13271188735961914\n",
      "                               SARIMAX Results                                \n",
      "==============================================================================\n",
      "Dep. Variable:                   AAPL   No. Observations:                  251\n",
      "Model:                 ARIMA(1, 0, 0)   Log Likelihood                -661.643\n",
      "Date:                Mon, 27 May 2024   AIC                           1329.286\n",
      "Time:                        03:41:41   BIC                           1339.863\n",
      "Sample:                             0   HQIC                          1333.542\n",
      "                                - 251                                         \n",
      "Covariance Type:                  opg                                         \n",
      "==============================================================================\n",
      "                 coef    std err          z      P>|z|      [0.025      0.975]\n",
      "------------------------------------------------------------------------------\n",
      "const        153.3731      6.368     24.084      0.000     140.891     165.855\n",
      "ar.L1          0.9746      0.016     62.426      0.000       0.944       1.005\n",
      "sigma2        11.2710      0.888     12.693      0.000       9.531      13.011\n",
      "===================================================================================\n",
      "Ljung-Box (L1) (Q):                   0.04   Jarque-Bera (JB):                 6.10\n",
      "Prob(Q):                              0.84   Prob(JB):                         0.05\n",
      "Heteroskedasticity (H):               1.28   Skew:                             0.19\n",
      "Prob(H) (two-sided):                  0.26   Kurtosis:                         3.66\n",
      "===================================================================================\n",
      "\n",
      "Warnings:\n",
      "[1] Covariance matrix calculated using the outer product of gradients (complex-step).\n"
     ]
    }
   ],
   "source": [
    "from time import time\n",
    "start = time()\n",
    "model_fit = model.fit()\n",
    "end = time()\n",
    "print(\"fitting time:\", end - start)\n",
    "print(model_fit.summary())"
   ]
  },
  {
   "cell_type": "code",
   "execution_count": 50,
   "metadata": {},
   "outputs": [
    {
     "name": "stdout",
     "output_type": "stream",
     "text": [
      "0.508\n"
     ]
    }
   ],
   "source": [
    "pred_pct_change = model_fit.predict().pct_change().dropna()\n",
    "train_data_pct_change = train_data.pct_change().dropna()\n",
    "correct = 0\n",
    "incorrect = 0\n",
    "for i in range(len(pred_pct_change)):\n",
    "    if pred_pct_change[i] > 0 and train_data_pct_change[i] > 0:\n",
    "        correct += 1\n",
    "    elif pred_pct_change[i] < 0 and train_data_pct_change[i] < 0:\n",
    "        correct+=1\n",
    "    else:\n",
    "        incorrect += 1\n",
    "print(correct/(correct+incorrect))"
   ]
  }
 ],
 "metadata": {
  "kernelspec": {
   "display_name": "Python 3",
   "language": "python",
   "name": "python3"
  },
  "language_info": {
   "codemirror_mode": {
    "name": "ipython",
    "version": 3
   },
   "file_extension": ".py",
   "mimetype": "text/x-python",
   "name": "python",
   "nbconvert_exporter": "python",
   "pygments_lexer": "ipython3",
   "version": "3.11.9"
  }
 },
 "nbformat": 4,
 "nbformat_minor": 2
}
