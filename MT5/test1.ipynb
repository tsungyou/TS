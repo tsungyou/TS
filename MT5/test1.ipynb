{
 "cells": [
  {
   "cell_type": "code",
   "execution_count": null,
   "metadata": {},
   "outputs": [],
   "source": [
    "# Q1\n",
    "a = input()\n",
    "n, m = [eval(i) for i in a.split()]\n",
    "res = False\n",
    "for i in range(n):\n",
    "    chicken, rabbit = i, n - i\n",
    "    sum = chicken * 2 + rabbit * 4\n",
    "    if sum == m:\n",
    "        print(\"YES\")\n",
    "        print(chicken, rabbit)\n",
    "        res = True\n",
    "if not res:\n",
    "    print(\"NO\")"
   ]
  },
  {
   "cell_type": "code",
   "execution_count": null,
   "metadata": {},
   "outputs": [],
   "source": [
    "# Q2\n",
    "a = input()\n",
    "# a = '21 27'\n",
    "l, s = [eval(i) for i in a.split()]\n",
    "iter = 0\n",
    "while True:\n",
    "    if s < l:\n",
    "        s += 5\n",
    "        iter += 1\n",
    "    elif l < s:\n",
    "        s -= 2\n",
    "        iter += 1\n",
    "    else:\n",
    "        break\n",
    "print(iter)"
   ]
  },
  {
   "cell_type": "code",
   "execution_count": null,
   "metadata": {},
   "outputs": [],
   "source": [
    "# Q3\n",
    "a = int(input())\n",
    "\n",
    "if a % 7 == 0 or '7' in str(a):\n",
    "    print(\"YES\")\n",
    "else:\n",
    "    print(\"NO\")\n"
   ]
  },
  {
   "cell_type": "code",
   "execution_count": null,
   "metadata": {},
   "outputs": [],
   "source": [
    "# Q4\n",
    "a = input()\n",
    "n, x, y = [eval(i) for i in a.split()]\n",
    "if n % 2 == 1:\n",
    "    n += 1\n",
    "iter = int(n/2)\n",
    "res = 20 + iter * x - (iter - 1) * y \n",
    "print(res)"
   ]
  },
  {
   "cell_type": "code",
   "execution_count": 31,
   "metadata": {},
   "outputs": [
    {
     "name": "stdout",
     "output_type": "stream",
     "text": [
      "Original: 36.00\n",
      "Adjusted: 60.00(+24)\n"
     ]
    }
   ],
   "source": [
    "# Q5\n",
    "a = int(input())\n",
    "rd_a = round(a, 2)\n",
    "ad_a = round(a ** (1/2) * 10, 2)\n",
    "diff = int(round(ad_a - rd_a, 0))\n",
    "print(\"Original:\", \"{:.2f}\".format(rd_a))\n",
    "print(\"Adjusted: {:.2f}(+{})\".format(ad_a, diff))\n"
   ]
  },
  {
   "cell_type": "code",
   "execution_count": 35,
   "metadata": {},
   "outputs": [
    {
     "name": "stdout",
     "output_type": "stream",
     "text": [
      "score error\n"
     ]
    }
   ],
   "source": [
    "# Q6\n",
    "a = input()\n",
    "if a == '1':\n",
    "    b = int(input())\n",
    "    if b <= 100 and b >= 60: print('pass')\n",
    "    elif b < 60: print('fail')\n",
    "    else: print('score error')\n",
    "elif a == '2':\n",
    "    b = int(input())\n",
    "    if b <= 100 and b >= 70: print('pass')\n",
    "    elif b < 70: print('fail')\n",
    "    else: print('score error')\n",
    "else:\n",
    "    print(\"role error\")"
   ]
  },
  {
   "cell_type": "code",
   "execution_count": 36,
   "metadata": {},
   "outputs": [
    {
     "name": "stdout",
     "output_type": "stream",
     "text": [
      "5.10 / 2.30 = 2.22\n"
     ]
    }
   ],
   "source": [
    "# Q7\n",
    "a = float(input())\n",
    "b = float(input())\n",
    "operator = input()\n",
    "if operator == '/':\n",
    "    res = a / b\n",
    "elif operator == '+':\n",
    "    res = a + b\n",
    "elif operator == '*':\n",
    "    res = a * b\n",
    "elif operator == '-':\n",
    "    res = a - b\n",
    "print(\"{:.2f} {} {:.2f} = {:.2f}\".format(a, operator, b, res))"
   ]
  }
 ],
 "metadata": {
  "kernelspec": {
   "display_name": "Python 3",
   "language": "python",
   "name": "python3"
  },
  "language_info": {
   "codemirror_mode": {
    "name": "ipython",
    "version": 3
   },
   "file_extension": ".py",
   "mimetype": "text/x-python",
   "name": "python",
   "nbconvert_exporter": "python",
   "pygments_lexer": "ipython3",
   "version": "3.9.6"
  }
 },
 "nbformat": 4,
 "nbformat_minor": 2
}
