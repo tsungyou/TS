{
 "cells": [
  {
   "cell_type": "markdown",
   "metadata": {},
   "source": [
    "### ATR = American Time Range Strategy"
   ]
  },
  {
   "cell_type": "code",
   "execution_count": 317,
   "metadata": {},
   "outputs": [
    {
     "name": "stdout",
     "output_type": "stream",
     "text": [
      "US Summer Time:\n",
      "{'2015': [Timestamp('2015-03-08 00:00:00'), Timestamp('2015-11-01 00:00:00')], '2016': [Timestamp('2016-03-13 00:00:00'), Timestamp('2016-11-06 00:00:00')], '2017': [Timestamp('2017-03-12 00:00:00'), Timestamp('2017-11-05 00:00:00')], '2018': [Timestamp('2018-03-11 00:00:00'), Timestamp('2018-11-04 00:00:00')], '2019': [Timestamp('2019-03-10 00:00:00'), Timestamp('2019-11-03 00:00:00')], '2020': [Timestamp('2020-03-08 00:00:00'), Timestamp('2020-11-01 00:00:00')], '2021': [Timestamp('2021-03-14 00:00:00'), Timestamp('2021-11-07 00:00:00')], '2022': [Timestamp('2022-03-13 00:00:00'), Timestamp('2022-11-06 00:00:00')], '2023': [Timestamp('2023-03-12 00:00:00'), Timestamp('2023-11-05 00:00:00')], '2024': [Timestamp('2024-03-10 00:00:00'), Timestamp('2024-11-03 00:00:00')]}\n",
      "\n",
      "European Summer Time:\n",
      "{'2015': [Timestamp('2015-03-04 00:00:00'), Timestamp('2015-10-07 00:00:00')], '2016': [Timestamp('2016-03-02 00:00:00'), Timestamp('2016-10-05 00:00:00')], '2017': [Timestamp('2017-03-01 00:00:00'), Timestamp('2017-10-04 00:00:00')], '2018': [Timestamp('2018-03-07 00:00:00'), Timestamp('2018-10-03 00:00:00')], '2019': [Timestamp('2019-03-06 00:00:00'), Timestamp('2019-10-02 00:00:00')], '2020': [Timestamp('2020-03-04 00:00:00'), Timestamp('2020-10-07 00:00:00')], '2021': [Timestamp('2021-03-03 00:00:00'), Timestamp('2021-10-06 00:00:00')], '2022': [Timestamp('2022-03-02 00:00:00'), Timestamp('2022-10-05 00:00:00')], '2023': [Timestamp('2023-03-01 00:00:00'), Timestamp('2023-10-04 00:00:00')], '2024': [Timestamp('2024-03-06 00:00:00'), Timestamp('2024-10-02 00:00:00')]}\n"
     ]
    }
   ],
   "source": [
    "import pandas as pd\n",
    "from datetime import datetime, timedelta\n",
    "\n",
    "def get_us_summer_time(year):\n",
    "    # US Summer Time starts on the second Sunday in March and ends on the first Sunday in November\n",
    "    march_first = datetime(year, 3, 1)\n",
    "    # Find the second Sunday in March\n",
    "    second_sunday_march = march_first + timedelta(days=(6 - march_first.weekday() + 7) % 7 + 7)\n",
    "    # Find the first Sunday in November\n",
    "    november_first = datetime(year, 11, 1)\n",
    "    first_sunday_november = november_first + timedelta(days=(6 - november_first.weekday()) % 7)\n",
    "    return [pd.to_datetime(second_sunday_march), pd.to_datetime(first_sunday_november)]\n",
    "\n",
    "def get_european_summer_time(year):\n",
    "    # European Summer Time starts on the last Sunday in March and ends on the last Sunday in October\n",
    "    march_first = datetime(year, 3, 1)\n",
    "    # Find the last Sunday in March\n",
    "    last_sunday_march = march_first + timedelta(days=(6 - march_first.weekday() + 31) % 7)\n",
    "    october_first = datetime(year, 10, 1)\n",
    "    # Find the last Sunday in October\n",
    "    last_sunday_october = october_first + timedelta(days=(6 - october_first.weekday() + 31) % 7)\n",
    "    return [pd.to_datetime(last_sunday_march), pd.to_datetime(last_sunday_october)]\n",
    "\n",
    "# Define the range of years\n",
    "years = range(2015, 2025)\n",
    "\n",
    "# Generate the summer time periods for each year\n",
    "summer_times_us = {str(year): get_us_summer_time(year) for year in years}\n",
    "summer_times_europe = {str(year): get_european_summer_time(year) for year in years}\n",
    "\n",
    "# Output the results\n",
    "print(\"US Summer Time:\")\n",
    "print(summer_times_us)\n",
    "print(\"\\nEuropean Summer Time:\")\n",
    "print(summer_times_europe)\n"
   ]
  },
  {
   "cell_type": "code",
   "execution_count": 318,
   "metadata": {},
   "outputs": [],
   "source": [
    "import pandas as pd\n",
    "import os\n",
    "import matplotlib.pyplot as plt\n",
    "os.chdir(\"../data\")"
   ]
  },
  {
   "cell_type": "code",
   "execution_count": 339,
   "metadata": {},
   "outputs": [],
   "source": [
    "file = \"USDJPY.sml_M5_20230101_20240719\""
   ]
  },
  {
   "cell_type": "code",
   "execution_count": 340,
   "metadata": {},
   "outputs": [],
   "source": [
    "summerTime = {\n",
    "    \"2023\": [pd.to_datetime('2023-03-12'), pd.to_datetime(\"2023-11-05\")],\n",
    "    '2024': [pd.to_datetime('2024-03-26'), pd.to_datetime(\"2024-10-29\")]\n",
    "}\n",
    "def check_summer_time(row):\n",
    "    start, end = summer_times_us[row['year']]\n",
    "    return True if end >= row['da'] >= start else False \n",
    "\n",
    "df = pd.read_csv(f'{file}.csv', sep=\"\\t\")\n",
    "df.columns = [\"da\", \"time\", \"op\", \"hi\", \"lo\", \"cl\", \"tickvol\", \"vol\", \"spread\"]\n",
    "df.da = pd.to_datetime(df.da.apply(lambda x: x.replace('.', '-')))\n",
    "df.sort_values(by=['da', 'time'], ascending=True, inplace=True)\n",
    "df['year'] = df['da'].apply(lambda x: x.strftime(\"%Y\"))\n",
    "df['summerTime'] = df.apply(check_summer_time, axis=1)\n",
    "\n",
    "df.to_parquet(f\"{file}.parquet\")"
   ]
  },
  {
   "cell_type": "code",
   "execution_count": 341,
   "metadata": {},
   "outputs": [],
   "source": [
    "pq = pd.read_parquet(f\"{file}.parquet\")\n",
    "df = pq.copy()#.loc[pq['da'] >= '2024-01-01']\n",
    "df['signal'] = 0\n",
    "df['trade_type'] = 0\n",
    "df['pct_change_open'] = df['op'].pct_change().shift(-1)\n",
    "df['pt_diff_open'] = -df['op'].shift(0) + df['op'].shift(-1)"
   ]
  },
  {
   "cell_type": "code",
   "execution_count": 345,
   "metadata": {},
   "outputs": [],
   "source": [
    "def strategy_open_1m_reversal(df, sep, us_open, daily_open):\n",
    "    before_us_df = us_open - daily_open > 0\n",
    "    df.loc[df['time'] == sep, 'signal'] = 1 if before_us_df else -1\n",
    "    df.loc[df['time'] == sep.replace(\"30\", \"25\"), 'trade_type'] = \"open_1m\"\n",
    "    return df\n",
    "\n",
    "def strategy_open_30m_trend(df, sep, hour, us_open):\n",
    "    tp = 1000\n",
    "    sl = 500\n",
    "    pt = 0.001\n",
    "    tp_price = tp*pt\n",
    "    sl_price = sl*pt\n",
    "    df_10 = df[df['time'] >= f\"{hour+1}:00:00\"]\n",
    "    open_price_10 = df_10['op'].iloc[0]\n",
    "    us_open_30 = (open_price_10 - us_open) > 0\n",
    "    signal = 0\n",
    "    open_position_price = 0\n",
    "    close_position_price = 0\n",
    "    # long\n",
    "    if not us_open_30:\n",
    "        upper_breakout = df[(df['time'] < f\"{hour+1}:00:00\") & (df['time'] >= sep)]['hi'].max()\n",
    "        for _, row in df_10.iterrows():\n",
    "            time = row['time']\n",
    "            # breakout\n",
    "            if row['cl'] > upper_breakout and signal == 0:\n",
    "                open_position_price = row['cl']\n",
    "                signal = 1\n",
    "                df.loc[(df['time'] == time), \"signal\"] = signal\n",
    "                sl = open_position_price - sl_price\n",
    "                tp = open_position_price + tp_price\n",
    "            # positionsTotal() == 1\n",
    "            elif signal == 1:\n",
    "                # tp\n",
    "                if row['cl'] >= tp or row['cl'] <= sl:\n",
    "                    df.loc[(df['time'] == time), \"signal\"] = 0\n",
    "                    close_position_price = row['cl']\n",
    "                    profit = close_position_price - open_position_price\n",
    "                    signal = -1\n",
    "                # nothing\n",
    "                else:\n",
    "                    df.loc[(df['time'] == time), \"signal\"] = 1\n",
    "                # sl\n",
    "                ##########\n",
    "            # position closed\n",
    "            elif signal == -1:\n",
    "                return df\n",
    "            # no position yet, no signal at the time\n",
    "            else:\n",
    "                continue\n",
    "    # short case\n",
    "    else:\n",
    "        lower_breakout = df[(df['time'] < f\"{hour+1}:00:00\") & (df['time'] >= sep)]['cl'].min()\n",
    "        for _, row in df_10.iterrows():\n",
    "            time = row['time']\n",
    "            # breakout\n",
    "            if row['cl'] < lower_breakout and signal == 0:\n",
    "                open_position_price = row['cl']\n",
    "                signal = -1\n",
    "                df.loc[(df['time'] == time), \"signal\"] = signal\n",
    "                df.loc[(df['time'] == time), 'trade_type'] = \"open_30m\"\n",
    "                tp = open_position_price - tp_price\n",
    "                sl = open_position_price + sl_price\n",
    "            # positionsTotal() == 1\n",
    "            elif signal == -1:\n",
    "                # tp/sl\n",
    "                if row['cl'] <= tp or row['cl'] >= sl:\n",
    "                    df.loc[(df['time'] == time), \"signal\"] = 0 # \"close\" for check purpose\n",
    "                    \n",
    "                    close_position_price = row['cl']\n",
    "                    profit = -(close_position_price - open_position_price)\n",
    "                    signal = 1\n",
    "                # nothing\n",
    "                else:\n",
    "                    df.loc[(df['time'] == time), \"signal\"] = signal\n",
    "                    df.loc[(df['time'] == time), 'trade_type'] = \"open_30m\"\n",
    "                # sl\n",
    "                ##########\n",
    "            # position closed\n",
    "            elif signal == 1:\n",
    "                df.loc[(df['time'] == time), \"signal\"] = 0 # \"close\"for check purpose\n",
    "                return df\n",
    "            # no position yet, no signal at the time\n",
    "            else:\n",
    "                continue\n",
    "    return df\n",
    "def intraday_create_signal(df: pd.DataFrame):\n",
    "    hour = 16 if df['summerTime'].iloc[0] else 17\n",
    "    sep = f\"{hour}:30:00\"\n",
    "    try:\n",
    "        us_open = df[df['time'] == sep]['op'].values[0]\n",
    "        daily_open = df.iloc[0, :]['op']\n",
    "        \n",
    "        df = strategy_open_1m_reversal(df, sep, us_open, daily_open)\n",
    "        df = strategy_open_30m_trend(df, sep, hour, us_open)\n",
    "        return df\n",
    "    except IndexError as e:\n",
    "        return df"
   ]
  },
  {
   "cell_type": "code",
   "execution_count": 346,
   "metadata": {},
   "outputs": [
    {
     "name": "stderr",
     "output_type": "stream",
     "text": [
      "100%|██████████| 350/350 [00:09<00:00, 38.13it/s]\n"
     ]
    }
   ],
   "source": [
    "from tqdm import tqdm\n",
    "tqdm.pandas()\n",
    "df_out = df.groupby('da').progress_apply(intraday_create_signal)\n",
    "df_out['signal'] = df_out['signal'].shift(1)\n",
    "df_out[df_out['signal'] != 0]\n",
    "df_out['interval_return'] = df_out['signal'] * df_out['pct_change_open']"
   ]
  },
  {
   "cell_type": "code",
   "execution_count": 347,
   "metadata": {},
   "outputs": [
    {
     "data": {
      "text/plain": [
       "[<matplotlib.lines.Line2D at 0x2123c87d690>]"
      ]
     },
     "execution_count": 347,
     "metadata": {},
     "output_type": "execute_result"
    },
    {
     "data": {
      "image/png": "[encoded data removed]",
      "text/plain": [
       "<Figure size 640x480 with 1 Axes>"
      ]
     },
     "metadata": {},
     "output_type": "display_data"
    }
   ],
   "source": [
    "df_out['datetime'] = pd.to_datetime(df_out.index.get_level_values('da').astype(str) + ' ' + df_out['time'])\n",
    "plt.plot(df_out['datetime'], ((1+df_out['interval_return']).cumprod()-1)*20)\n",
    "# df_out['datetime']"
   ]
  },
  {
   "cell_type": "code",
   "execution_count": 325,
   "metadata": {},
   "outputs": [],
   "source": [
    "# df = df.droplevel(0)\n",
    "# df.reset_index(level=0, drop=True, inplace=True)"
   ]
  }
 ],
 "metadata": {
  "kernelspec": {
   "display_name": "Python 3",
   "language": "python",
   "name": "python3"
  },
  "language_info": {
   "codemirror_mode": {
    "name": "ipython",
    "version": 3
   },
   "file_extension": ".py",
   "mimetype": "text/x-python",
   "name": "python",
   "nbconvert_exporter": "python",
   "pygments_lexer": "ipython3",
   "version": "3.11.4"
  }
 },
 "nbformat": 4,
 "nbformat_minor": 2
}
