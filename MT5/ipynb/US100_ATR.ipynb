{
 "cells": [
  {
   "cell_type": "markdown",
   "metadata": {},
   "source": [
    "### ATR = American Time Range Strategy"
   ]
  },
  {
   "cell_type": "code",
   "execution_count": 1,
   "metadata": {},
   "outputs": [],
   "source": [
    "import pandas as pd\n",
    "from datetime import datetime, timedelta\n",
    "\n",
    "def get_us_summer_time(year):\n",
    "    march_first = datetime(year, 3, 1)\n",
    "    second_sunday_march = march_first + timedelta(days=(6 - march_first.weekday() + 7) % 7 + 7)\n",
    "    november_first = datetime(year, 11, 1)\n",
    "    first_sunday_november = november_first + timedelta(days=(6 - november_first.weekday()) % 7)\n",
    "    return [pd.to_datetime(second_sunday_march), pd.to_datetime(first_sunday_november)]\n",
    "\n",
    "years = range(2015, 2025)\n",
    "summer_times_us = {str(year): get_us_summer_time(year) for year in years}"
   ]
  },
  {
   "cell_type": "code",
   "execution_count": 2,
   "metadata": {},
   "outputs": [],
   "source": [
    "import pandas as pd\n",
    "import os\n",
    "import matplotlib.pyplot as plt\n",
    "os.chdir(\"../data\")"
   ]
  },
  {
   "cell_type": "code",
   "execution_count": 7,
   "metadata": {},
   "outputs": [],
   "source": [
    "file = \"../data/US100_M5_20230101_20240719\"\n",
    "file_us100_m5 = \"../data/US100_M5_20230101_20240719\""
   ]
  },
  {
   "cell_type": "markdown",
   "metadata": {},
   "source": [
    "### CSV to parquet"
   ]
  },
  {
   "cell_type": "code",
   "execution_count": 8,
   "metadata": {},
   "outputs": [],
   "source": [
    "summerTime = {\n",
    "    \"2023\": [pd.to_datetime('2023-03-12'), pd.to_datetime(\"2023-11-05\")],\n",
    "    '2024': [pd.to_datetime('2024-03-26'), pd.to_datetime(\"2024-10-29\")]\n",
    "}\n",
    "def check_summer_time(row):\n",
    "    start, end = summer_times_us[row['year']]\n",
    "    return True if end >= row['da'] >= start else False \n",
    "\n",
    "df = pd.read_csv(f'{file_us100_m5}.csv', sep=\"\\t\")\n",
    "df.columns = [\"da\", \"time\", \"op\", \"hi\", \"lo\", \"cl\", \"tickvol\", \"vol\", \"spread\"]\n",
    "df.da = pd.to_datetime(df.da.apply(lambda x: x.replace('.', '-')))\n",
    "df.sort_values(by=['da', 'time'], ascending=True, inplace=True)\n",
    "df['year'] = df['da'].apply(lambda x: x.strftime(\"%Y\"))\n",
    "df['summerTime'] = df.apply(check_summer_time, axis=1)\n",
    "\n",
    "df.to_parquet(f\"../data/{file}.parquet\")"
   ]
  },
  {
   "cell_type": "markdown",
   "metadata": {},
   "source": [
    "======"
   ]
  },
  {
   "cell_type": "code",
   "execution_count": 9,
   "metadata": {},
   "outputs": [],
   "source": [
    "pq = pd.read_parquet(f\"{file_us100_m5}.parquet\")\n",
    "df = pq.copy()#.loc[pq['da'] >= '2024-01-01']\n",
    "df['signal'] = 0\n",
    "df['trade_type'] = None\n",
    "df['pct_change_open'] = df['op'].pct_change().shift(-1)\n",
    "df['pt_diff_open'] = -df['op'].shift(0) + df['op'].shift(-1)"
   ]
  },
  {
   "cell_type": "code",
   "execution_count": 10,
   "metadata": {},
   "outputs": [],
   "source": [
    "def strategy_open_1m_reversal(df, sep, us_open, daily_open):\n",
    "    before_us_df = us_open - daily_open > 0\n",
    "    df.loc[df['time'] == sep, 'signal'] = 1 if before_us_df else -1\n",
    "    df.loc[df['time'] == sep.replace(\"30\", \"25\"), 'trade_type'] = \"open_1m\"\n",
    "    return df\n",
    "\n",
    "def strategy_open_30m_trend(df, sep, hour, us_open):\n",
    "    tp = 1000\n",
    "    sl = 500\n",
    "    pt = 0.001\n",
    "    tp_price = tp*pt\n",
    "    sl_price = sl*pt\n",
    "    df_10 = df[df['time'] >= f\"{hour+1}:00:00\"]\n",
    "    open_price_10 = df_10['op'].iloc[0]\n",
    "    us_open_30 = (open_price_10 - us_open) > 0\n",
    "    signal = 0\n",
    "    open_position_price = 0\n",
    "    close_position_price = 0\n",
    "    # long\n",
    "    if not us_open_30:\n",
    "        upper_breakout = df[(df['time'] < f\"{hour+1}:00:00\") & (df['time'] >= sep)]['hi'].max()\n",
    "        for _, row in df_10.iterrows():\n",
    "            time = row['time']\n",
    "            # breakout\n",
    "            if row['cl'] > upper_breakout and signal == 0:\n",
    "                open_position_price = row['cl']\n",
    "                signal = 1\n",
    "                df.loc[(df['time'] == time), \"signal\"] = signal\n",
    "                sl = open_position_price - sl_price\n",
    "                tp = open_position_price + tp_price\n",
    "            # positionsTotal() == 1\n",
    "            elif signal == 1:\n",
    "                # tp\n",
    "                if row['cl'] >= tp or row['cl'] <= sl:\n",
    "                    df.loc[(df['time'] == time), \"signal\"] = 0\n",
    "                    close_position_price = row['cl']\n",
    "                    profit = close_position_price - open_position_price\n",
    "                    signal = -1\n",
    "                # nothing\n",
    "                else:\n",
    "                    df.loc[(df['time'] == time), \"signal\"] = 1\n",
    "                # sl\n",
    "                ##########\n",
    "            # position closed\n",
    "            elif signal == -1:\n",
    "                return df\n",
    "            # no position yet, no signal at the time\n",
    "            else:\n",
    "                continue\n",
    "    # short case\n",
    "    else:\n",
    "        lower_breakout = df[(df['time'] < f\"{hour+1}:00:00\") & (df['time'] >= sep)]['cl'].min()\n",
    "        for _, row in df_10.iterrows():\n",
    "            time = row['time']\n",
    "            # breakout\n",
    "            if row['cl'] < lower_breakout and signal == 0:\n",
    "                open_position_price = row['cl']\n",
    "                signal = -1\n",
    "                df.loc[(df['time'] == time), \"signal\"] = signal\n",
    "                df.loc[(df['time'] == time), 'trade_type'] = \"open_30m\"\n",
    "                tp = open_position_price - tp_price\n",
    "                sl = open_position_price + sl_price\n",
    "            # positionsTotal() == 1\n",
    "            elif signal == -1:\n",
    "                # tp/sl\n",
    "                if row['cl'] <= tp or row['cl'] >= sl:\n",
    "                    df.loc[(df['time'] == time), \"signal\"] = 0 # \"close\" for check purpose\n",
    "                    \n",
    "                    close_position_price = row['cl']\n",
    "                    profit = -(close_position_price - open_position_price)\n",
    "                    signal = 1\n",
    "                # nothing\n",
    "                else:\n",
    "                    df.loc[(df['time'] == time), \"signal\"] = signal\n",
    "                    df.loc[(df['time'] == time), 'trade_type'] = \"open_30m\"\n",
    "                # sl\n",
    "                ##########\n",
    "            # position closed\n",
    "            elif signal == 1:\n",
    "                df.loc[(df['time'] == time), \"signal\"] = 0 # \"close\"for check purpose\n",
    "                return df\n",
    "            # no position yet, no signal at the time\n",
    "            else:\n",
    "                continue\n",
    "    return df\n",
    "def intraday_create_signal(df: pd.DataFrame):\n",
    "    hour = 16 if df['summerTime'].iloc[0] else 17\n",
    "    sep = f\"{hour}:30:00\"\n",
    "    try:\n",
    "        us_open = df[df['time'] == sep]['op'].values[0]\n",
    "        daily_open = df.iloc[0, :]['op']\n",
    "        \n",
    "        df = strategy_open_1m_reversal(df, sep, us_open, daily_open)\n",
    "        # df = strategy_open_30m_trend(df, sep, hour, us_open)\n",
    "        return df\n",
    "    except IndexError as e:\n",
    "        return df"
   ]
  },
  {
   "cell_type": "code",
   "execution_count": 11,
   "metadata": {},
   "outputs": [
    {
     "name": "stderr",
     "output_type": "stream",
     "text": [
      "100%|██████████| 370/370 [00:00<00:00, 1820.88it/s]\n"
     ]
    }
   ],
   "source": [
    "from tqdm import tqdm\n",
    "tqdm.pandas()\n",
    "df_out = df.groupby('da').progress_apply(intraday_create_signal)\n",
    "df_out['signal'] = df_out['signal'].shift(1)\n",
    "df_out[df_out['signal'] != 0]\n",
    "df_out['interval_return'] = df_out['signal'] * df_out['pct_change_open']"
   ]
  },
  {
   "cell_type": "code",
   "execution_count": 12,
   "metadata": {},
   "outputs": [
    {
     "data": {
      "text/plain": [
       "[<matplotlib.lines.Line2D at 0x12539a090>]"
      ]
     },
     "execution_count": 12,
     "metadata": {},
     "output_type": "execute_result"
    },
    {
     "data": {
      "image/png": "[encoded data removed]",
      "text/plain": [
       "<Figure size 640x480 with 1 Axes>"
      ]
     },
     "metadata": {},
     "output_type": "display_data"
    }
   ],
   "source": [
    "df_out['datetime'] = pd.to_datetime(df_out.index.get_level_values('da').astype(str) + ' ' + df_out['time'])\n",
    "plt.plot(df_out['datetime'], ((1+df_out['interval_return']).cumprod()-1)*20)\n",
    "# df_out['datetime']"
   ]
  },
  {
   "cell_type": "code",
   "execution_count": null,
   "metadata": {},
   "outputs": [],
   "source": []
  }
 ],
 "metadata": {
  "kernelspec": {
   "display_name": "Python 3",
   "language": "python",
   "name": "python3"
  },
  "language_info": {
   "codemirror_mode": {
    "name": "ipython",
    "version": 3
   },
   "file_extension": ".py",
   "mimetype": "text/x-python",
   "name": "python",
   "nbconvert_exporter": "python",
   "pygments_lexer": "ipython3",
   "version": "3.11.9"
  }
 },
 "nbformat": 4,
 "nbformat_minor": 2
}
