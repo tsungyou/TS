{
 "cells": [
  {
   "cell_type": "code",
   "execution_count": 2,
   "metadata": {},
   "outputs": [],
   "source": [
    "import requests\n",
    "import pandas as pd\n",
    "import psycopg2\n",
    "from psycopg2 import sql    \n",
    "\n",
    "uri = \"https://www.twse.com.tw/rwd/zh/afterTrading/BWIBBU_d?date=20240819&selectType=ALL&response=json\"\n",
    "res = requests.get(uri)\n",
    "data = res.json()['data']\n",
    "data = [i + [\"test\"] for i in data]"
   ]
  },
  {
   "cell_type": "code",
   "execution_count": 5,
   "metadata": {},
   "outputs": [
    {
     "ename": "UndefinedTable",
     "evalue": "relation \"da\" does not exist\nLINE 1: SELECT * from da;\n                      ^\n",
     "output_type": "error",
     "traceback": [
      "\u001b[0;31m---------------------------------------------------------------------------\u001b[0m",
      "\u001b[0;31mUndefinedTable\u001b[0m                            Traceback (most recent call last)",
      "Cell \u001b[0;32mIn[5], line 17\u001b[0m\n\u001b[1;32m     11\u001b[0m cursor \u001b[38;5;241m=\u001b[39m conn\u001b[38;5;241m.\u001b[39mcursor()\n\u001b[1;32m     12\u001b[0m \u001b[38;5;66;03m# cursor.executemany(f'''\u001b[39;00m\n\u001b[1;32m     13\u001b[0m \u001b[38;5;66;03m# INSERT INTO public.maincode (code, cname, ename, round_lot, outstanding_shares, equity_float, is_download_data, is_rt)\u001b[39;00m\n\u001b[1;32m     14\u001b[0m \u001b[38;5;66;03m# VALUES (%s, %s, %s, %s, %s, %s, %s, %s)\u001b[39;00m\n\u001b[1;32m     15\u001b[0m \u001b[38;5;66;03m# ''', data)\u001b[39;00m\n\u001b[1;32m     16\u001b[0m \u001b[38;5;66;03m# conn.commit()\u001b[39;00m\n\u001b[0;32m---> 17\u001b[0m \u001b[43mcursor\u001b[49m\u001b[38;5;241;43m.\u001b[39;49m\u001b[43mexecute\u001b[49m\u001b[43m(\u001b[49m\u001b[38;5;124;43m\"\u001b[39;49m\u001b[38;5;124;43mSELECT * from da;\u001b[39;49m\u001b[38;5;124;43m\"\u001b[39;49m\u001b[43m)\u001b[49m\n\u001b[1;32m     18\u001b[0m conn\u001b[38;5;241m.\u001b[39mcommit()\n",
      "\u001b[0;31mUndefinedTable\u001b[0m: relation \"da\" does not exist\nLINE 1: SELECT * from da;\n                      ^\n"
     ]
    }
   ],
   "source": [
    "import psycopg2\n",
    "DB_HOST = 'localhost'\n",
    "DB_NAME = 'tw'\n",
    "DB_USER = 'postgres'\n",
    "DB_PASS = 'buddyrich134'\n",
    "def get_db_connection():\n",
    "    conn = psycopg2.connect(host=DB_HOST, dbname=DB_NAME, user=DB_USER, password=DB_PASS)\n",
    "    return conn\n",
    "\n",
    "conn = get_db_connection()\n",
    "cursor = conn.cursor()\n",
    "# cursor.executemany(f'''\n",
    "# INSERT INTO public.maincode (code, cname, ename, round_lot, outstanding_shares, equity_float, is_download_data, is_rt)\n",
    "# VALUES (%s, %s, %s, %s, %s, %s, %s, %s)\n",
    "# ''', data)\n",
    "# conn.commit()\n",
    "cursor.execute(\"SELECT * from da;\")\n",
    "conn.commit()\n"
   ]
  },
  {
   "cell_type": "code",
   "execution_count": 17,
   "metadata": {},
   "outputs": [
    {
     "data": {
      "text/plain": [
       "'台泥'"
      ]
     },
     "execution_count": 17,
     "metadata": {},
     "output_type": "execute_result"
    }
   ],
   "source": [
    "cursor.execute(\"select cname from public.maincode where code = '1101';\")\n",
    "conn.commit()\n",
    "cname = cursor.fetchone()[0]\n",
    "cname"
   ]
  }
 ],
 "metadata": {
  "kernelspec": {
   "display_name": "Python 3",
   "language": "python",
   "name": "python3"
  },
  "language_info": {
   "codemirror_mode": {
    "name": "ipython",
    "version": 3
   },
   "file_extension": ".py",
   "mimetype": "text/x-python",
   "name": "python",
   "nbconvert_exporter": "python",
   "pygments_lexer": "ipython3",
   "version": "3.9.6"
  }
 },
 "nbformat": 4,
 "nbformat_minor": 2
}
