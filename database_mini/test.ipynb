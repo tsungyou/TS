{
 "cells": [
  {
   "cell_type": "code",
   "execution_count": 12,
   "metadata": {},
   "outputs": [],
   "source": [
    "import requests\n",
    "import pandas as pd\n",
    "import psycopg2\n",
    "from psycopg2 import sql    \n",
    "\n",
    "uri = \"https://www.twse.com.tw/rwd/zh/afterTrading/BWIBBU_d?date=20240819&selectType=ALL&response=json\"\n",
    "res = requests.get(uri)\n",
    "data = res.json()['data']\n",
    "data = [i + [\"test\"] for i in data]"
   ]
  },
  {
   "cell_type": "code",
   "execution_count": 14,
   "metadata": {},
   "outputs": [],
   "source": [
    "import psycopg2\n",
    "DB_HOST = 'localhost'\n",
    "DB_NAME = 'tw'\n",
    "DB_USER = 'mini'\n",
    "DB_PASS = 'buddyrich134'\n",
    "def get_db_connection():\n",
    "    conn = psycopg2.connect(host=DB_HOST, dbname=DB_NAME, user=DB_USER, password=DB_PASS)\n",
    "    return conn\n",
    "\n",
    "conn = get_db_connection()\n",
    "cursor = conn.cursor()\n",
    "cursor.executemany(f'''\n",
    "INSERT INTO public.maincode (code, cname, ename, round_lot, outstanding_shares, equity_float, is_download_data, is_rt)\n",
    "VALUES (%s, %s, %s, %s, %s, %s, %s, %s)\n",
    "''', data)\n",
    "conn.commit()"
   ]
  },
  {
   "cell_type": "code",
   "execution_count": 17,
   "metadata": {},
   "outputs": [
    {
     "data": {
      "text/plain": [
       "'台泥'"
      ]
     },
     "execution_count": 17,
     "metadata": {},
     "output_type": "execute_result"
    }
   ],
   "source": [
    "cursor.execute(\"select cname from public.maincode where code = '1101';\")\n",
    "conn.commit()\n",
    "cname = cursor.fetchone()[0]\n",
    "cname"
   ]
  }
 ],
 "metadata": {
  "kernelspec": {
   "display_name": "Python 3",
   "language": "python",
   "name": "python3"
  },
  "language_info": {
   "codemirror_mode": {
    "name": "ipython",
    "version": 3
   },
   "file_extension": ".py",
   "mimetype": "text/x-python",
   "name": "python",
   "nbconvert_exporter": "python",
   "pygments_lexer": "ipython3",
   "version": "3.11.9"
  }
 },
 "nbformat": 4,
 "nbformat_minor": 2
}
