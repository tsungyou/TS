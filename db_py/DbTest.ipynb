{
 "cells": [
  {
   "cell_type": "code",
   "execution_count": 1,
   "metadata": {},
   "outputs": [
    {
     "data": {
      "text/plain": [
       "'/Users/test/risksoft/TS/db_py'"
      ]
     },
     "execution_count": 1,
     "metadata": {},
     "output_type": "execute_result"
    }
   ],
   "source": [
    "import numpy as np\n",
    "import pandas as pd\n",
    "import matplotlib.pyplot as plt \n",
    "from tqdm import tqdm\n",
    "import warnings\n",
    "from datetime import datetime, timedelta\n",
    "import statsmodels.api as sm\n",
    "import os\n",
    "warnings.filterwarnings(\"ignore\")\n",
    "os.getcwd()"
   ]
  },
  {
   "cell_type": "code",
   "execution_count": 2,
   "metadata": {},
   "outputs": [],
   "source": [
    "try:\n",
    "    os.chdir(\"../test123\")\n",
    "except FileNotFoundError:\n",
    "    os.makedirs(\"../test123\")\n",
    "    os.chdir(\"../test123\")"
   ]
  },
  {
   "cell_type": "code",
   "execution_count": 182,
   "metadata": {},
   "outputs": [
    {
     "name": "stdout",
     "output_type": "stream",
     "text": [
      "store pdata of values cl to tw/pdata/cl.parquet successful\n",
      "store pdata of values cl to tw/pdata/cl_pct.parquet successful\n",
      "store pdata of values op to tw/pdata/op.parquet successful\n",
      "store pdata of values op to tw/pdata/op_pct.parquet successful\n",
      "store pdata of values vol(volume) to tw/pdata/vol(volume).parquet successful\n",
      "store pdata of values vol(volume) to tw/pdata/vol(volume)_pct.parquet successful\n",
      "store pdata of values vol(turnover) to tw/pdata/vol(turnover).parquet successful\n",
      "store pdata of values vol(turnover) to tw/pdata/vol(turnover)_pct.parquet successful\n"
     ]
    }
   ],
   "source": [
    "directory = 'tw/price'\n",
    "list_ = os.listdir(directory)\n",
    "df_list = [pd.read_parquet(os.path.join(directory, i)) for i in list_]\n",
    "df_all = pd.concat(df_list)\n",
    "df_all['da1'] = df_all['da'].apply(lambda x: f\"{int(x[:3])+1911}-{x[4:6]}-{x[7:9]}\")\n",
    "df = df_all.drop_duplicates(subset=['ticker', 'da1'])\n",
    "df['da_check'] = df['da1'].astype(str).apply(lambda x: int(x[:4]))\n",
    "df_final = df[df['da_check'].isin([i for i in range(2018, 2026)])]\n",
    "\n",
    "for values in ['cl', 'op', 'vol(volume)', 'vol(turnover)']:\n",
    "    df_pivot = df_final.pivot(values=values, columns='ticker', index='da1')\n",
    "    df_pivot.replace(\"--\", None, inplace=True)\n",
    "    df_pivot.replace(\"-\", None, inplace=True)\n",
    "    df_pivot.ffill(inplace=True)\n",
    "    df_pivot = df_pivot.loc['2018-01-01':(datetime.now()+timedelta(days=1)).strftime(\"%Y-%m-%d\")]\n",
    "    df_pivot.sort_index(ascending=True, inplace=True)\n",
    "    df_pivot = df_pivot.apply(lambda x: x.str.replace(',', '').astype(float))\n",
    "    df_pivot.dropna(how='all', axis=1, inplace=True)\n",
    "    df_pivot.to_parquet(f\"tw/pdata/{values}.parquet\")\n",
    "    print(f\"store pdata of values {values} to tw/pdata/{values}.parquet successful\")\n",
    "    df_pivot_pct = df_pivot.pct_change().dropna()\n",
    "    df_pivot.to_parquet(f\"tw/pdata/{values}_pct.parquet\")\n",
    "    print(f\"store pdata of values {values} to tw/pdata/{values}_pct.parquet successful\")\n",
    "    \n"
   ]
  },
  {
   "cell_type": "code",
   "execution_count": 127,
   "metadata": {},
   "outputs": [
    {
     "name": "stdout",
     "output_type": "stream",
     "text": [
      "store pdata of values pe to tw/pdata/pe.parquet successful\n",
      "store pdata of values pb to tw/pdata/pb.parquet successful\n"
     ]
    }
   ],
   "source": [
    "directory = 'tw/pb_ratio'\n",
    "list_ = os.listdir(directory)\n",
    "df_list = [pd.read_parquet(os.path.join(directory, i)) for i in list_]\n",
    "df_all = pd.concat(df_list)\n",
    "df_all['da'] = df_all.index\n",
    "df = df_all.drop_duplicates(subset=['ticker', 'da'])\n",
    "for values in ['pe', 'pb']:\n",
    "    df_pivot = df.pivot(values=values, columns='ticker', index='da')\n",
    "\n",
    "    df_pivot.replace(\"--\", None, inplace=True)\n",
    "    df_pivot.replace(\"-\", None, inplace=True)\n",
    "    df_pivot.ffill(inplace=True)\n",
    "    df_pivot = df_pivot.loc['2018-01-01':(datetime.now()+timedelta(days=1)).strftime(\"%Y-%m-%d\")]\n",
    "    df_pivot.sort_index(ascending=True, inplace=True)\n",
    "    df_pivot = df_pivot.apply(lambda x: x.str.replace(',', '').astype(float))\n",
    "    df_pivot.dropna(how='all', axis=1, inplace=True)\n",
    "    df_pivot.to_parquet(f\"tw/pdata/{values}.parquet\")\n",
    "    print(f\"store pdata of values {values} to tw/pdata/{values}.parquet successful\")\n"
   ]
  },
  {
   "cell_type": "markdown",
   "metadata": {},
   "source": [
    "### 富櫃50 TPEX"
   ]
  },
  {
   "cell_type": "code",
   "execution_count": null,
   "metadata": {},
   "outputs": [],
   "source": [
    "\n",
    "import requests\n",
    "list_list = []\n",
    "for year in range(113, 102, -1):\n",
    "    limit_month = 8 if year == 113 else 13\n",
    "    for index, month in enumerate(range(1, limit_month)):\n",
    "        month = f\"0{month}\" if month < 10 else month\n",
    "        url_gretai50 = f\"https://www.tpex.org.tw/web/stock/iNdex_info/gretai50/inxhis/rihisqry_result.php?l=zh-tw&d={year}/{month}/01&_=1720688879318\"\n",
    "        response = requests.get(url_gretai50)\n",
    "        data = response.json()['aaData']\n",
    "        list_list.append(data)\n",
    "list_ = sum(list_list, [])"
   ]
  },
  {
   "cell_type": "code",
   "execution_count": 32,
   "metadata": {},
   "outputs": [],
   "source": [
    "df = pd.DataFrame(list_)\n",
    "df.to_parquet('../db/tw/ind/gretai50.parquet')"
   ]
  },
  {
   "cell_type": "markdown",
   "metadata": {},
   "source": [
    "### 財報, selenium"
   ]
  },
  {
   "cell_type": "code",
   "execution_count": 35,
   "metadata": {},
   "outputs": [
    {
     "name": "stdout",
     "output_type": "stream",
     "text": [
      "chromedriver already existed, for version 126.0\n"
     ]
    },
    {
     "data": {
      "text/plain": [
       "'/Users/test/risksoft/TS/db/chromedriver_mac/chromedriver-mac-x64/chromedriver'"
      ]
     },
     "execution_count": 35,
     "metadata": {},
     "output_type": "execute_result"
    }
   ],
   "source": [
    "from Selenium import Selenium\n",
    "\n",
    "obj = Selenium()\n",
    "obj.chromedriver_path\n",
    "\n"
   ]
  },
  {
   "cell_type": "code",
   "execution_count": 2,
   "metadata": {},
   "outputs": [
    {
     "name": "stdout",
     "output_type": "stream",
     "text": [
      "chromedriver already existed, for version 126.0\n"
     ]
    },
    {
     "data": {
      "text/plain": [
       "'/Users/test/risksoft/TS/db/chromedriver_mac/chromedriver-mac-x64/chromedriver'"
      ]
     },
     "execution_count": 2,
     "metadata": {},
     "output_type": "execute_result"
    }
   ],
   "source": [
    "from Selenium import Selenium\n",
    "obj = Selenium()\n",
    "obj.chromedriver_path"
   ]
  },
  {
   "cell_type": "code",
   "execution_count": null,
   "metadata": {},
   "outputs": [],
   "source": [
    "'''\n",
    "cd /Users/test/risksoft/TS/db/chromedriver_mac/chromedriver-mac-x64/\n",
    "chmod +x chromedriver\n",
    "\n",
    "or\n",
    "\n",
    "chmod +x /Users/test/risksoft/TS/db/chromedriver_mac/chromedriver-mac-x64/chromedriver\n",
    "\n",
    "so that auto generated chromedriver can be reached and executed\n",
    "'''"
   ]
  },
  {
   "cell_type": "code",
   "execution_count": 7,
   "metadata": {},
   "outputs": [],
   "source": [
    "import time\n",
    "import pandas as pd\n",
    "from selenium import webdriver\n",
    "from selenium.webdriver.common.by import By\n",
    "from selenium.webdriver.support.ui import WebDriverWait\n",
    "from selenium.webdriver.support import expected_conditions as EC\n",
    "from selenium.webdriver.chrome.service import Service\n",
    "from webdriver_manager.chrome import ChromeDriverManager\n",
    "\n",
    "# 初始化 Selenium WebDriver\n",
    "# options = webdriver.ChromeOptions()\n",
    "# options.add_argument(\"--headless\")\n",
    "service = Service(executable_path=obj.chromedriver_path)"
   ]
  },
  {
   "cell_type": "code",
   "execution_count": 18,
   "metadata": {},
   "outputs": [],
   "source": [
    "driver = webdriver.Chrome()\n",
    "url = 'https://mops.twse.com.tw/mops/web/t164sb03'\n",
    "driver.get(url)\n",
    "\n",
    "wait = WebDriverWait(driver, 20)\n",
    "\n",
    "select_element = wait.until(EC.presence_of_element_located((By.ID, 'isnew')))\n",
    "select = Select(select_element)\n",
    "select.select_by_visible_text('歷史資料')\n",
    "\n",
    "company_code_input = wait.until(EC.presence_of_element_located((By.ID, 'co_id')))\n",
    "company_code_input.send_keys('2330')\n",
    "\n",
    "year_input = driver.find_element(By.ID, 'year')\n",
    "year_input.send_keys('112')\n",
    "\n",
    "select_element = wait.until(EC.presence_of_element_located((By.ID, 'season')))\n",
    "select = Select(select_element)\n",
    "select.select_by_visible_text('1')\n",
    "\n",
    "search_button = driver.find_element(By.CSS_SELECTOR, 'input[type=\"button\"][value=\" 查詢 \"]')\n",
    "search_button.click()\n",
    "\n",
    "wait.until(EC.presence_of_element_located((By.ID, 'table01')))\n",
    "\n",
    "table = driver.find_element(By.CLASS_NAME, 'hasBorder')\n",
    "rows = table.find_elements(By.TAG_NAME, \"tr\")\n",
    "for row in rows:\n",
    "    cols = row.find_elements(By.TAG_NAME, 'td')\n",
    "    cols = [col.text for col in cols]\n",
    "    data.append(cols)\n",
    "df = pd.DataFrame(data)\n",
    "\n"
   ]
  },
  {
   "cell_type": "code",
   "execution_count": 22,
   "metadata": {},
   "outputs": [],
   "source": []
  },
  {
   "cell_type": "code",
   "execution_count": 25,
   "metadata": {},
   "outputs": [
    {
     "data": {
      "text/html": [
       "<div>\n",
       "<style scoped>\n",
       "    .dataframe tbody tr th:only-of-type {\n",
       "        vertical-align: middle;\n",
       "    }\n",
       "\n",
       "    .dataframe tbody tr th {\n",
       "        vertical-align: top;\n",
       "    }\n",
       "\n",
       "    .dataframe thead th {\n",
       "        text-align: right;\n",
       "    }\n",
       "</style>\n",
       "<table border=\"1\" class=\"dataframe\">\n",
       "  <thead>\n",
       "    <tr style=\"text-align: right;\">\n",
       "      <th></th>\n",
       "      <th>0</th>\n",
       "      <th>1</th>\n",
       "      <th>2</th>\n",
       "      <th>3</th>\n",
       "      <th>4</th>\n",
       "      <th>5</th>\n",
       "      <th>6</th>\n",
       "    </tr>\n",
       "  </thead>\n",
       "  <tbody>\n",
       "    <tr>\n",
       "      <th>0</th>\n",
       "      <td>流動資產</td>\n",
       "      <td></td>\n",
       "      <td></td>\n",
       "      <td></td>\n",
       "      <td></td>\n",
       "      <td></td>\n",
       "      <td></td>\n",
       "    </tr>\n",
       "    <tr>\n",
       "      <th>1</th>\n",
       "      <td>現金及約當現金</td>\n",
       "      <td>1,385,232,810</td>\n",
       "      <td>27.45</td>\n",
       "      <td>1,342,814,083</td>\n",
       "      <td>27.05</td>\n",
       "      <td>1,151,589,646</td>\n",
       "      <td>28.84</td>\n",
       "    </tr>\n",
       "    <tr>\n",
       "      <th>2</th>\n",
       "      <td>透過損益按公允價值衡量之金融資產－流動</td>\n",
       "      <td>982,014</td>\n",
       "      <td>0.02</td>\n",
       "      <td>1,070,398</td>\n",
       "      <td>0.02</td>\n",
       "      <td>758,452</td>\n",
       "      <td>0.02</td>\n",
       "    </tr>\n",
       "    <tr>\n",
       "      <th>3</th>\n",
       "      <td>透過其他綜合損益按公允價值衡量之金融資產－流動</td>\n",
       "      <td>129,541,034</td>\n",
       "      <td>2.57</td>\n",
       "      <td>122,998,543</td>\n",
       "      <td>2.48</td>\n",
       "      <td>120,995,765</td>\n",
       "      <td>3.03</td>\n",
       "    </tr>\n",
       "    <tr>\n",
       "      <th>4</th>\n",
       "      <td>按攤銷後成本衡量之金融資產－流動</td>\n",
       "      <td>73,428,595</td>\n",
       "      <td>1.46</td>\n",
       "      <td>94,600,219</td>\n",
       "      <td>1.91</td>\n",
       "      <td>8,425,386</td>\n",
       "      <td>0.21</td>\n",
       "    </tr>\n",
       "    <tr>\n",
       "      <th>...</th>\n",
       "      <td>...</td>\n",
       "      <td>...</td>\n",
       "      <td>...</td>\n",
       "      <td>...</td>\n",
       "      <td>...</td>\n",
       "      <td>...</td>\n",
       "      <td>...</td>\n",
       "    </tr>\n",
       "    <tr>\n",
       "      <th>65</th>\n",
       "      <td>權益總額</td>\n",
       "      <td>3,092,897,598</td>\n",
       "      <td>61.30</td>\n",
       "      <td>2,960,488,867</td>\n",
       "      <td>59.63</td>\n",
       "      <td>2,321,468,754</td>\n",
       "      <td>58.14</td>\n",
       "    </tr>\n",
       "    <tr>\n",
       "      <th>66</th>\n",
       "      <td>負債及權益總計</td>\n",
       "      <td>5,045,844,348</td>\n",
       "      <td>100.00</td>\n",
       "      <td>4,964,778,878</td>\n",
       "      <td>100.00</td>\n",
       "      <td>3,992,676,667</td>\n",
       "      <td>100.00</td>\n",
       "    </tr>\n",
       "    <tr>\n",
       "      <th>67</th>\n",
       "      <td>待註銷股本股數（單位：股）</td>\n",
       "      <td>419,466</td>\n",
       "      <td></td>\n",
       "      <td>0</td>\n",
       "      <td></td>\n",
       "      <td>0</td>\n",
       "      <td></td>\n",
       "    </tr>\n",
       "    <tr>\n",
       "      <th>68</th>\n",
       "      <td>預收股款（權益項下）之約當發行股數（單位：股）</td>\n",
       "      <td>0</td>\n",
       "      <td></td>\n",
       "      <td>0</td>\n",
       "      <td></td>\n",
       "      <td>0</td>\n",
       "      <td></td>\n",
       "    </tr>\n",
       "    <tr>\n",
       "      <th>69</th>\n",
       "      <td>母公司暨子公司所持有之母公司庫藏股股數（單位：股）</td>\n",
       "      <td>0</td>\n",
       "      <td></td>\n",
       "      <td>0</td>\n",
       "      <td></td>\n",
       "      <td>1,387,000</td>\n",
       "      <td></td>\n",
       "    </tr>\n",
       "  </tbody>\n",
       "</table>\n",
       "<p>70 rows × 7 columns</p>\n",
       "</div>"
      ],
      "text/plain": [
       "                            0              1       2              3       4  \\\n",
       "0                        流動資產                                                 \n",
       "1                     現金及約當現金  1,385,232,810   27.45  1,342,814,083   27.05   \n",
       "2         透過損益按公允價值衡量之金融資產－流動        982,014    0.02      1,070,398    0.02   \n",
       "3     透過其他綜合損益按公允價值衡量之金融資產－流動    129,541,034    2.57    122,998,543    2.48   \n",
       "4            按攤銷後成本衡量之金融資產－流動     73,428,595    1.46     94,600,219    1.91   \n",
       "..                        ...            ...     ...            ...     ...   \n",
       "65                       權益總額  3,092,897,598   61.30  2,960,488,867   59.63   \n",
       "66                    負債及權益總計  5,045,844,348  100.00  4,964,778,878  100.00   \n",
       "67              待註銷股本股數（單位：股）        419,466                      0           \n",
       "68    預收股款（權益項下）之約當發行股數（單位：股）              0                      0           \n",
       "69  母公司暨子公司所持有之母公司庫藏股股數（單位：股）              0                      0           \n",
       "\n",
       "                5       6  \n",
       "0                          \n",
       "1   1,151,589,646   28.84  \n",
       "2         758,452    0.02  \n",
       "3     120,995,765    3.03  \n",
       "4       8,425,386    0.21  \n",
       "..            ...     ...  \n",
       "65  2,321,468,754   58.14  \n",
       "66  3,992,676,667  100.00  \n",
       "67              0          \n",
       "68              0          \n",
       "69      1,387,000          \n",
       "\n",
       "[70 rows x 7 columns]"
      ]
     },
     "execution_count": 25,
     "metadata": {},
     "output_type": "execute_result"
    }
   ],
   "source": [
    "pd.DataFrame(data[4:])"
   ]
  }
 ],
 "metadata": {
  "kernelspec": {
   "display_name": "Python 3",
   "language": "python",
   "name": "python3"
  },
  "language_info": {
   "codemirror_mode": {
    "name": "ipython",
    "version": 3
   },
   "file_extension": ".py",
   "mimetype": "text/x-python",
   "name": "python",
   "nbconvert_exporter": "python",
   "pygments_lexer": "ipython3",
   "version": "3.11.9"
  }
 },
 "nbformat": 4,
 "nbformat_minor": 2
}
