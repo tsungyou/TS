{
 "cells": [
  {
   "cell_type": "code",
   "execution_count": 182,
   "metadata": {},
   "outputs": [
    {
     "name": "stdout",
     "output_type": "stream",
     "text": [
      "store pdata of values cl to tw/pdata/cl.parquet successful\n",
      "store pdata of values cl to tw/pdata/cl_pct.parquet successful\n",
      "store pdata of values op to tw/pdata/op.parquet successful\n",
      "store pdata of values op to tw/pdata/op_pct.parquet successful\n",
      "store pdata of values vol(volume) to tw/pdata/vol(volume).parquet successful\n",
      "store pdata of values vol(volume) to tw/pdata/vol(volume)_pct.parquet successful\n",
      "store pdata of values vol(turnover) to tw/pdata/vol(turnover).parquet successful\n",
      "store pdata of values vol(turnover) to tw/pdata/vol(turnover)_pct.parquet successful\n"
     ]
    }
   ],
   "source": [
    "directory = 'tw/price'\n",
    "list_ = os.listdir(directory)\n",
    "df_list = [pd.read_parquet(os.path.join(directory, i)) for i in list_]\n",
    "df_all = pd.concat(df_list)\n",
    "df_all['da1'] = df_all['da'].apply(lambda x: f\"{int(x[:3])+1911}-{x[4:6]}-{x[7:9]}\")\n",
    "df = df_all.drop_duplicates(subset=['ticker', 'da1'])\n",
    "df['da_check'] = df['da1'].astype(str).apply(lambda x: int(x[:4]))\n",
    "df_final = df[df['da_check'].isin([i for i in range(2018, 2026)])]\n",
    "\n",
    "for values in ['cl', 'op', 'vol(volume)', 'vol(turnover)']:\n",
    "    df_pivot = df_final.pivot(values=values, columns='ticker', index='da1')\n",
    "    df_pivot.replace(\"--\", None, inplace=True)\n",
    "    df_pivot.replace(\"-\", None, inplace=True)\n",
    "    df_pivot.ffill(inplace=True)\n",
    "    df_pivot = df_pivot.loc['2018-01-01':(datetime.now()+timedelta(days=1)).strftime(\"%Y-%m-%d\")]\n",
    "    df_pivot.sort_index(ascending=True, inplace=True)\n",
    "    df_pivot = df_pivot.apply(lambda x: x.str.replace(',', '').astype(float))\n",
    "    df_pivot.dropna(how='all', axis=1, inplace=True)\n",
    "    df_pivot.to_parquet(f\"tw/pdata/{values}.parquet\")\n",
    "    print(f\"store pdata of values {values} to tw/pdata/{values}.parquet successful\")\n",
    "    df_pivot_pct = df_pivot.pct_change().dropna()\n",
    "    df_pivot.to_parquet(f\"tw/pdata/{values}_pct.parquet\")\n",
    "    print(f\"store pdata of values {values} to tw/pdata/{values}_pct.parquet successful\")\n",
    "    \n"
   ]
  },
  {
   "cell_type": "markdown",
   "metadata": {},
   "source": [
    "### 富櫃50 TPEX"
   ]
  },
  {
   "cell_type": "code",
   "execution_count": null,
   "metadata": {},
   "outputs": [],
   "source": [
    "\n",
    "import requests\n",
    "list_list = []\n",
    "for year in range(113, 102, -1):\n",
    "    limit_month = 8 if year == 113 else 13\n",
    "    for index, month in enumerate(range(1, limit_month)):\n",
    "        month = f\"0{month}\" if month < 10 else month\n",
    "        url_gretai50 = f\"https://www.tpex.org.tw/web/stock/iNdex_info/gretai50/inxhis/rihisqry_result.php?l=zh-tw&d={year}/{month}/01&_=1720688879318\"\n",
    "        response = requests.get(url_gretai50)\n",
    "        data = response.json()['aaData']\n",
    "        list_list.append(data)\n",
    "list_ = sum(list_list, [])\n",
    "df = pd.DataFrame(list_)\n",
    "df.to_parquet('../db/tw/ind/gretai50.parquet')"
   ]
  },
  {
   "cell_type": "markdown",
   "metadata": {},
   "source": [
    "### 財報, selenium"
   ]
  },
  {
   "cell_type": "code",
   "execution_count": null,
   "metadata": {},
   "outputs": [],
   "source": [
    "'''\n",
    "cd /Users/test/risksoft/TS/db/chromedriver_mac/chromedriver-mac-x64/\n",
    "chmod +x chromedriver\n",
    "\n",
    "or\n",
    "\n",
    "chmod +x /Users/test/risksoft/TS/db/chromedriver_mac/chromedriver-mac-x64/chromedriver\n",
    "\n",
    "so that auto generated chromedriver can be reached and executed\n",
    "'''"
   ]
  },
  {
   "cell_type": "code",
   "execution_count": 7,
   "metadata": {},
   "outputs": [],
   "source": [
    "import time\n",
    "import pandas as pd\n",
    "from selenium import webdriver\n",
    "from selenium.webdriver.common.by import By\n",
    "from selenium.webdriver.support.ui import WebDriverWait\n",
    "from selenium.webdriver.support import expected_conditions as EC\n",
    "from selenium.webdriver.chrome.service import Service\n",
    "from webdriver_manager.chrome import ChromeDriverManager\n",
    "\n",
    "# 初始化 Selenium WebDriver\n",
    "# options = webdriver.ChromeOptions()\n",
    "# options.add_argument(\"--headless\")\n",
    "service = Service(executable_path=obj.chromedriver_path)"
   ]
  },
  {
   "cell_type": "code",
   "execution_count": 1,
   "metadata": {},
   "outputs": [],
   "source": [
    "from selenium import webdriver\n",
    "from selenium.webdriver.common.by import By\n",
    "from selenium.webdriver.support.ui import WebDriverWait\n",
    "from selenium.webdriver.support import expected_conditions as EC\n",
    "from selenium.webdriver.chrome.service import Service\n",
    "from webdriver_manager.chrome import ChromeDriverManager\n",
    "from selenium.webdriver.support.ui import Select\n",
    "import time\n",
    "import pandas as pd\n",
    "import os\n",
    "import json\n",
    "from tqdm import tqdm\n",
    "from selenium.webdriver.chrome.options import Options\n",
    "os.chdir(\"../db/\")"
   ]
  },
  {
   "cell_type": "code",
   "execution_count": 2,
   "metadata": {},
   "outputs": [
    {
     "data": {
      "text/plain": [
       "'/Users/test/risksoft/TS/db'"
      ]
     },
     "execution_count": 2,
     "metadata": {},
     "output_type": "execute_result"
    }
   ],
   "source": [
    "import os\n",
    "os.getcwd()"
   ]
  },
  {
   "cell_type": "code",
   "execution_count": 2,
   "metadata": {},
   "outputs": [],
   "source": [
    "with open(\"../db/tw/symbol/symbol_4.json\", \"r\") as f:\n",
    "    tw_symbol_4 = json.load(f)\n",
    "list_tw_stock = [key for key, value in tw_symbol_4.items() if value==\"TW\"]"
   ]
  },
  {
   "cell_type": "code",
   "execution_count": 4,
   "metadata": {},
   "outputs": [
    {
     "name": "stderr",
     "output_type": "stream",
     "text": [
      "111, 1:  14%|█▍        | 146/1030 [14:22<1:14:50,  5.08s/it]"
     ]
    },
    {
     "name": "stdout",
     "output_type": "stream",
     "text": [
      "5871 111 1\n"
     ]
    },
    {
     "name": "stderr",
     "output_type": "stream",
     "text": [
      "111, 1:  26%|██▌       | 268/1030 [27:20<1:05:30,  5.16s/it]"
     ]
    },
    {
     "name": "stdout",
     "output_type": "stream",
     "text": [
      "2850 111 1\n"
     ]
    },
    {
     "name": "stderr",
     "output_type": "stream",
     "text": [
      "111, 1:  40%|███▉      | 407/1030 [42:07<54:57,  5.29s/it]  "
     ]
    },
    {
     "name": "stdout",
     "output_type": "stream",
     "text": [
      "2809 111 1\n"
     ]
    },
    {
     "name": "stderr",
     "output_type": "stream",
     "text": [
      "111, 1:  44%|████▍     | 451/1030 [46:36<51:52,  5.38s/it]  "
     ]
    },
    {
     "name": "stdout",
     "output_type": "stream",
     "text": [
      "2882 111 1\n"
     ]
    },
    {
     "name": "stderr",
     "output_type": "stream",
     "text": [
      "111, 1:  53%|█████▎    | 544/1030 [56:32<42:22,  5.23s/it]  "
     ]
    },
    {
     "name": "stdout",
     "output_type": "stream",
     "text": [
      "5876 111 1\n"
     ]
    },
    {
     "name": "stderr",
     "output_type": "stream",
     "text": [
      "111, 1:  57%|█████▋    | 586/1030 [1:01:03<38:58,  5.27s/it]"
     ]
    },
    {
     "name": "stdout",
     "output_type": "stream",
     "text": [
      "2886 111 1\n"
     ]
    },
    {
     "name": "stderr",
     "output_type": "stream",
     "text": [
      "111, 1:  60%|█████▉    | 613/1030 [1:03:50<38:42,  5.57s/it]"
     ]
    },
    {
     "name": "stdout",
     "output_type": "stream",
     "text": [
      "2891 111 1\n"
     ]
    },
    {
     "name": "stderr",
     "output_type": "stream",
     "text": [
      "111, 1:  63%|██████▎   | 645/1030 [1:07:11<36:42,  5.72s/it]"
     ]
    },
    {
     "name": "stdout",
     "output_type": "stream",
     "text": [
      "2401 111 1\n"
     ]
    },
    {
     "name": "stderr",
     "output_type": "stream",
     "text": [
      "111, 1:  63%|██████▎   | 646/1030 [1:07:14<30:02,  4.69s/it]"
     ]
    },
    {
     "name": "stdout",
     "output_type": "stream",
     "text": [
      "2816 111 1\n"
     ]
    },
    {
     "name": "stderr",
     "output_type": "stream",
     "text": [
      "111, 1:  66%|██████▋   | 683/1030 [1:11:01<28:29,  4.93s/it]"
     ]
    },
    {
     "name": "stdout",
     "output_type": "stream",
     "text": [
      "2885 111 1\n"
     ]
    },
    {
     "name": "stderr",
     "output_type": "stream",
     "text": [
      "111, 1:  70%|███████   | 725/1030 [1:15:29<26:47,  5.27s/it]"
     ]
    },
    {
     "name": "stdout",
     "output_type": "stream",
     "text": [
      "2855 111 1\n"
     ]
    },
    {
     "name": "stderr",
     "output_type": "stream",
     "text": [
      "111, 1:  71%|███████▏  | 734/1030 [1:16:24<26:07,  5.30s/it]"
     ]
    },
    {
     "name": "stdout",
     "output_type": "stream",
     "text": [
      "2884 111 1\n"
     ]
    },
    {
     "name": "stderr",
     "output_type": "stream",
     "text": [
      "111, 1:  73%|███████▎  | 747/1030 [1:17:38<21:53,  4.64s/it]"
     ]
    },
    {
     "name": "stdout",
     "output_type": "stream",
     "text": [
      "2892 111 1\n"
     ]
    },
    {
     "name": "stderr",
     "output_type": "stream",
     "text": [
      "111, 1:  73%|███████▎  | 756/1030 [1:18:23<21:38,  4.74s/it]"
     ]
    },
    {
     "name": "stdout",
     "output_type": "stream",
     "text": [
      "2832 111 1\n"
     ]
    },
    {
     "name": "stderr",
     "output_type": "stream",
     "text": [
      "111, 1:  74%|███████▍  | 765/1030 [1:19:17<22:19,  5.05s/it]"
     ]
    },
    {
     "name": "stdout",
     "output_type": "stream",
     "text": [
      "2880 111 1\n"
     ]
    },
    {
     "name": "stderr",
     "output_type": "stream",
     "text": [
      "111, 1:  75%|███████▍  | 769/1030 [1:19:38<20:52,  4.80s/it]"
     ]
    },
    {
     "name": "stdout",
     "output_type": "stream",
     "text": [
      "5880 111 1\n"
     ]
    },
    {
     "name": "stderr",
     "output_type": "stream",
     "text": [
      "111, 1:  75%|███████▌  | 773/1030 [1:19:58<19:46,  4.62s/it]"
     ]
    },
    {
     "name": "stdout",
     "output_type": "stream",
     "text": [
      "2851 111 1\n"
     ]
    },
    {
     "name": "stderr",
     "output_type": "stream",
     "text": [
      "111, 1:  75%|███████▌  | 774/1030 [1:20:01<17:11,  4.03s/it]"
     ]
    },
    {
     "name": "stdout",
     "output_type": "stream",
     "text": [
      "2890 111 1\n"
     ]
    },
    {
     "name": "stderr",
     "output_type": "stream",
     "text": [
      "111, 1:  77%|███████▋  | 792/1030 [1:21:55<20:37,  5.20s/it]"
     ]
    },
    {
     "name": "stdout",
     "output_type": "stream",
     "text": [
      "2852 111 1\n"
     ]
    },
    {
     "name": "stderr",
     "output_type": "stream",
     "text": [
      "111, 1:  85%|████████▌ | 880/1030 [1:31:42<14:15,  5.70s/it]"
     ]
    },
    {
     "name": "stdout",
     "output_type": "stream",
     "text": [
      "2887 111 1\n"
     ]
    },
    {
     "name": "stderr",
     "output_type": "stream",
     "text": [
      "111, 1:  86%|████████▌ | 887/1030 [1:32:26<12:40,  5.32s/it]"
     ]
    },
    {
     "name": "stdout",
     "output_type": "stream",
     "text": [
      "2801 111 1\n"
     ]
    },
    {
     "name": "stderr",
     "output_type": "stream",
     "text": [
      "111, 1:  86%|████████▌ | 888/1030 [1:32:28<10:26,  4.41s/it]"
     ]
    },
    {
     "name": "stdout",
     "output_type": "stream",
     "text": [
      "2812 111 1\n"
     ]
    },
    {
     "name": "stderr",
     "output_type": "stream",
     "text": [
      "111, 1:  86%|████████▋ | 890/1030 [1:32:37<10:05,  4.32s/it]"
     ]
    },
    {
     "name": "stdout",
     "output_type": "stream",
     "text": [
      "2834 111 1\n"
     ]
    },
    {
     "name": "stderr",
     "output_type": "stream",
     "text": [
      "111, 1:  88%|████████▊ | 911/1030 [1:34:55<10:23,  5.24s/it]"
     ]
    },
    {
     "name": "stdout",
     "output_type": "stream",
     "text": [
      "2845 111 1\n"
     ]
    },
    {
     "name": "stderr",
     "output_type": "stream",
     "text": [
      "111, 1:  90%|████████▉ | 925/1030 [1:36:24<09:38,  5.51s/it]"
     ]
    },
    {
     "name": "stdout",
     "output_type": "stream",
     "text": [
      "2889 111 1\n"
     ]
    },
    {
     "name": "stderr",
     "output_type": "stream",
     "text": [
      "111, 1:  90%|█████████ | 927/1030 [1:36:34<08:17,  4.83s/it]"
     ]
    },
    {
     "name": "stdout",
     "output_type": "stream",
     "text": [
      "2838 111 1\n"
     ]
    },
    {
     "name": "stderr",
     "output_type": "stream",
     "text": [
      "111, 1:  91%|█████████ | 939/1030 [1:37:49<07:59,  5.27s/it]"
     ]
    },
    {
     "name": "stdout",
     "output_type": "stream",
     "text": [
      "2820 111 1\n"
     ]
    },
    {
     "name": "stderr",
     "output_type": "stream",
     "text": [
      "111, 1:  92%|█████████▏| 952/1030 [1:39:13<07:26,  5.72s/it]"
     ]
    },
    {
     "name": "stdout",
     "output_type": "stream",
     "text": [
      "2883 111 1\n"
     ]
    },
    {
     "name": "stderr",
     "output_type": "stream",
     "text": [
      "111, 1:  93%|█████████▎| 953/1030 [1:39:15<06:01,  4.69s/it]"
     ]
    },
    {
     "name": "stdout",
     "output_type": "stream",
     "text": [
      "2849 111 1\n"
     ]
    },
    {
     "name": "stderr",
     "output_type": "stream",
     "text": [
      "111, 1:  96%|█████████▌| 984/1030 [1:42:51<04:29,  5.85s/it]"
     ]
    },
    {
     "name": "stdout",
     "output_type": "stream",
     "text": [
      "2836 111 1\n"
     ]
    },
    {
     "name": "stderr",
     "output_type": "stream",
     "text": [
      "111, 1:  97%|█████████▋| 1000/1030 [1:44:40<02:51,  5.70s/it]"
     ]
    },
    {
     "name": "stdout",
     "output_type": "stream",
     "text": [
      "2897 111 1\n"
     ]
    },
    {
     "name": "stderr",
     "output_type": "stream",
     "text": [
      "111, 1:  98%|█████████▊| 1005/1030 [1:45:12<02:22,  5.70s/it]"
     ]
    },
    {
     "name": "stdout",
     "output_type": "stream",
     "text": [
      "2888 111 1\n"
     ]
    },
    {
     "name": "stderr",
     "output_type": "stream",
     "text": [
      "111, 1:  99%|█████████▉| 1022/1030 [1:46:52<00:33,  4.19s/it]"
     ]
    },
    {
     "name": "stdout",
     "output_type": "stream",
     "text": [
      "2867 111 1\n"
     ]
    },
    {
     "name": "stderr",
     "output_type": "stream",
     "text": [
      "111, 1: 100%|██████████| 1030/1030 [1:47:44<00:00,  6.28s/it]\n",
      "111, 2:  14%|█▍        | 146/1030 [16:32<1:19:07,  5.37s/it]"
     ]
    },
    {
     "name": "stdout",
     "output_type": "stream",
     "text": [
      "5871 111 2\n"
     ]
    },
    {
     "name": "stderr",
     "output_type": "stream",
     "text": [
      "111, 2:  26%|██▌       | 268/1030 [30:06<1:11:34,  5.64s/it]"
     ]
    },
    {
     "name": "stdout",
     "output_type": "stream",
     "text": [
      "2850 111 2\n"
     ]
    },
    {
     "name": "stderr",
     "output_type": "stream",
     "text": [
      "111, 2:  40%|███▉      | 407/1030 [45:51<56:50,  5.47s/it]  "
     ]
    },
    {
     "name": "stdout",
     "output_type": "stream",
     "text": [
      "2809 111 2\n"
     ]
    },
    {
     "name": "stderr",
     "output_type": "stream",
     "text": [
      "111, 2:  44%|████▍     | 451/1030 [50:42<57:17,  5.94s/it]  "
     ]
    },
    {
     "name": "stdout",
     "output_type": "stream",
     "text": [
      "2882 111 2\n"
     ]
    },
    {
     "name": "stderr",
     "output_type": "stream",
     "text": [
      "111, 2:  47%|████▋     | 485/1030 [54:29<50:06,  5.52s/it]  "
     ]
    },
    {
     "name": "stdout",
     "output_type": "stream",
     "text": [
      "4164 111 2\n"
     ]
    },
    {
     "name": "stderr",
     "output_type": "stream",
     "text": [
      "111, 2:  51%|█████     | 525/1030 [58:57<46:10,  5.49s/it]  "
     ]
    },
    {
     "name": "stdout",
     "output_type": "stream",
     "text": [
      "2258 111 2\n"
     ]
    },
    {
     "name": "stderr",
     "output_type": "stream",
     "text": [
      "111, 2:  53%|█████▎    | 544/1030 [1:01:06<45:28,  5.61s/it]"
     ]
    },
    {
     "name": "stdout",
     "output_type": "stream",
     "text": [
      "5876 111 2\n"
     ]
    },
    {
     "name": "stderr",
     "output_type": "stream",
     "text": [
      "111, 2:  53%|█████▎    | 551/1030 [1:01:53<50:46,  6.36s/it]"
     ]
    },
    {
     "name": "stdout",
     "output_type": "stream",
     "text": [
      "6901 111 2\n"
     ]
    },
    {
     "name": "stderr",
     "output_type": "stream",
     "text": [
      "111, 2:  57%|█████▋    | 586/1030 [1:05:58<40:29,  5.47s/it]  "
     ]
    },
    {
     "name": "stdout",
     "output_type": "stream",
     "text": [
      "2886 111 2\n"
     ]
    },
    {
     "name": "stderr",
     "output_type": "stream",
     "text": [
      "111, 2:  60%|█████▉    | 613/1030 [1:09:04<42:41,  6.14s/it]"
     ]
    },
    {
     "name": "stdout",
     "output_type": "stream",
     "text": [
      "2891 111 2\n"
     ]
    },
    {
     "name": "stderr",
     "output_type": "stream",
     "text": [
      "111, 2:  63%|██████▎   | 646/1030 [1:12:50<35:38,  5.57s/it]"
     ]
    },
    {
     "name": "stdout",
     "output_type": "stream",
     "text": [
      "2816 111 2\n"
     ]
    },
    {
     "name": "stderr",
     "output_type": "stream",
     "text": [
      "111, 2:  66%|██████▋   | 683/1030 [1:17:04<33:27,  5.79s/it]"
     ]
    },
    {
     "name": "stdout",
     "output_type": "stream",
     "text": [
      "2885 111 2\n"
     ]
    },
    {
     "name": "stderr",
     "output_type": "stream",
     "text": [
      "111, 2:  70%|███████   | 725/1030 [1:21:52<28:18,  5.57s/it]"
     ]
    },
    {
     "name": "stdout",
     "output_type": "stream",
     "text": [
      "2855 111 2\n"
     ]
    },
    {
     "name": "stderr",
     "output_type": "stream",
     "text": [
      "111, 2:  73%|███████▎  | 747/1030 [1:24:10<25:11,  5.34s/it]"
     ]
    },
    {
     "name": "stdout",
     "output_type": "stream",
     "text": [
      "2892 111 2\n"
     ]
    },
    {
     "name": "stderr",
     "output_type": "stream",
     "text": [
      "111, 2:  73%|███████▎  | 756/1030 [1:25:01<23:23,  5.12s/it]"
     ]
    },
    {
     "name": "stdout",
     "output_type": "stream",
     "text": [
      "2832 111 2\n"
     ]
    },
    {
     "name": "stderr",
     "output_type": "stream",
     "text": [
      "111, 2:  74%|███████▍  | 765/1030 [1:25:59<24:15,  5.49s/it]"
     ]
    },
    {
     "name": "stdout",
     "output_type": "stream",
     "text": [
      "2880 111 2\n"
     ]
    },
    {
     "name": "stderr",
     "output_type": "stream",
     "text": [
      "111, 2:  75%|███████▍  | 769/1030 [1:26:22<22:52,  5.26s/it]"
     ]
    },
    {
     "name": "stdout",
     "output_type": "stream",
     "text": [
      "5880 111 2\n"
     ]
    },
    {
     "name": "stderr",
     "output_type": "stream",
     "text": [
      "111, 2:  75%|███████▌  | 773/1030 [1:26:44<21:20,  4.98s/it]"
     ]
    },
    {
     "name": "stdout",
     "output_type": "stream",
     "text": [
      "2851 111 2\n"
     ]
    },
    {
     "name": "stderr",
     "output_type": "stream",
     "text": [
      "111, 2:  75%|███████▌  | 774/1030 [1:26:47<18:22,  4.31s/it]"
     ]
    },
    {
     "name": "stdout",
     "output_type": "stream",
     "text": [
      "2890 111 2\n"
     ]
    },
    {
     "name": "stderr",
     "output_type": "stream",
     "text": [
      "111, 2:  77%|███████▋  | 792/1030 [1:28:49<21:42,  5.47s/it]"
     ]
    },
    {
     "name": "stdout",
     "output_type": "stream",
     "text": [
      "2852 111 2\n"
     ]
    },
    {
     "name": "stderr",
     "output_type": "stream",
     "text": [
      "111, 2:  78%|███████▊  | 799/1030 [1:29:36<22:07,  5.75s/it]"
     ]
    },
    {
     "name": "stdout",
     "output_type": "stream",
     "text": [
      "1539 111 2\n"
     ]
    },
    {
     "name": "stderr",
     "output_type": "stream",
     "text": [
      "111, 2:  85%|████████▌ | 880/1030 [1:39:14<14:23,  5.76s/it]"
     ]
    },
    {
     "name": "stdout",
     "output_type": "stream",
     "text": [
      "2887 111 2\n"
     ]
    },
    {
     "name": "stderr",
     "output_type": "stream",
     "text": [
      "111, 2:  86%|████████▌ | 887/1030 [1:39:57<12:25,  5.22s/it]"
     ]
    },
    {
     "name": "stdout",
     "output_type": "stream",
     "text": [
      "2801 111 2\n"
     ]
    },
    {
     "name": "stderr",
     "output_type": "stream",
     "text": [
      "111, 2:  86%|████████▌ | 888/1030 [1:40:00<10:14,  4.33s/it]"
     ]
    },
    {
     "name": "stdout",
     "output_type": "stream",
     "text": [
      "2812 111 2\n"
     ]
    },
    {
     "name": "stderr",
     "output_type": "stream",
     "text": [
      "111, 2:  86%|████████▋ | 890/1030 [1:40:09<09:54,  4.25s/it]"
     ]
    },
    {
     "name": "stdout",
     "output_type": "stream",
     "text": [
      "2834 111 2\n"
     ]
    },
    {
     "name": "stderr",
     "output_type": "stream",
     "text": [
      "111, 2:  88%|████████▊ | 911/1030 [1:42:25<10:31,  5.31s/it]"
     ]
    },
    {
     "name": "stdout",
     "output_type": "stream",
     "text": [
      "2845 111 2\n"
     ]
    },
    {
     "name": "stderr",
     "output_type": "stream",
     "text": [
      "111, 2:  90%|████████▉ | 925/1030 [1:43:55<09:27,  5.40s/it]"
     ]
    },
    {
     "name": "stdout",
     "output_type": "stream",
     "text": [
      "2889 111 2\n"
     ]
    },
    {
     "name": "stderr",
     "output_type": "stream",
     "text": [
      "111, 2:  90%|█████████ | 927/1030 [1:44:03<08:07,  4.73s/it]"
     ]
    },
    {
     "name": "stdout",
     "output_type": "stream",
     "text": [
      "2838 111 2\n"
     ]
    },
    {
     "name": "stderr",
     "output_type": "stream",
     "text": [
      "111, 2:  91%|█████████ | 939/1030 [1:45:17<08:01,  5.29s/it]"
     ]
    },
    {
     "name": "stdout",
     "output_type": "stream",
     "text": [
      "2820 111 2\n"
     ]
    },
    {
     "name": "stderr",
     "output_type": "stream",
     "text": [
      "111, 2:  92%|█████████▏| 952/1030 [1:46:39<07:15,  5.58s/it]"
     ]
    },
    {
     "name": "stdout",
     "output_type": "stream",
     "text": [
      "2883 111 2\n"
     ]
    },
    {
     "name": "stderr",
     "output_type": "stream",
     "text": [
      "111, 2:  93%|█████████▎| 953/1030 [1:46:42<05:53,  4.59s/it]"
     ]
    },
    {
     "name": "stdout",
     "output_type": "stream",
     "text": [
      "2849 111 2\n"
     ]
    },
    {
     "name": "stderr",
     "output_type": "stream",
     "text": [
      "111, 2:  96%|█████████▌| 984/1030 [1:50:14<04:19,  5.64s/it]"
     ]
    },
    {
     "name": "stdout",
     "output_type": "stream",
     "text": [
      "2836 111 2\n"
     ]
    },
    {
     "name": "stderr",
     "output_type": "stream",
     "text": [
      "111, 2:  96%|█████████▋| 993/1030 [1:51:11<03:18,  5.38s/it]"
     ]
    },
    {
     "name": "stdout",
     "output_type": "stream",
     "text": [
      "1417 111 2\n"
     ]
    },
    {
     "name": "stderr",
     "output_type": "stream",
     "text": [
      "111, 2:  97%|█████████▋| 1000/1030 [1:51:54<02:40,  5.35s/it]"
     ]
    },
    {
     "name": "stdout",
     "output_type": "stream",
     "text": [
      "2897 111 2\n"
     ]
    },
    {
     "name": "stderr",
     "output_type": "stream",
     "text": [
      "111, 2:  98%|█████████▊| 1005/1030 [1:52:25<02:17,  5.50s/it]"
     ]
    },
    {
     "name": "stdout",
     "output_type": "stream",
     "text": [
      "2888 111 2\n"
     ]
    },
    {
     "name": "stderr",
     "output_type": "stream",
     "text": [
      "111, 2:  99%|█████████▉| 1022/1030 [1:54:01<00:33,  4.14s/it]"
     ]
    },
    {
     "name": "stdout",
     "output_type": "stream",
     "text": [
      "2867 111 2\n"
     ]
    },
    {
     "name": "stderr",
     "output_type": "stream",
     "text": [
      "111, 2: 100%|██████████| 1030/1030 [1:54:49<00:00,  6.69s/it]\n",
      "111, 3:   1%|▏         | 13/1030 [01:21<1:29:39,  5.29s/it]"
     ]
    },
    {
     "name": "stdout",
     "output_type": "stream",
     "text": [
      "2330 111 3\n"
     ]
    },
    {
     "name": "stderr",
     "output_type": "stream",
     "text": [
      "111, 3:  13%|█▎        | 130/1030 [13:44<1:25:39,  5.71s/it]"
     ]
    },
    {
     "name": "stdout",
     "output_type": "stream",
     "text": [
      "4736 111 3\n"
     ]
    },
    {
     "name": "stderr",
     "output_type": "stream",
     "text": [
      "111, 3:  14%|█▍        | 146/1030 [15:20<1:14:18,  5.04s/it]"
     ]
    },
    {
     "name": "stdout",
     "output_type": "stream",
     "text": [
      "5871 111 3\n"
     ]
    },
    {
     "name": "stderr",
     "output_type": "stream",
     "text": [
      "111, 3:  15%|█▌        | 158/1030 [16:30<1:19:31,  5.47s/it]"
     ]
    },
    {
     "name": "stdout",
     "output_type": "stream",
     "text": [
      "6799 111 3\n"
     ]
    },
    {
     "name": "stderr",
     "output_type": "stream",
     "text": [
      "111, 3:  16%|█▌        | 160/1030 [16:41<1:15:17,  5.19s/it]"
     ]
    },
    {
     "name": "stdout",
     "output_type": "stream",
     "text": [
      "4967 111 3\n"
     ]
    },
    {
     "name": "stderr",
     "output_type": "stream",
     "text": [
      "111, 3:  30%|██▉       | 307/1030 [32:07<1:03:08,  5.24s/it]"
     ]
    },
    {
     "name": "stdout",
     "output_type": "stream",
     "text": [
      "2472 111 3\n"
     ]
    },
    {
     "name": "stderr",
     "output_type": "stream",
     "text": [
      "111, 3:  38%|███▊      | 393/1030 [41:24<1:01:17,  5.77s/it]"
     ]
    },
    {
     "name": "stdout",
     "output_type": "stream",
     "text": [
      "6426 111 3\n"
     ]
    },
    {
     "name": "stderr",
     "output_type": "stream",
     "text": [
      "111, 3:  40%|███▉      | 407/1030 [42:53<55:47,  5.37s/it]  "
     ]
    },
    {
     "name": "stdout",
     "output_type": "stream",
     "text": [
      "2809 111 3\n"
     ]
    },
    {
     "name": "stderr",
     "output_type": "stream",
     "text": [
      "111, 3:  43%|████▎     | 446/1030 [46:59<48:58,  5.03s/it]  "
     ]
    },
    {
     "name": "stdout",
     "output_type": "stream",
     "text": [
      "8039 111 3\n"
     ]
    },
    {
     "name": "stderr",
     "output_type": "stream",
     "text": [
      "111, 3:  44%|████▍     | 451/1030 [47:30<52:28,  5.44s/it]  "
     ]
    },
    {
     "name": "stdout",
     "output_type": "stream",
     "text": [
      "2882 111 3\n"
     ]
    },
    {
     "name": "stderr",
     "output_type": "stream",
     "text": [
      "111, 3:  45%|████▌     | 468/1030 [49:20<52:51,  5.64s/it]  "
     ]
    },
    {
     "name": "stdout",
     "output_type": "stream",
     "text": [
      "2535 111 3\n"
     ]
    },
    {
     "name": "stderr",
     "output_type": "stream",
     "text": [
      "111, 3:  52%|█████▏    | 536/1030 [56:45<47:27,  5.76s/it]  "
     ]
    },
    {
     "name": "stdout",
     "output_type": "stream",
     "text": [
      "4942 111 3\n"
     ]
    },
    {
     "name": "stderr",
     "output_type": "stream",
     "text": [
      "111, 3:  53%|█████▎    | 544/1030 [57:35<43:23,  5.36s/it]"
     ]
    },
    {
     "name": "stdout",
     "output_type": "stream",
     "text": [
      "5876 111 3\n"
     ]
    },
    {
     "name": "stderr",
     "output_type": "stream",
     "text": [
      "111, 3:  57%|█████▋    | 586/1030 [1:02:02<39:57,  5.40s/it]"
     ]
    },
    {
     "name": "stdout",
     "output_type": "stream",
     "text": [
      "2886 111 3\n"
     ]
    },
    {
     "name": "stderr",
     "output_type": "stream",
     "text": [
      "111, 3:  60%|█████▉    | 613/1030 [1:04:51<38:59,  5.61s/it]"
     ]
    },
    {
     "name": "stdout",
     "output_type": "stream",
     "text": [
      "2891 111 3\n"
     ]
    },
    {
     "name": "stderr",
     "output_type": "stream",
     "text": [
      "111, 3:  63%|██████▎   | 646/1030 [1:08:17<33:22,  5.22s/it]"
     ]
    },
    {
     "name": "stdout",
     "output_type": "stream",
     "text": [
      "2816 111 3\n"
     ]
    },
    {
     "name": "stderr",
     "output_type": "stream",
     "text": [
      "111, 3:  66%|██████▋   | 683/1030 [1:12:17<31:11,  5.39s/it]"
     ]
    },
    {
     "name": "stdout",
     "output_type": "stream",
     "text": [
      "2885 111 3\n"
     ]
    },
    {
     "name": "stderr",
     "output_type": "stream",
     "text": [
      "111, 3:  70%|███████   | 725/1030 [1:16:44<26:31,  5.22s/it]"
     ]
    },
    {
     "name": "stdout",
     "output_type": "stream",
     "text": [
      "2855 111 3\n"
     ]
    },
    {
     "name": "stderr",
     "output_type": "stream",
     "text": [
      "111, 3:  71%|███████▏  | 734/1030 [1:17:41<26:08,  5.30s/it]"
     ]
    },
    {
     "name": "stdout",
     "output_type": "stream",
     "text": [
      "2884 111 3\n"
     ]
    },
    {
     "name": "stderr",
     "output_type": "stream",
     "text": [
      "111, 3:  73%|███████▎  | 747/1030 [1:18:54<22:23,  4.75s/it]"
     ]
    },
    {
     "name": "stdout",
     "output_type": "stream",
     "text": [
      "2892 111 3\n"
     ]
    },
    {
     "name": "stderr",
     "output_type": "stream",
     "text": [
      "111, 3:  73%|███████▎  | 756/1030 [1:19:43<21:37,  4.73s/it]"
     ]
    },
    {
     "name": "stdout",
     "output_type": "stream",
     "text": [
      "2832 111 3\n"
     ]
    },
    {
     "name": "stderr",
     "output_type": "stream",
     "text": [
      "111, 3:  74%|███████▍  | 765/1030 [1:20:38<23:09,  5.24s/it]"
     ]
    },
    {
     "name": "stdout",
     "output_type": "stream",
     "text": [
      "2880 111 3\n"
     ]
    },
    {
     "name": "stderr",
     "output_type": "stream",
     "text": [
      "111, 3:  75%|███████▍  | 769/1030 [1:21:00<22:20,  5.14s/it]"
     ]
    },
    {
     "name": "stdout",
     "output_type": "stream",
     "text": [
      "5880 111 3\n"
     ]
    },
    {
     "name": "stderr",
     "output_type": "stream",
     "text": [
      "111, 3:  75%|███████▌  | 773/1030 [1:21:21<20:06,  4.69s/it]"
     ]
    },
    {
     "name": "stdout",
     "output_type": "stream",
     "text": [
      "2851 111 3\n"
     ]
    },
    {
     "name": "stderr",
     "output_type": "stream",
     "text": [
      "111, 3:  75%|███████▌  | 774/1030 [1:21:24<17:28,  4.09s/it]"
     ]
    },
    {
     "name": "stdout",
     "output_type": "stream",
     "text": [
      "2890 111 3\n"
     ]
    },
    {
     "name": "stderr",
     "output_type": "stream",
     "text": [
      "111, 3:  77%|███████▋  | 792/1030 [1:23:18<20:33,  5.18s/it]"
     ]
    },
    {
     "name": "stdout",
     "output_type": "stream",
     "text": [
      "2852 111 3\n"
     ]
    },
    {
     "name": "stderr",
     "output_type": "stream",
     "text": [
      "111, 3:  85%|████████▌ | 880/1030 [1:33:03<14:56,  5.98s/it]"
     ]
    },
    {
     "name": "stdout",
     "output_type": "stream",
     "text": [
      "2887 111 3\n"
     ]
    },
    {
     "name": "stderr",
     "output_type": "stream",
     "text": [
      "111, 3:  86%|████████▌ | 887/1030 [1:33:45<12:28,  5.24s/it]"
     ]
    },
    {
     "name": "stdout",
     "output_type": "stream",
     "text": [
      "2801 111 3\n"
     ]
    },
    {
     "name": "stderr",
     "output_type": "stream",
     "text": [
      "111, 3:  86%|████████▌ | 888/1030 [1:33:48<10:23,  4.39s/it]"
     ]
    },
    {
     "name": "stdout",
     "output_type": "stream",
     "text": [
      "2812 111 3\n"
     ]
    },
    {
     "name": "stderr",
     "output_type": "stream",
     "text": [
      "111, 3:  86%|████████▋ | 890/1030 [1:33:57<09:58,  4.28s/it]"
     ]
    },
    {
     "name": "stdout",
     "output_type": "stream",
     "text": [
      "2834 111 3\n"
     ]
    },
    {
     "name": "stderr",
     "output_type": "stream",
     "text": [
      "111, 3:  88%|████████▊ | 911/1030 [1:36:15<10:20,  5.22s/it]"
     ]
    },
    {
     "name": "stdout",
     "output_type": "stream",
     "text": [
      "2845 111 3\n"
     ]
    },
    {
     "name": "stderr",
     "output_type": "stream",
     "text": [
      "111, 3:  90%|████████▉ | 925/1030 [1:37:43<09:15,  5.29s/it]"
     ]
    },
    {
     "name": "stdout",
     "output_type": "stream",
     "text": [
      "2889 111 3\n"
     ]
    },
    {
     "name": "stderr",
     "output_type": "stream",
     "text": [
      "111, 3:  90%|█████████ | 927/1030 [1:37:52<07:59,  4.66s/it]"
     ]
    },
    {
     "name": "stdout",
     "output_type": "stream",
     "text": [
      "2838 111 3\n"
     ]
    },
    {
     "name": "stderr",
     "output_type": "stream",
     "text": [
      "111, 3:  91%|█████████ | 939/1030 [1:39:05<07:56,  5.24s/it]"
     ]
    },
    {
     "name": "stdout",
     "output_type": "stream",
     "text": [
      "2820 111 3\n"
     ]
    },
    {
     "name": "stderr",
     "output_type": "stream",
     "text": [
      "111, 3:  92%|█████████▏| 952/1030 [1:40:27<07:09,  5.51s/it]"
     ]
    },
    {
     "name": "stdout",
     "output_type": "stream",
     "text": [
      "2883 111 3\n"
     ]
    },
    {
     "name": "stderr",
     "output_type": "stream",
     "text": [
      "111, 3:  93%|█████████▎| 953/1030 [1:40:29<05:52,  4.58s/it]"
     ]
    },
    {
     "name": "stdout",
     "output_type": "stream",
     "text": [
      "2849 111 3\n"
     ]
    },
    {
     "name": "stderr",
     "output_type": "stream",
     "text": [
      "111, 3:  96%|█████████▌| 984/1030 [1:43:58<04:16,  5.57s/it]"
     ]
    },
    {
     "name": "stdout",
     "output_type": "stream",
     "text": [
      "2836 111 3\n"
     ]
    },
    {
     "name": "stderr",
     "output_type": "stream",
     "text": [
      "111, 3:  97%|█████████▋| 1000/1030 [1:45:40<02:41,  5.37s/it]"
     ]
    },
    {
     "name": "stdout",
     "output_type": "stream",
     "text": [
      "2897 111 3\n"
     ]
    },
    {
     "name": "stderr",
     "output_type": "stream",
     "text": [
      "111, 3:  98%|█████████▊| 1005/1030 [1:46:11<02:14,  5.37s/it]"
     ]
    },
    {
     "name": "stdout",
     "output_type": "stream",
     "text": [
      "2888 111 3\n"
     ]
    },
    {
     "name": "stderr",
     "output_type": "stream",
     "text": [
      "111, 3:  99%|█████████▉| 1022/1030 [1:47:46<00:32,  4.02s/it]"
     ]
    },
    {
     "name": "stdout",
     "output_type": "stream",
     "text": [
      "2867 111 3\n"
     ]
    },
    {
     "name": "stderr",
     "output_type": "stream",
     "text": [
      "111, 3: 100%|██████████| 1030/1030 [1:48:33<00:00,  6.32s/it]\n",
      "111, 4:  14%|█▍        | 146/1030 [13:21<1:04:18,  4.36s/it]"
     ]
    },
    {
     "name": "stdout",
     "output_type": "stream",
     "text": [
      "5871 111 4\n"
     ]
    },
    {
     "name": "stderr",
     "output_type": "stream",
     "text": [
      "111, 4:  26%|██▌       | 268/1030 [24:36<57:39,  4.54s/it]  "
     ]
    },
    {
     "name": "stdout",
     "output_type": "stream",
     "text": [
      "2850 111 4\n"
     ]
    },
    {
     "name": "stderr",
     "output_type": "stream",
     "text": [
      "111, 4:  40%|███▉      | 407/1030 [36:49<49:37,  4.78s/it]  "
     ]
    },
    {
     "name": "stdout",
     "output_type": "stream",
     "text": [
      "2809 111 4\n"
     ]
    },
    {
     "name": "stderr",
     "output_type": "stream",
     "text": [
      "111, 4:  44%|████▍     | 451/1030 [41:08<54:39,  5.66s/it]  "
     ]
    },
    {
     "name": "stdout",
     "output_type": "stream",
     "text": [
      "2882 111 4\n"
     ]
    },
    {
     "name": "stderr",
     "output_type": "stream",
     "text": [
      "111, 4:  53%|█████▎    | 544/1030 [50:38<39:16,  4.85s/it]  "
     ]
    },
    {
     "name": "stdout",
     "output_type": "stream",
     "text": [
      "5876 111 4\n"
     ]
    },
    {
     "name": "stderr",
     "output_type": "stream",
     "text": [
      "111, 4:  53%|█████▎    | 551/1030 [51:19<43:46,  5.48s/it]"
     ]
    },
    {
     "name": "stdout",
     "output_type": "stream",
     "text": [
      "6901 111 4\n"
     ]
    },
    {
     "name": "stderr",
     "output_type": "stream",
     "text": [
      "111, 4:  57%|█████▋    | 586/1030 [54:54<35:46,  4.83s/it]"
     ]
    },
    {
     "name": "stdout",
     "output_type": "stream",
     "text": [
      "2886 111 4\n"
     ]
    },
    {
     "name": "stderr",
     "output_type": "stream",
     "text": [
      "111, 4:  60%|█████▉    | 613/1030 [57:38<38:00,  5.47s/it]"
     ]
    },
    {
     "name": "stdout",
     "output_type": "stream",
     "text": [
      "2891 111 4\n"
     ]
    },
    {
     "name": "stderr",
     "output_type": "stream",
     "text": [
      "111, 4:  63%|██████▎   | 646/1030 [1:01:15<32:10,  5.03s/it]"
     ]
    },
    {
     "name": "stdout",
     "output_type": "stream",
     "text": [
      "2816 111 4\n"
     ]
    },
    {
     "name": "stderr",
     "output_type": "stream",
     "text": [
      "111, 4:  66%|██████▋   | 683/1030 [1:05:06<32:01,  5.54s/it]"
     ]
    },
    {
     "name": "stdout",
     "output_type": "stream",
     "text": [
      "2885 111 4\n"
     ]
    },
    {
     "name": "stderr",
     "output_type": "stream",
     "text": [
      "111, 4:  70%|███████   | 725/1030 [1:09:58<26:05,  5.13s/it]"
     ]
    },
    {
     "name": "stdout",
     "output_type": "stream",
     "text": [
      "2855 111 4\n"
     ]
    },
    {
     "name": "stderr",
     "output_type": "stream",
     "text": [
      "111, 4:  71%|███████▏  | 734/1030 [1:11:02<28:25,  5.76s/it]"
     ]
    },
    {
     "name": "stdout",
     "output_type": "stream",
     "text": [
      "2884 111 4\n"
     ]
    },
    {
     "name": "stderr",
     "output_type": "stream",
     "text": [
      "111, 4:  72%|███████▏  | 745/1030 [1:12:25<32:01,  6.74s/it]"
     ]
    },
    {
     "name": "stdout",
     "output_type": "stream",
     "text": [
      "3686 111 4\n"
     ]
    },
    {
     "name": "stderr",
     "output_type": "stream",
     "text": [
      "111, 4:  73%|███████▎  | 747/1030 [1:12:33<25:09,  5.33s/it]"
     ]
    },
    {
     "name": "stdout",
     "output_type": "stream",
     "text": [
      "2892 111 4\n"
     ]
    },
    {
     "name": "stderr",
     "output_type": "stream",
     "text": [
      "111, 4:  73%|███████▎  | 756/1030 [1:13:25<25:10,  5.51s/it]"
     ]
    },
    {
     "name": "stdout",
     "output_type": "stream",
     "text": [
      "2832 111 4\n"
     ]
    },
    {
     "name": "stderr",
     "output_type": "stream",
     "text": [
      "111, 4:  74%|███████▍  | 765/1030 [1:14:39<26:50,  6.08s/it]"
     ]
    },
    {
     "name": "stdout",
     "output_type": "stream",
     "text": [
      "2880 111 4\n"
     ]
    },
    {
     "name": "stderr",
     "output_type": "stream",
     "text": [
      "111, 4:  75%|███████▍  | 769/1030 [1:14:59<21:36,  4.97s/it]"
     ]
    },
    {
     "name": "stdout",
     "output_type": "stream",
     "text": [
      "5880 111 4\n"
     ]
    },
    {
     "name": "stderr",
     "output_type": "stream",
     "text": [
      "111, 4:  75%|███████▌  | 773/1030 [1:15:27<23:18,  5.44s/it]"
     ]
    },
    {
     "name": "stdout",
     "output_type": "stream",
     "text": [
      "2851 111 4\n"
     ]
    },
    {
     "name": "stderr",
     "output_type": "stream",
     "text": [
      "111, 4:  75%|███████▌  | 774/1030 [1:15:30<19:54,  4.67s/it]"
     ]
    },
    {
     "name": "stdout",
     "output_type": "stream",
     "text": [
      "2890 111 4\n"
     ]
    },
    {
     "name": "stderr",
     "output_type": "stream",
     "text": [
      "111, 4:  77%|███████▋  | 792/1030 [1:17:26<19:34,  4.93s/it]"
     ]
    },
    {
     "name": "stdout",
     "output_type": "stream",
     "text": [
      "2852 111 4\n"
     ]
    },
    {
     "name": "stderr",
     "output_type": "stream",
     "text": [
      "111, 4:  85%|████████▌ | 880/1030 [1:27:19<13:01,  5.21s/it]"
     ]
    },
    {
     "name": "stdout",
     "output_type": "stream",
     "text": [
      "2887 111 4\n"
     ]
    },
    {
     "name": "stderr",
     "output_type": "stream",
     "text": [
      "111, 4:  86%|████████▌ | 887/1030 [1:28:02<11:53,  4.99s/it]"
     ]
    },
    {
     "name": "stdout",
     "output_type": "stream",
     "text": [
      "2801 111 4\n"
     ]
    },
    {
     "name": "stderr",
     "output_type": "stream",
     "text": [
      "111, 4:  86%|████████▌ | 888/1030 [1:28:04<09:54,  4.19s/it]"
     ]
    },
    {
     "name": "stdout",
     "output_type": "stream",
     "text": [
      "2812 111 4\n"
     ]
    },
    {
     "name": "stderr",
     "output_type": "stream",
     "text": [
      "111, 4:  86%|████████▋ | 890/1030 [1:28:13<09:41,  4.15s/it]"
     ]
    },
    {
     "name": "stdout",
     "output_type": "stream",
     "text": [
      "2834 111 4\n"
     ]
    },
    {
     "name": "stderr",
     "output_type": "stream",
     "text": [
      "111, 4:  88%|████████▊ | 911/1030 [1:30:35<09:14,  4.66s/it]"
     ]
    },
    {
     "name": "stdout",
     "output_type": "stream",
     "text": [
      "2845 111 4\n"
     ]
    },
    {
     "name": "stderr",
     "output_type": "stream",
     "text": [
      "111, 4:  90%|████████▉ | 925/1030 [1:32:03<08:47,  5.03s/it]"
     ]
    },
    {
     "name": "stdout",
     "output_type": "stream",
     "text": [
      "2889 111 4\n"
     ]
    },
    {
     "name": "stderr",
     "output_type": "stream",
     "text": [
      "111, 4:  90%|█████████ | 927/1030 [1:32:13<07:56,  4.62s/it]"
     ]
    },
    {
     "name": "stdout",
     "output_type": "stream",
     "text": [
      "2838 111 4\n"
     ]
    },
    {
     "name": "stderr",
     "output_type": "stream",
     "text": [
      "111, 4:  91%|█████████ | 939/1030 [1:33:22<07:00,  4.62s/it]"
     ]
    },
    {
     "name": "stdout",
     "output_type": "stream",
     "text": [
      "2820 111 4\n"
     ]
    },
    {
     "name": "stderr",
     "output_type": "stream",
     "text": [
      "111, 4:  92%|█████████▏| 952/1030 [1:34:30<06:00,  4.63s/it]"
     ]
    },
    {
     "name": "stdout",
     "output_type": "stream",
     "text": [
      "2883 111 4\n"
     ]
    },
    {
     "name": "stderr",
     "output_type": "stream",
     "text": [
      "111, 4:  93%|█████████▎| 953/1030 [1:34:32<05:01,  3.91s/it]"
     ]
    },
    {
     "name": "stdout",
     "output_type": "stream",
     "text": [
      "2849 111 4\n"
     ]
    },
    {
     "name": "stderr",
     "output_type": "stream",
     "text": [
      "111, 4:  96%|█████████▌| 984/1030 [1:37:34<03:37,  4.72s/it]"
     ]
    },
    {
     "name": "stdout",
     "output_type": "stream",
     "text": [
      "2836 111 4\n"
     ]
    },
    {
     "name": "stderr",
     "output_type": "stream",
     "text": [
      "111, 4:  97%|█████████▋| 1000/1030 [1:38:59<02:16,  4.54s/it]"
     ]
    },
    {
     "name": "stdout",
     "output_type": "stream",
     "text": [
      "2897 111 4\n"
     ]
    },
    {
     "name": "stderr",
     "output_type": "stream",
     "text": [
      "111, 4:  98%|█████████▊| 1013/1030 [1:39:59<01:19,  4.68s/it]"
     ]
    },
    {
     "name": "stdout",
     "output_type": "stream",
     "text": [
      "1512 111 4\n"
     ]
    },
    {
     "name": "stderr",
     "output_type": "stream",
     "text": [
      "111, 4:  98%|█████████▊| 1014/1030 [1:40:02<01:03,  3.96s/it]"
     ]
    },
    {
     "name": "stdout",
     "output_type": "stream",
     "text": [
      "1718 111 4\n"
     ]
    },
    {
     "name": "stderr",
     "output_type": "stream",
     "text": [
      "111, 4:  99%|█████████▉| 1022/1030 [1:40:34<00:31,  3.91s/it]"
     ]
    },
    {
     "name": "stdout",
     "output_type": "stream",
     "text": [
      "2867 111 4\n"
     ]
    },
    {
     "name": "stderr",
     "output_type": "stream",
     "text": [
      "111, 4: 100%|██████████| 1030/1030 [1:41:29<00:00,  5.91s/it]\n",
      "109, 1:   4%|▍         | 43/1030 [04:40<1:21:18,  4.94s/it]"
     ]
    },
    {
     "name": "stdout",
     "output_type": "stream",
     "text": [
      "3583 109 1\n"
     ]
    },
    {
     "name": "stderr",
     "output_type": "stream",
     "text": [
      "109, 1:   4%|▍         | 44/1030 [04:44<1:15:13,  4.58s/it]"
     ]
    },
    {
     "name": "stdout",
     "output_type": "stream",
     "text": [
      "8464 109 1\n"
     ]
    },
    {
     "name": "stderr",
     "output_type": "stream",
     "text": [
      "109, 1:   4%|▍         | 45/1030 [04:49<1:16:45,  4.68s/it]"
     ]
    },
    {
     "name": "stdout",
     "output_type": "stream",
     "text": [
      "6531 109 1\n"
     ]
    },
    {
     "name": "stderr",
     "output_type": "stream",
     "text": [
      "109, 1:   5%|▍         | 51/1030 [05:29<1:36:20,  5.90s/it]"
     ]
    },
    {
     "name": "stdout",
     "output_type": "stream",
     "text": [
      "6789 109 1\n"
     ]
    },
    {
     "name": "stderr",
     "output_type": "stream",
     "text": [
      "109, 1:   5%|▌         | 54/1030 [05:43<1:21:54,  5.04s/it]"
     ]
    },
    {
     "name": "stdout",
     "output_type": "stream",
     "text": [
      "3035 109 1\n"
     ]
    },
    {
     "name": "stderr",
     "output_type": "stream",
     "text": [
      "109, 1:   7%|▋         | 70/1030 [07:17<1:19:29,  4.97s/it]"
     ]
    },
    {
     "name": "stdout",
     "output_type": "stream",
     "text": [
      "1503 109 1\n"
     ]
    },
    {
     "name": "stderr",
     "output_type": "stream",
     "text": [
      "109, 1:   8%|▊         | 79/1030 [08:05<1:33:44,  5.91s/it]"
     ]
    },
    {
     "name": "stdout",
     "output_type": "stream",
     "text": [
      "6139 109 1\n"
     ]
    },
    {
     "name": "stderr",
     "output_type": "stream",
     "text": [
      "109, 1:   8%|▊         | 87/1030 [08:47<1:29:26,  5.69s/it]"
     ]
    },
    {
     "name": "stdout",
     "output_type": "stream",
     "text": [
      "3130 109 1\n"
     ]
    },
    {
     "name": "stderr",
     "output_type": "stream",
     "text": [
      "109, 1:   9%|▉         | 91/1030 [09:14<1:34:45,  6.06s/it]"
     ]
    },
    {
     "name": "stdout",
     "output_type": "stream",
     "text": [
      "4968 109 1\n"
     ]
    },
    {
     "name": "stderr",
     "output_type": "stream",
     "text": [
      "109, 1:  10%|▉         | 101/1030 [10:25<1:43:59,  6.72s/it]"
     ]
    },
    {
     "name": "stdout",
     "output_type": "stream",
     "text": [
      "2368 109 1\n"
     ]
    },
    {
     "name": "stderr",
     "output_type": "stream",
     "text": [
      "109, 1:  12%|█▏        | 119/1030 [12:28<1:49:48,  7.23s/it]"
     ]
    },
    {
     "name": "stdout",
     "output_type": "stream",
     "text": [
      "8422 109 1\n"
     ]
    },
    {
     "name": "stderr",
     "output_type": "stream",
     "text": [
      "109, 1:  12%|█▏        | 120/1030 [12:32<1:36:04,  6.33s/it]"
     ]
    },
    {
     "name": "stdout",
     "output_type": "stream",
     "text": [
      "3037 109 1\n"
     ]
    },
    {
     "name": "stderr",
     "output_type": "stream",
     "text": [
      "109, 1:  14%|█▍        | 146/1030 [15:34<1:27:51,  5.96s/it]"
     ]
    },
    {
     "name": "stdout",
     "output_type": "stream",
     "text": [
      "5871 109 1\n"
     ]
    },
    {
     "name": "stderr",
     "output_type": "stream",
     "text": [
      "109, 1:  18%|█▊        | 183/1030 [19:36<1:24:11,  5.96s/it]"
     ]
    },
    {
     "name": "stdout",
     "output_type": "stream",
     "text": [
      "9917 109 1\n"
     ]
    },
    {
     "name": "stderr",
     "output_type": "stream",
     "text": [
      "109, 1:  26%|██▌       | 268/1030 [29:44<1:16:14,  6.00s/it]"
     ]
    },
    {
     "name": "stdout",
     "output_type": "stream",
     "text": [
      "2850 109 1\n"
     ]
    },
    {
     "name": "stderr",
     "output_type": "stream",
     "text": [
      "109, 1:  32%|███▏      | 331/1030 [37:20<1:13:49,  6.34s/it]"
     ]
    },
    {
     "name": "stdout",
     "output_type": "stream",
     "text": [
      "2313 109 1\n"
     ]
    },
    {
     "name": "stderr",
     "output_type": "stream",
     "text": [
      "109, 1:  40%|███▉      | 407/1030 [45:31<56:18,  5.42s/it]  "
     ]
    },
    {
     "name": "stdout",
     "output_type": "stream",
     "text": [
      "2809 109 1\n"
     ]
    },
    {
     "name": "stderr",
     "output_type": "stream",
     "text": [
      "109, 1:  41%|████      | 422/1030 [47:03<1:08:42,  6.78s/it]"
     ]
    },
    {
     "name": "stdout",
     "output_type": "stream",
     "text": [
      "1438 109 1\n"
     ]
    },
    {
     "name": "stderr",
     "output_type": "stream",
     "text": [
      "109, 1:  44%|████▍     | 451/1030 [50:17<1:01:15,  6.35s/it]"
     ]
    },
    {
     "name": "stdout",
     "output_type": "stream",
     "text": [
      "2882 109 1\n"
     ]
    },
    {
     "name": "stderr",
     "output_type": "stream",
     "text": [
      "109, 1:  49%|████▉     | 505/1030 [57:31<1:06:12,  7.57s/it]"
     ]
    }
   ],
   "source": [
    "arrs = []\n",
    "try_ = 3\n",
    "sleep_ = 3\n",
    "season_dict = {\n",
    "1: '03-31',\n",
    "2: \"06-30\",\n",
    "3: \"09-30\",\n",
    "4: \"12-31\",\n",
    "}\n",
    "slices = {\n",
    "    'df_current': slice(5, 15),\n",
    "    'df_noncurrent': slice(18, 25),\n",
    "    'df_total_asset': 26,\n",
    "    'df_currentlia': slice(28, 36),\n",
    "    'df_noncurrentlia': slice(38, 43),\n",
    "    'df_total_lia': 44,\n",
    "    'df_equity': slice(-5, -3)\n",
    "}\n",
    "chrome_options = Options()\n",
    "chrome_options.add_argument('--headless')  # Run Chrome in headless mode\n",
    "chrome_options.add_argument('--no-sandbox')  # Bypass OS security model, useful for running on servers\n",
    "chrome_options.add_argument('--disable-dev-shm-usage')  # Overcome limited resource problems\n",
    "\n",
    "# Set up the Chrome WebDriver with the specified options\n",
    "driver = webdriver.Chrome(options=chrome_options)\n",
    "url = 'https://mops.twse.com.tw/mops/web/t164sb03'\n",
    "driver.get(url)\n",
    "wait = WebDriverWait(driver, 20)\n",
    "time.sleep(2)\n",
    "select_element_isnew = wait.until(EC.presence_of_element_located((By.ID, 'isnew')))\n",
    "select_isnew = Select(select_element_isnew)\n",
    "company_code_input = wait.until(EC.presence_of_element_located((By.ID, 'co_id')))\n",
    "year_input = driver.find_element(By.ID, 'year')\n",
    "select_element_Season = wait.until(EC.presence_of_element_located((By.ID, 'season')))\n",
    "select_season = Select(select_element_Season)\n",
    "search_button = driver.find_element(By.CSS_SELECTOR, 'input[type=\"button\"][value=\" 查詢 \"]')\n",
    "for year in [111, 109]:\n",
    "    if year != 111:\n",
    "        year_input.clear()\n",
    "    for season in [1, 2, 3, 4]:\n",
    "        for ticker in tqdm(list_tw_stock, desc=f\"{year}, {season}\"):\n",
    "            wait = WebDriverWait(driver, 20)\n",
    "            select_isnew.select_by_visible_text('歷史資料')\n",
    "\n",
    "            company_code_input.clear()\n",
    "            company_code_input.send_keys(ticker)\n",
    "\n",
    "            year_input.send_keys(str(year))\n",
    "\n",
    "            select_season.select_by_visible_text(str(season))\n",
    "            search_button.click()\n",
    "\n",
    "            wait.until(EC.presence_of_element_located((By.ID, 'table01')))\n",
    "            time.sleep(2)\n",
    "            data = []\n",
    "            df = None\n",
    "            for i in range(try_):\n",
    "                try:\n",
    "                    table = driver.find_element(By.CLASS_NAME, 'hasBorder')\n",
    "                    rows = table.find_elements(By.TAG_NAME, \"tr\")\n",
    "                    for row in rows:\n",
    "                        cols = row.find_elements(By.TAG_NAME, 'td')\n",
    "                        cols = [col.text for col in cols]\n",
    "                        data.append(cols)\n",
    "                        df = pd.DataFrame(data)\n",
    "                    break\n",
    "                except Exception as e:\n",
    "                    # financial statements not exist\n",
    "                    break\n",
    "            if df is None:\n",
    "                continue\n",
    "            try:\n",
    "                df_sp = df.iloc[:, [0, 1, 2, -2, -1]]\n",
    "                dfs = {name: df_sp.iloc[s] if isinstance(s, slice) else df_sp.iloc[[s], :] for name, s in slices.items()}\n",
    "                df_concat = pd.concat(dfs.values())\n",
    "                df_concat.insert(3, \"season_da1\", f\"{1911+year}-{season_dict[season]}\")\n",
    "                df_concat.insert(4, \"ticker\", ticker)\n",
    "                df_concat.insert(5, \"name2\", df_concat.iloc[:, 0])\n",
    "                df_concat.insert(8, \"season_da2\", f\"{1911+year-1}-{season_dict[season]}\")\n",
    "                df_concat.insert(9, \"ticker1\", ticker)\n",
    "                array_f = df_concat.values.reshape(int(df_concat.shape[0]*2), int(df_concat.shape[1]/2))\n",
    "                arrs.append(array_f)\n",
    "            except IndexError:\n",
    "                print(ticker, year, season)\n",
    "                continue"
   ]
  },
  {
   "cell_type": "code",
   "execution_count": 36,
   "metadata": {},
   "outputs": [
    {
     "data": {
      "text/html": [
       "<div>\n",
       "<style scoped>\n",
       "    .dataframe tbody tr th:only-of-type {\n",
       "        vertical-align: middle;\n",
       "    }\n",
       "\n",
       "    .dataframe tbody tr th {\n",
       "        vertical-align: top;\n",
       "    }\n",
       "\n",
       "    .dataframe thead th {\n",
       "        text-align: right;\n",
       "    }\n",
       "</style>\n",
       "<table border=\"1\" class=\"dataframe\">\n",
       "  <thead>\n",
       "    <tr style=\"text-align: right;\">\n",
       "      <th></th>\n",
       "      <th>0</th>\n",
       "      <th>1</th>\n",
       "      <th>2</th>\n",
       "      <th>3</th>\n",
       "      <th>4</th>\n",
       "    </tr>\n",
       "  </thead>\n",
       "  <tbody>\n",
       "    <tr>\n",
       "      <th>0</th>\n",
       "      <td>現金及約當現金</td>\n",
       "      <td>1,151,589,646</td>\n",
       "      <td>28.84</td>\n",
       "      <td>2022-03-31</td>\n",
       "      <td>2330</td>\n",
       "    </tr>\n",
       "    <tr>\n",
       "      <th>1</th>\n",
       "      <td>現金及約當現金</td>\n",
       "      <td>664,727,857</td>\n",
       "      <td>22.77</td>\n",
       "      <td>2021-03-31</td>\n",
       "      <td>2330</td>\n",
       "    </tr>\n",
       "    <tr>\n",
       "      <th>2</th>\n",
       "      <td>透過損益按公允價值衡量之金融資產－流動</td>\n",
       "      <td>758,452</td>\n",
       "      <td>0.02</td>\n",
       "      <td>2022-03-31</td>\n",
       "      <td>2330</td>\n",
       "    </tr>\n",
       "    <tr>\n",
       "      <th>3</th>\n",
       "      <td>透過損益按公允價值衡量之金融資產－流動</td>\n",
       "      <td>26,897</td>\n",
       "      <td>0.00</td>\n",
       "      <td>2021-03-31</td>\n",
       "      <td>2330</td>\n",
       "    </tr>\n",
       "    <tr>\n",
       "      <th>4</th>\n",
       "      <td>透過其他綜合損益按公允價值衡量之金融資產－流動</td>\n",
       "      <td>120,995,765</td>\n",
       "      <td>3.03</td>\n",
       "      <td>2022-03-31</td>\n",
       "      <td>2330</td>\n",
       "    </tr>\n",
       "    <tr>\n",
       "      <th>...</th>\n",
       "      <td>...</td>\n",
       "      <td>...</td>\n",
       "      <td>...</td>\n",
       "      <td>...</td>\n",
       "      <td>...</td>\n",
       "    </tr>\n",
       "    <tr>\n",
       "      <th>1083</th>\n",
       "      <td>遞延所得稅負債</td>\n",
       "      <td>18,261,509</td>\n",
       "      <td>0.55</td>\n",
       "      <td>2019-12-31</td>\n",
       "      <td>2317</td>\n",
       "    </tr>\n",
       "    <tr>\n",
       "      <th>1084</th>\n",
       "      <td>權益總額</td>\n",
       "      <td>1,474,146,409</td>\n",
       "      <td>40.12</td>\n",
       "      <td>2020-12-31</td>\n",
       "      <td>2317</td>\n",
       "    </tr>\n",
       "    <tr>\n",
       "      <th>1085</th>\n",
       "      <td>權益總額</td>\n",
       "      <td>1,399,625,417</td>\n",
       "      <td>42.15</td>\n",
       "      <td>2019-12-31</td>\n",
       "      <td>2317</td>\n",
       "    </tr>\n",
       "    <tr>\n",
       "      <th>1086</th>\n",
       "      <td>負債及權益總計</td>\n",
       "      <td>3,674,275,590</td>\n",
       "      <td>100.00</td>\n",
       "      <td>2020-12-31</td>\n",
       "      <td>2317</td>\n",
       "    </tr>\n",
       "    <tr>\n",
       "      <th>1087</th>\n",
       "      <td>負債及權益總計</td>\n",
       "      <td>3,320,941,698</td>\n",
       "      <td>100.00</td>\n",
       "      <td>2019-12-31</td>\n",
       "      <td>2317</td>\n",
       "    </tr>\n",
       "  </tbody>\n",
       "</table>\n",
       "<p>1088 rows × 5 columns</p>\n",
       "</div>"
      ],
      "text/plain": [
       "                            0              1       2           3     4\n",
       "0                     現金及約當現金  1,151,589,646   28.84  2022-03-31  2330\n",
       "1                     現金及約當現金    664,727,857   22.77  2021-03-31  2330\n",
       "2         透過損益按公允價值衡量之金融資產－流動        758,452    0.02  2022-03-31  2330\n",
       "3         透過損益按公允價值衡量之金融資產－流動         26,897    0.00  2021-03-31  2330\n",
       "4     透過其他綜合損益按公允價值衡量之金融資產－流動    120,995,765    3.03  2022-03-31  2330\n",
       "...                       ...            ...     ...         ...   ...\n",
       "1083                  遞延所得稅負債     18,261,509    0.55  2019-12-31  2317\n",
       "1084                     權益總額  1,474,146,409   40.12  2020-12-31  2317\n",
       "1085                     權益總額  1,399,625,417   42.15  2019-12-31  2317\n",
       "1086                  負債及權益總計  3,674,275,590  100.00  2020-12-31  2317\n",
       "1087                  負債及權益總計  3,320,941,698  100.00  2019-12-31  2317\n",
       "\n",
       "[1088 rows x 5 columns]"
      ]
     },
     "execution_count": 36,
     "metadata": {},
     "output_type": "execute_result"
    }
   ],
   "source": [
    "df_long_format = pd.DataFrame(sum([array_f.tolist() for array_f in arrs], []))\n"
   ]
  }
 ],
 "metadata": {
  "kernelspec": {
   "display_name": "Python 3",
   "language": "python",
   "name": "python3"
  },
  "language_info": {
   "codemirror_mode": {
    "name": "ipython",
    "version": 3
   },
   "file_extension": ".py",
   "mimetype": "text/x-python",
   "name": "python",
   "nbconvert_exporter": "python",
   "pygments_lexer": "ipython3",
   "version": "3.11.9"
  }
 },
 "nbformat": 4,
 "nbformat_minor": 2
}
