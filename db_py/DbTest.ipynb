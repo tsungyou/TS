{
 "cells": [
  {
   "cell_type": "code",
   "execution_count": 1,
   "metadata": {},
   "outputs": [
    {
     "data": {
      "text/plain": [
       "'/Users/test/risksoft/TS/db_py'"
      ]
     },
     "execution_count": 1,
     "metadata": {},
     "output_type": "execute_result"
    }
   ],
   "source": [
    "import numpy as np\n",
    "import pandas as pd\n",
    "import matplotlib.pyplot as plt \n",
    "from tqdm import tqdm\n",
    "import warnings\n",
    "from datetime import datetime, timedelta\n",
    "import statsmodels.api as sm\n",
    "import os\n",
    "warnings.filterwarnings(\"ignore\")\n",
    "os.getcwd()"
   ]
  },
  {
   "cell_type": "code",
   "execution_count": 2,
   "metadata": {},
   "outputs": [],
   "source": [
    "try:\n",
    "    os.chdir(\"../test123\")\n",
    "except FileNotFoundError:\n",
    "    os.makedirs(\"../test123\")\n",
    "    os.chdir(\"../test123\")"
   ]
  },
  {
   "cell_type": "code",
   "execution_count": 182,
   "metadata": {},
   "outputs": [
    {
     "name": "stdout",
     "output_type": "stream",
     "text": [
      "store pdata of values cl to tw/pdata/cl.parquet successful\n",
      "store pdata of values cl to tw/pdata/cl_pct.parquet successful\n",
      "store pdata of values op to tw/pdata/op.parquet successful\n",
      "store pdata of values op to tw/pdata/op_pct.parquet successful\n",
      "store pdata of values vol(volume) to tw/pdata/vol(volume).parquet successful\n",
      "store pdata of values vol(volume) to tw/pdata/vol(volume)_pct.parquet successful\n",
      "store pdata of values vol(turnover) to tw/pdata/vol(turnover).parquet successful\n",
      "store pdata of values vol(turnover) to tw/pdata/vol(turnover)_pct.parquet successful\n"
     ]
    }
   ],
   "source": [
    "directory = 'tw/price'\n",
    "list_ = os.listdir(directory)\n",
    "df_list = [pd.read_parquet(os.path.join(directory, i)) for i in list_]\n",
    "df_all = pd.concat(df_list)\n",
    "df_all['da1'] = df_all['da'].apply(lambda x: f\"{int(x[:3])+1911}-{x[4:6]}-{x[7:9]}\")\n",
    "df = df_all.drop_duplicates(subset=['ticker', 'da1'])\n",
    "df['da_check'] = df['da1'].astype(str).apply(lambda x: int(x[:4]))\n",
    "df_final = df[df['da_check'].isin([i for i in range(2018, 2026)])]\n",
    "\n",
    "for values in ['cl', 'op', 'vol(volume)', 'vol(turnover)']:\n",
    "    df_pivot = df_final.pivot(values=values, columns='ticker', index='da1')\n",
    "    df_pivot.replace(\"--\", None, inplace=True)\n",
    "    df_pivot.replace(\"-\", None, inplace=True)\n",
    "    df_pivot.ffill(inplace=True)\n",
    "    df_pivot = df_pivot.loc['2018-01-01':(datetime.now()+timedelta(days=1)).strftime(\"%Y-%m-%d\")]\n",
    "    df_pivot.sort_index(ascending=True, inplace=True)\n",
    "    df_pivot = df_pivot.apply(lambda x: x.str.replace(',', '').astype(float))\n",
    "    df_pivot.dropna(how='all', axis=1, inplace=True)\n",
    "    df_pivot.to_parquet(f\"tw/pdata/{values}.parquet\")\n",
    "    print(f\"store pdata of values {values} to tw/pdata/{values}.parquet successful\")\n",
    "    df_pivot_pct = df_pivot.pct_change().dropna()\n",
    "    df_pivot.to_parquet(f\"tw/pdata/{values}_pct.parquet\")\n",
    "    print(f\"store pdata of values {values} to tw/pdata/{values}_pct.parquet successful\")\n",
    "    \n"
   ]
  },
  {
   "cell_type": "code",
   "execution_count": 127,
   "metadata": {},
   "outputs": [
    {
     "name": "stdout",
     "output_type": "stream",
     "text": [
      "store pdata of values pe to tw/pdata/pe.parquet successful\n",
      "store pdata of values pb to tw/pdata/pb.parquet successful\n"
     ]
    }
   ],
   "source": [
    "directory = 'tw/pb_ratio'\n",
    "list_ = os.listdir(directory)\n",
    "df_list = [pd.read_parquet(os.path.join(directory, i)) for i in list_]\n",
    "df_all = pd.concat(df_list)\n",
    "df_all['da'] = df_all.index\n",
    "df = df_all.drop_duplicates(subset=['ticker', 'da'])\n",
    "for values in ['pe', 'pb']:\n",
    "    df_pivot = df.pivot(values=values, columns='ticker', index='da')\n",
    "\n",
    "    df_pivot.replace(\"--\", None, inplace=True)\n",
    "    df_pivot.replace(\"-\", None, inplace=True)\n",
    "    df_pivot.ffill(inplace=True)\n",
    "    df_pivot = df_pivot.loc['2018-01-01':(datetime.now()+timedelta(days=1)).strftime(\"%Y-%m-%d\")]\n",
    "    df_pivot.sort_index(ascending=True, inplace=True)\n",
    "    df_pivot = df_pivot.apply(lambda x: x.str.replace(',', '').astype(float))\n",
    "    df_pivot.dropna(how='all', axis=1, inplace=True)\n",
    "    df_pivot.to_parquet(f\"tw/pdata/{values}.parquet\")\n",
    "    print(f\"store pdata of values {values} to tw/pdata/{values}.parquet successful\")\n"
   ]
  },
  {
   "cell_type": "markdown",
   "metadata": {},
   "source": [
    "### 富櫃50 TPEX"
   ]
  },
  {
   "cell_type": "code",
   "execution_count": null,
   "metadata": {},
   "outputs": [],
   "source": [
    "\n",
    "import requests\n",
    "list_list = []\n",
    "for year in range(113, 102, -1):\n",
    "    limit_month = 8 if year == 113 else 13\n",
    "    for index, month in enumerate(range(1, limit_month)):\n",
    "        month = f\"0{month}\" if month < 10 else month\n",
    "        url_gretai50 = f\"https://www.tpex.org.tw/web/stock/iNdex_info/gretai50/inxhis/rihisqry_result.php?l=zh-tw&d={year}/{month}/01&_=1720688879318\"\n",
    "        response = requests.get(url_gretai50)\n",
    "        data = response.json()['aaData']\n",
    "        list_list.append(data)\n",
    "list_ = sum(list_list, [])"
   ]
  },
  {
   "cell_type": "code",
   "execution_count": 32,
   "metadata": {},
   "outputs": [],
   "source": [
    "df = pd.DataFrame(list_)\n",
    "df.to_parquet('../db/tw/ind/gretai50.parquet')"
   ]
  },
  {
   "cell_type": "markdown",
   "metadata": {},
   "source": [
    "### 櫃買指數"
   ]
  },
  {
   "cell_type": "code",
   "execution_count": null,
   "metadata": {},
   "outputs": [],
   "source": []
  }
 ],
 "metadata": {
  "kernelspec": {
   "display_name": "Python 3",
   "language": "python",
   "name": "python3"
  },
  "language_info": {
   "codemirror_mode": {
    "name": "ipython",
    "version": 3
   },
   "file_extension": ".py",
   "mimetype": "text/x-python",
   "name": "python",
   "nbconvert_exporter": "python",
   "pygments_lexer": "ipython3",
   "version": "3.11.9"
  }
 },
 "nbformat": 4,
 "nbformat_minor": 2
}
