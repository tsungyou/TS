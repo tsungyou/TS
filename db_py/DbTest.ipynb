{
 "cells": [
  {
   "cell_type": "code",
   "execution_count": 182,
   "metadata": {},
   "outputs": [
    {
     "name": "stdout",
     "output_type": "stream",
     "text": [
      "store pdata of values cl to tw/pdata/cl.parquet successful\n",
      "store pdata of values cl to tw/pdata/cl_pct.parquet successful\n",
      "store pdata of values op to tw/pdata/op.parquet successful\n",
      "store pdata of values op to tw/pdata/op_pct.parquet successful\n",
      "store pdata of values vol(volume) to tw/pdata/vol(volume).parquet successful\n",
      "store pdata of values vol(volume) to tw/pdata/vol(volume)_pct.parquet successful\n",
      "store pdata of values vol(turnover) to tw/pdata/vol(turnover).parquet successful\n",
      "store pdata of values vol(turnover) to tw/pdata/vol(turnover)_pct.parquet successful\n"
     ]
    }
   ],
   "source": [
    "directory = 'tw/price'\n",
    "list_ = os.listdir(directory)\n",
    "df_list = [pd.read_parquet(os.path.join(directory, i)) for i in list_]\n",
    "df_all = pd.concat(df_list)\n",
    "df_all['da1'] = df_all['da'].apply(lambda x: f\"{int(x[:3])+1911}-{x[4:6]}-{x[7:9]}\")\n",
    "df = df_all.drop_duplicates(subset=['ticker', 'da1'])\n",
    "df['da_check'] = df['da1'].astype(str).apply(lambda x: int(x[:4]))\n",
    "df_final = df[df['da_check'].isin([i for i in range(2018, 2026)])]\n",
    "\n",
    "for values in ['cl', 'op', 'vol(volume)', 'vol(turnover)']:\n",
    "    df_pivot = df_final.pivot(values=values, columns='ticker', index='da1')\n",
    "    df_pivot.replace(\"--\", None, inplace=True)\n",
    "    df_pivot.replace(\"-\", None, inplace=True)\n",
    "    df_pivot.ffill(inplace=True)\n",
    "    df_pivot = df_pivot.loc['2018-01-01':(datetime.now()+timedelta(days=1)).strftime(\"%Y-%m-%d\")]\n",
    "    df_pivot.sort_index(ascending=True, inplace=True)\n",
    "    df_pivot = df_pivot.apply(lambda x: x.str.replace(',', '').astype(float))\n",
    "    df_pivot.dropna(how='all', axis=1, inplace=True)\n",
    "    df_pivot.to_parquet(f\"tw/pdata/{values}.parquet\")\n",
    "    print(f\"store pdata of values {values} to tw/pdata/{values}.parquet successful\")\n",
    "    df_pivot_pct = df_pivot.pct_change().dropna()\n",
    "    df_pivot.to_parquet(f\"tw/pdata/{values}_pct.parquet\")\n",
    "    print(f\"store pdata of values {values} to tw/pdata/{values}_pct.parquet successful\")\n",
    "    \n"
   ]
  },
  {
   "cell_type": "markdown",
   "metadata": {},
   "source": [
    "### 富櫃50 TPEX"
   ]
  },
  {
   "cell_type": "code",
   "execution_count": null,
   "metadata": {},
   "outputs": [],
   "source": [
    "\n",
    "import requests\n",
    "list_list = []\n",
    "for year in range(113, 102, -1):\n",
    "    limit_month = 8 if year == 113 else 13\n",
    "    for index, month in enumerate(range(1, limit_month)):\n",
    "        month = f\"0{month}\" if month < 10 else month\n",
    "        url_gretai50 = f\"https://www.tpex.org.tw/web/stock/iNdex_info/gretai50/inxhis/rihisqry_result.php?l=zh-tw&d={year}/{month}/01&_=1720688879318\"\n",
    "        response = requests.get(url_gretai50)\n",
    "        data = response.json()['aaData']\n",
    "        list_list.append(data)\n",
    "list_ = sum(list_list, [])\n",
    "df = pd.DataFrame(list_)\n",
    "df.to_parquet('../db/tw/ind/gretai50.parquet')"
   ]
  },
  {
   "cell_type": "markdown",
   "metadata": {},
   "source": [
    "### 財報, selenium"
   ]
  },
  {
   "cell_type": "code",
   "execution_count": null,
   "metadata": {},
   "outputs": [],
   "source": [
    "'''\n",
    "cd /Users/test/risksoft/TS/db/chromedriver_mac/chromedriver-mac-x64/\n",
    "chmod +x chromedriver\n",
    "\n",
    "or\n",
    "\n",
    "chmod +x /Users/test/risksoft/TS/db/chromedriver_mac/chromedriver-mac-x64/chromedriver\n",
    "\n",
    "so that auto generated chromedriver can be reached and executed\n",
    "'''"
   ]
  },
  {
   "cell_type": "code",
   "execution_count": 7,
   "metadata": {},
   "outputs": [],
   "source": [
    "import time\n",
    "import pandas as pd\n",
    "from selenium import webdriver\n",
    "from selenium.webdriver.common.by import By\n",
    "from selenium.webdriver.support.ui import WebDriverWait\n",
    "from selenium.webdriver.support import expected_conditions as EC\n",
    "from selenium.webdriver.chrome.service import Service\n",
    "from webdriver_manager.chrome import ChromeDriverManager\n",
    "\n",
    "# 初始化 Selenium WebDriver\n",
    "# options = webdriver.ChromeOptions()\n",
    "# options.add_argument(\"--headless\")\n",
    "service = Service(executable_path=obj.chromedriver_path)"
   ]
  },
  {
   "cell_type": "code",
   "execution_count": 1,
   "metadata": {},
   "outputs": [],
   "source": [
    "from selenium import webdriver\n",
    "from selenium.webdriver.common.by import By\n",
    "from selenium.webdriver.support.ui import WebDriverWait\n",
    "from selenium.webdriver.support import expected_conditions as EC\n",
    "from selenium.webdriver.chrome.service import Service\n",
    "from webdriver_manager.chrome import ChromeDriverManager\n",
    "from selenium.webdriver.support.ui import Select\n",
    "import time\n",
    "import pandas as pd\n",
    "import os\n",
    "import json\n",
    "from tqdm import tqdm\n",
    "from selenium.webdriver.chrome.options import Options\n",
    "os.chdir(\"../db/\")"
   ]
  },
  {
   "cell_type": "code",
   "execution_count": 2,
   "metadata": {},
   "outputs": [
    {
     "data": {
      "text/plain": [
       "'/Users/test/risksoft/TS/db'"
      ]
     },
     "execution_count": 2,
     "metadata": {},
     "output_type": "execute_result"
    }
   ],
   "source": [
    "import os\n",
    "os.getcwd()"
   ]
  },
  {
   "cell_type": "code",
   "execution_count": 2,
   "metadata": {},
   "outputs": [],
   "source": [
    "with open(\"../db/tw/symbol/symbol_4.json\", \"r\") as f:\n",
    "    tw_symbol_4 = json.load(f)\n",
    "list_tw_stock = [key for key, value in tw_symbol_4.items() if value==\"TW\"]"
   ]
  },
  {
   "cell_type": "code",
   "execution_count": 13,
   "metadata": {},
   "outputs": [
    {
     "name": "stderr",
     "output_type": "stream",
     "text": [
      "113, 1: 100%|██████████| 1030/1030 [1:42:34<00:00,  5.98s/it]\n",
      "109, 1: 100%|██████████| 1030/1030 [1:44:59<00:00,  6.12s/it]\n",
      "109, 2: 100%|██████████| 1030/1030 [1:48:26<00:00,  6.32s/it] \n",
      "109, 3: 100%|██████████| 1030/1030 [1:41:38<00:00,  5.92s/it]\n",
      "109, 4: 100%|██████████| 1030/1030 [1:22:39<00:00,  4.82s/it]\n",
      "107, 1: 100%|██████████| 1030/1030 [1:38:34<00:00,  5.74s/it]\n",
      "107, 2: 100%|██████████| 1030/1030 [1:46:54<00:00,  6.23s/it]\n",
      "107, 3:   1%|          | 10/1030 [00:24<41:02,  2.41s/it]\n"
     ]
    },
    {
     "ename": "ElementClickInterceptedException",
     "evalue": "Message: element click intercepted: Element <input type=\"button\" value=\" 查詢 \" onclick=\"javascript:doAction();ajax1(document.form1,'table01');\"> is not clickable at point (760, 189). Other element would receive the click: <div id=\"dialog-mask\" style=\"height: 100%; visibility: visible;\"></div>\n  (Session info: chrome-headless-shell=126.0.6478.127)\nStacktrace:\n0   chromedriver                        0x00000001029b80e8 chromedriver + 5169384\n1   chromedriver                        0x00000001029affba chromedriver + 5136314\n2   chromedriver                        0x000000010252c36c chromedriver + 402284\n3   chromedriver                        0x00000001025806b6 chromedriver + 747190\n4   chromedriver                        0x000000010257e4e8 chromedriver + 738536\n5   chromedriver                        0x000000010257bef7 chromedriver + 728823\n6   chromedriver                        0x000000010257ad12 chromedriver + 724242\n7   chromedriver                        0x000000010256e562 chromedriver + 673122\n8   chromedriver                        0x000000010259cab2 chromedriver + 862898\n9   chromedriver                        0x000000010256ded8 chromedriver + 671448\n10  chromedriver                        0x000000010259cc6e chromedriver + 863342\n11  chromedriver                        0x00000001025bbf57 chromedriver + 991063\n12  chromedriver                        0x000000010259c853 chromedriver + 862291\n13  chromedriver                        0x000000010256c5c6 chromedriver + 665030\n14  chromedriver                        0x000000010256ce4e chromedriver + 667214\n15  chromedriver                        0x000000010297ad00 chromedriver + 4918528\n16  chromedriver                        0x000000010297fcfd chromedriver + 4939005\n17  chromedriver                        0x00000001029803d5 chromedriver + 4940757\n18  chromedriver                        0x000000010295bde4 chromedriver + 4791780\n19  chromedriver                        0x00000001029806c9 chromedriver + 4941513\n20  chromedriver                        0x000000010294d5b4 chromedriver + 4732340\n21  chromedriver                        0x00000001029a0898 chromedriver + 5073048\n22  chromedriver                        0x00000001029a0a57 chromedriver + 5073495\n23  chromedriver                        0x00000001029afb6e chromedriver + 5135214\n24  libsystem_pthread.dylib             0x00007ff803ebd202 _pthread_start + 99\n25  libsystem_pthread.dylib             0x00007ff803eb8bab thread_start + 15\n",
     "output_type": "error",
     "traceback": [
      "\u001b[0;31m---------------------------------------------------------------------------\u001b[0m",
      "\u001b[0;31mElementClickInterceptedException\u001b[0m          Traceback (most recent call last)",
      "Cell \u001b[0;32mIn[13], line 55\u001b[0m\n\u001b[1;32m     52\u001b[0m year_input\u001b[38;5;241m.\u001b[39msend_keys(\u001b[38;5;28mstr\u001b[39m(year))\n\u001b[1;32m     54\u001b[0m select_season\u001b[38;5;241m.\u001b[39mselect_by_visible_text(\u001b[38;5;28mstr\u001b[39m(season))\n\u001b[0;32m---> 55\u001b[0m \u001b[43msearch_button\u001b[49m\u001b[38;5;241;43m.\u001b[39;49m\u001b[43mclick\u001b[49m\u001b[43m(\u001b[49m\u001b[43m)\u001b[49m\n\u001b[1;32m     57\u001b[0m wait\u001b[38;5;241m.\u001b[39muntil(EC\u001b[38;5;241m.\u001b[39mpresence_of_element_located((By\u001b[38;5;241m.\u001b[39mID, \u001b[38;5;124m'\u001b[39m\u001b[38;5;124mtable01\u001b[39m\u001b[38;5;124m'\u001b[39m)))\n\u001b[1;32m     58\u001b[0m time\u001b[38;5;241m.\u001b[39msleep(\u001b[38;5;241m2\u001b[39m)\n",
      "File \u001b[0;32m/Library/Frameworks/Python.framework/Versions/3.11/lib/python3.11/site-packages/selenium/webdriver/remote/webelement.py:94\u001b[0m, in \u001b[0;36mWebElement.click\u001b[0;34m(self)\u001b[0m\n\u001b[1;32m     92\u001b[0m \u001b[38;5;28;01mdef\u001b[39;00m \u001b[38;5;21mclick\u001b[39m(\u001b[38;5;28mself\u001b[39m) \u001b[38;5;241m-\u001b[39m\u001b[38;5;241m>\u001b[39m \u001b[38;5;28;01mNone\u001b[39;00m:\n\u001b[1;32m     93\u001b[0m \u001b[38;5;250m    \u001b[39m\u001b[38;5;124;03m\"\"\"Clicks the element.\"\"\"\u001b[39;00m\n\u001b[0;32m---> 94\u001b[0m     \u001b[38;5;28;43mself\u001b[39;49m\u001b[38;5;241;43m.\u001b[39;49m\u001b[43m_execute\u001b[49m\u001b[43m(\u001b[49m\u001b[43mCommand\u001b[49m\u001b[38;5;241;43m.\u001b[39;49m\u001b[43mCLICK_ELEMENT\u001b[49m\u001b[43m)\u001b[49m\n",
      "File \u001b[0;32m/Library/Frameworks/Python.framework/Versions/3.11/lib/python3.11/site-packages/selenium/webdriver/remote/webelement.py:395\u001b[0m, in \u001b[0;36mWebElement._execute\u001b[0;34m(self, command, params)\u001b[0m\n\u001b[1;32m    393\u001b[0m     params \u001b[38;5;241m=\u001b[39m {}\n\u001b[1;32m    394\u001b[0m params[\u001b[38;5;124m\"\u001b[39m\u001b[38;5;124mid\u001b[39m\u001b[38;5;124m\"\u001b[39m] \u001b[38;5;241m=\u001b[39m \u001b[38;5;28mself\u001b[39m\u001b[38;5;241m.\u001b[39m_id\n\u001b[0;32m--> 395\u001b[0m \u001b[38;5;28;01mreturn\u001b[39;00m \u001b[38;5;28;43mself\u001b[39;49m\u001b[38;5;241;43m.\u001b[39;49m\u001b[43m_parent\u001b[49m\u001b[38;5;241;43m.\u001b[39;49m\u001b[43mexecute\u001b[49m\u001b[43m(\u001b[49m\u001b[43mcommand\u001b[49m\u001b[43m,\u001b[49m\u001b[43m \u001b[49m\u001b[43mparams\u001b[49m\u001b[43m)\u001b[49m\n",
      "File \u001b[0;32m/Library/Frameworks/Python.framework/Versions/3.11/lib/python3.11/site-packages/selenium/webdriver/remote/webdriver.py:347\u001b[0m, in \u001b[0;36mWebDriver.execute\u001b[0;34m(self, driver_command, params)\u001b[0m\n\u001b[1;32m    345\u001b[0m response \u001b[38;5;241m=\u001b[39m \u001b[38;5;28mself\u001b[39m\u001b[38;5;241m.\u001b[39mcommand_executor\u001b[38;5;241m.\u001b[39mexecute(driver_command, params)\n\u001b[1;32m    346\u001b[0m \u001b[38;5;28;01mif\u001b[39;00m response:\n\u001b[0;32m--> 347\u001b[0m     \u001b[38;5;28;43mself\u001b[39;49m\u001b[38;5;241;43m.\u001b[39;49m\u001b[43merror_handler\u001b[49m\u001b[38;5;241;43m.\u001b[39;49m\u001b[43mcheck_response\u001b[49m\u001b[43m(\u001b[49m\u001b[43mresponse\u001b[49m\u001b[43m)\u001b[49m\n\u001b[1;32m    348\u001b[0m     response[\u001b[38;5;124m\"\u001b[39m\u001b[38;5;124mvalue\u001b[39m\u001b[38;5;124m\"\u001b[39m] \u001b[38;5;241m=\u001b[39m \u001b[38;5;28mself\u001b[39m\u001b[38;5;241m.\u001b[39m_unwrap_value(response\u001b[38;5;241m.\u001b[39mget(\u001b[38;5;124m\"\u001b[39m\u001b[38;5;124mvalue\u001b[39m\u001b[38;5;124m\"\u001b[39m, \u001b[38;5;28;01mNone\u001b[39;00m))\n\u001b[1;32m    349\u001b[0m     \u001b[38;5;28;01mreturn\u001b[39;00m response\n",
      "File \u001b[0;32m/Library/Frameworks/Python.framework/Versions/3.11/lib/python3.11/site-packages/selenium/webdriver/remote/errorhandler.py:229\u001b[0m, in \u001b[0;36mErrorHandler.check_response\u001b[0;34m(self, response)\u001b[0m\n\u001b[1;32m    227\u001b[0m         alert_text \u001b[38;5;241m=\u001b[39m value[\u001b[38;5;124m\"\u001b[39m\u001b[38;5;124malert\u001b[39m\u001b[38;5;124m\"\u001b[39m]\u001b[38;5;241m.\u001b[39mget(\u001b[38;5;124m\"\u001b[39m\u001b[38;5;124mtext\u001b[39m\u001b[38;5;124m\"\u001b[39m)\n\u001b[1;32m    228\u001b[0m     \u001b[38;5;28;01mraise\u001b[39;00m exception_class(message, screen, stacktrace, alert_text)  \u001b[38;5;66;03m# type: ignore[call-arg]  # mypy is not smart enough here\u001b[39;00m\n\u001b[0;32m--> 229\u001b[0m \u001b[38;5;28;01mraise\u001b[39;00m exception_class(message, screen, stacktrace)\n",
      "\u001b[0;31mElementClickInterceptedException\u001b[0m: Message: element click intercepted: Element <input type=\"button\" value=\" 查詢 \" onclick=\"javascript:doAction();ajax1(document.form1,'table01');\"> is not clickable at point (760, 189). Other element would receive the click: <div id=\"dialog-mask\" style=\"height: 100%; visibility: visible;\"></div>\n  (Session info: chrome-headless-shell=126.0.6478.127)\nStacktrace:\n0   chromedriver                        0x00000001029b80e8 chromedriver + 5169384\n1   chromedriver                        0x00000001029affba chromedriver + 5136314\n2   chromedriver                        0x000000010252c36c chromedriver + 402284\n3   chromedriver                        0x00000001025806b6 chromedriver + 747190\n4   chromedriver                        0x000000010257e4e8 chromedriver + 738536\n5   chromedriver                        0x000000010257bef7 chromedriver + 728823\n6   chromedriver                        0x000000010257ad12 chromedriver + 724242\n7   chromedriver                        0x000000010256e562 chromedriver + 673122\n8   chromedriver                        0x000000010259cab2 chromedriver + 862898\n9   chromedriver                        0x000000010256ded8 chromedriver + 671448\n10  chromedriver                        0x000000010259cc6e chromedriver + 863342\n11  chromedriver                        0x00000001025bbf57 chromedriver + 991063\n12  chromedriver                        0x000000010259c853 chromedriver + 862291\n13  chromedriver                        0x000000010256c5c6 chromedriver + 665030\n14  chromedriver                        0x000000010256ce4e chromedriver + 667214\n15  chromedriver                        0x000000010297ad00 chromedriver + 4918528\n16  chromedriver                        0x000000010297fcfd chromedriver + 4939005\n17  chromedriver                        0x00000001029803d5 chromedriver + 4940757\n18  chromedriver                        0x000000010295bde4 chromedriver + 4791780\n19  chromedriver                        0x00000001029806c9 chromedriver + 4941513\n20  chromedriver                        0x000000010294d5b4 chromedriver + 4732340\n21  chromedriver                        0x00000001029a0898 chromedriver + 5073048\n22  chromedriver                        0x00000001029a0a57 chromedriver + 5073495\n23  chromedriver                        0x00000001029afb6e chromedriver + 5135214\n24  libsystem_pthread.dylib             0x00007ff803ebd202 _pthread_start + 99\n25  libsystem_pthread.dylib             0x00007ff803eb8bab thread_start + 15\n"
     ]
    }
   ],
   "source": [
    "arrs = []\n",
    "try_ = 3\n",
    "sleep_ = 3\n",
    "season_dict = {\n",
    "1: '03-31',\n",
    "2: \"06-30\",\n",
    "3: \"09-30\",\n",
    "4: \"12-31\",\n",
    "}\n",
    "slices = {\n",
    "    'df_current': slice(5, 15),\n",
    "    'df_noncurrent': slice(18, 25),\n",
    "    'df_total_asset': 26,\n",
    "    'df_currentlia': slice(28, 36),\n",
    "    'df_noncurrentlia': slice(38, 43),\n",
    "    'df_total_lia': 44,\n",
    "    'df_equity': slice(-5, -3)\n",
    "}\n",
    "chrome_options = Options()\n",
    "chrome_options.add_argument('--headless')  # Run Chrome in headless mode\n",
    "chrome_options.add_argument('--no-sandbox')  # Bypass OS security model, useful for running on servers\n",
    "chrome_options.add_argument('--disable-dev-shm-usage')  # Overcome limited resource problems\n",
    "\n",
    "# Set up the Chrome WebDriver with the specified options\n",
    "driver = webdriver.Chrome(options=chrome_options)\n",
    "url = 'https://mops.twse.com.tw/mops/web/t164sb03'\n",
    "driver.get(url)\n",
    "wait = WebDriverWait(driver, 20)\n",
    "time.sleep(2)\n",
    "select_element_isnew = wait.until(EC.presence_of_element_located((By.ID, 'isnew')))\n",
    "select_isnew = Select(select_element_isnew)\n",
    "company_code_input = wait.until(EC.presence_of_element_located((By.ID, 'co_id')))\n",
    "year_input = driver.find_element(By.ID, 'year')\n",
    "select_element_Season = wait.until(EC.presence_of_element_located((By.ID, 'season')))\n",
    "select_season = Select(select_element_Season)\n",
    "search_button = driver.find_element(By.CSS_SELECTOR, 'input[type=\"button\"][value=\" 查詢 \"]')\n",
    "for year in [113, 109, 107]:\n",
    "    if year != 113:\n",
    "        year_input.clear()\n",
    "    if year == 113:\n",
    "        list_season = [1]\n",
    "    else:\n",
    "        list_season = [1, 2, 3, 4]\n",
    "    for season in list_season:\n",
    "        for ticker in tqdm(list_tw_stock, desc=f\"{year}, {season}\"):\n",
    "            wait = WebDriverWait(driver, 20)\n",
    "            select_isnew.select_by_visible_text('歷史資料')\n",
    "\n",
    "            company_code_input.clear()\n",
    "            company_code_input.send_keys(ticker)\n",
    "\n",
    "            year_input.send_keys(str(year))\n",
    "\n",
    "            select_season.select_by_visible_text(str(season))\n",
    "            search_button.click()\n",
    "\n",
    "            wait.until(EC.presence_of_element_located((By.ID, 'table01')))\n",
    "            time.sleep(2)\n",
    "            data = []\n",
    "            df = None\n",
    "            for i in range(try_):\n",
    "                try:\n",
    "                    table = driver.find_element(By.CLASS_NAME, 'hasBorder')\n",
    "                    rows = table.find_elements(By.TAG_NAME, \"tr\")\n",
    "                    for row in rows:\n",
    "                        cols = row.find_elements(By.TAG_NAME, 'td')\n",
    "                        cols = [col.text for col in cols]\n",
    "                        data.append(cols)\n",
    "                        df = pd.DataFrame(data)\n",
    "                    break\n",
    "                except Exception as e:\n",
    "                    # financial statements not exist\n",
    "                    break\n",
    "            if df is None:\n",
    "                continue\n",
    "            try:\n",
    "                df_sp = df.iloc[:, [0, 1, 2, -2, -1]]\n",
    "                dfs = {name: df_sp.iloc[s] if isinstance(s, slice) else df_sp.iloc[[s], :] for name, s in slices.items()}\n",
    "                df_concat = pd.concat(dfs.values())\n",
    "                df_concat.insert(3, \"season_da1\", f\"{1911+year}-{season_dict[season]}\")\n",
    "                df_concat.insert(4, \"ticker\", ticker)\n",
    "                df_concat.insert(5, \"name2\", df_concat.iloc[:, 0])\n",
    "                df_concat.insert(8, \"season_da2\", f\"{1911+year-1}-{season_dict[season]}\")\n",
    "                df_concat.insert(9, \"ticker1\", ticker)\n",
    "                array_f = df_concat.values.reshape(int(df_concat.shape[0]*2), int(df_concat.shape[1]/2))\n",
    "                arrs.append(array_f)\n",
    "            except IndexError:\n",
    "                continue\n",
    "    df_long_format = pd.DataFrame(sum([array_f.tolist() for array_f in arrs], []))\n",
    "    df_long_format.columns = ['colname', 'value', 'percentage', 'season_end', \"ticker\"]\n",
    "    df_long_format.to_parquet(f'../db/tw/financials/BS_{year}_{year-1}.parquet')\n"
   ]
  },
  {
   "cell_type": "code",
   "execution_count": 10,
   "metadata": {},
   "outputs": [
    {
     "ename": "OSError",
     "evalue": "Cannot save file into a non-existent directory: '../tw/db/financials'",
     "output_type": "error",
     "traceback": [
      "\u001b[0;31m---------------------------------------------------------------------------\u001b[0m",
      "\u001b[0;31mOSError\u001b[0m                                   Traceback (most recent call last)",
      "Cell \u001b[0;32mIn[10], line 4\u001b[0m\n\u001b[1;32m      2\u001b[0m df_long_format\u001b[38;5;241m.\u001b[39mcolumns \u001b[38;5;241m=\u001b[39m [\u001b[38;5;124m'\u001b[39m\u001b[38;5;124mcolname\u001b[39m\u001b[38;5;124m'\u001b[39m, \u001b[38;5;124m'\u001b[39m\u001b[38;5;124mvalue\u001b[39m\u001b[38;5;124m'\u001b[39m, \u001b[38;5;124m'\u001b[39m\u001b[38;5;124mpercentage\u001b[39m\u001b[38;5;124m'\u001b[39m, \u001b[38;5;124m'\u001b[39m\u001b[38;5;124mseason_end\u001b[39m\u001b[38;5;124m'\u001b[39m, \u001b[38;5;124m\"\u001b[39m\u001b[38;5;124mticker\u001b[39m\u001b[38;5;124m\"\u001b[39m]\n\u001b[1;32m      3\u001b[0m df_long_format \u001b[38;5;241m=\u001b[39m df_long_format[(df_long_format[\u001b[38;5;124m'\u001b[39m\u001b[38;5;124mseason_end\u001b[39m\u001b[38;5;124m'\u001b[39m] \u001b[38;5;241m>\u001b[39m\u001b[38;5;241m=\u001b[39m \u001b[38;5;124m'\u001b[39m\u001b[38;5;124m2021-01-01\u001b[39m\u001b[38;5;124m'\u001b[39m)\u001b[38;5;241m&\u001b[39m(df_long_format[\u001b[38;5;124m'\u001b[39m\u001b[38;5;124mseason_end\u001b[39m\u001b[38;5;124m'\u001b[39m] \u001b[38;5;241m<\u001b[39m\u001b[38;5;241m=\u001b[39m \u001b[38;5;124m'\u001b[39m\u001b[38;5;124m2022-12-31\u001b[39m\u001b[38;5;124m'\u001b[39m)]\n\u001b[0;32m----> 4\u001b[0m \u001b[43mdf_long_format\u001b[49m\u001b[38;5;241;43m.\u001b[39;49m\u001b[43mto_parquet\u001b[49m\u001b[43m(\u001b[49m\u001b[38;5;124;43m'\u001b[39;49m\u001b[38;5;124;43m../tw/db/financials/BS_111_110.parquet\u001b[39;49m\u001b[38;5;124;43m'\u001b[39;49m\u001b[43m)\u001b[49m\n",
      "File \u001b[0;32m/Library/Frameworks/Python.framework/Versions/3.11/lib/python3.11/site-packages/pandas/util/_decorators.py:333\u001b[0m, in \u001b[0;36mdeprecate_nonkeyword_arguments.<locals>.decorate.<locals>.wrapper\u001b[0;34m(*args, **kwargs)\u001b[0m\n\u001b[1;32m    327\u001b[0m \u001b[38;5;28;01mif\u001b[39;00m \u001b[38;5;28mlen\u001b[39m(args) \u001b[38;5;241m>\u001b[39m num_allow_args:\n\u001b[1;32m    328\u001b[0m     warnings\u001b[38;5;241m.\u001b[39mwarn(\n\u001b[1;32m    329\u001b[0m         msg\u001b[38;5;241m.\u001b[39mformat(arguments\u001b[38;5;241m=\u001b[39m_format_argument_list(allow_args)),\n\u001b[1;32m    330\u001b[0m         \u001b[38;5;167;01mFutureWarning\u001b[39;00m,\n\u001b[1;32m    331\u001b[0m         stacklevel\u001b[38;5;241m=\u001b[39mfind_stack_level(),\n\u001b[1;32m    332\u001b[0m     )\n\u001b[0;32m--> 333\u001b[0m \u001b[38;5;28;01mreturn\u001b[39;00m \u001b[43mfunc\u001b[49m\u001b[43m(\u001b[49m\u001b[38;5;241;43m*\u001b[39;49m\u001b[43margs\u001b[49m\u001b[43m,\u001b[49m\u001b[43m \u001b[49m\u001b[38;5;241;43m*\u001b[39;49m\u001b[38;5;241;43m*\u001b[39;49m\u001b[43mkwargs\u001b[49m\u001b[43m)\u001b[49m\n",
      "File \u001b[0;32m/Library/Frameworks/Python.framework/Versions/3.11/lib/python3.11/site-packages/pandas/core/frame.py:3113\u001b[0m, in \u001b[0;36mDataFrame.to_parquet\u001b[0;34m(self, path, engine, compression, index, partition_cols, storage_options, **kwargs)\u001b[0m\n\u001b[1;32m   3032\u001b[0m \u001b[38;5;250m\u001b[39m\u001b[38;5;124;03m\"\"\"\u001b[39;00m\n\u001b[1;32m   3033\u001b[0m \u001b[38;5;124;03mWrite a DataFrame to the binary parquet format.\u001b[39;00m\n\u001b[1;32m   3034\u001b[0m \n\u001b[0;32m   (...)\u001b[0m\n\u001b[1;32m   3109\u001b[0m \u001b[38;5;124;03m>>> content = f.read()\u001b[39;00m\n\u001b[1;32m   3110\u001b[0m \u001b[38;5;124;03m\"\"\"\u001b[39;00m\n\u001b[1;32m   3111\u001b[0m \u001b[38;5;28;01mfrom\u001b[39;00m \u001b[38;5;21;01mpandas\u001b[39;00m\u001b[38;5;21;01m.\u001b[39;00m\u001b[38;5;21;01mio\u001b[39;00m\u001b[38;5;21;01m.\u001b[39;00m\u001b[38;5;21;01mparquet\u001b[39;00m \u001b[38;5;28;01mimport\u001b[39;00m to_parquet\n\u001b[0;32m-> 3113\u001b[0m \u001b[38;5;28;01mreturn\u001b[39;00m \u001b[43mto_parquet\u001b[49m\u001b[43m(\u001b[49m\n\u001b[1;32m   3114\u001b[0m \u001b[43m    \u001b[49m\u001b[38;5;28;43mself\u001b[39;49m\u001b[43m,\u001b[49m\n\u001b[1;32m   3115\u001b[0m \u001b[43m    \u001b[49m\u001b[43mpath\u001b[49m\u001b[43m,\u001b[49m\n\u001b[1;32m   3116\u001b[0m \u001b[43m    \u001b[49m\u001b[43mengine\u001b[49m\u001b[43m,\u001b[49m\n\u001b[1;32m   3117\u001b[0m \u001b[43m    \u001b[49m\u001b[43mcompression\u001b[49m\u001b[38;5;241;43m=\u001b[39;49m\u001b[43mcompression\u001b[49m\u001b[43m,\u001b[49m\n\u001b[1;32m   3118\u001b[0m \u001b[43m    \u001b[49m\u001b[43mindex\u001b[49m\u001b[38;5;241;43m=\u001b[39;49m\u001b[43mindex\u001b[49m\u001b[43m,\u001b[49m\n\u001b[1;32m   3119\u001b[0m \u001b[43m    \u001b[49m\u001b[43mpartition_cols\u001b[49m\u001b[38;5;241;43m=\u001b[39;49m\u001b[43mpartition_cols\u001b[49m\u001b[43m,\u001b[49m\n\u001b[1;32m   3120\u001b[0m \u001b[43m    \u001b[49m\u001b[43mstorage_options\u001b[49m\u001b[38;5;241;43m=\u001b[39;49m\u001b[43mstorage_options\u001b[49m\u001b[43m,\u001b[49m\n\u001b[1;32m   3121\u001b[0m \u001b[43m    \u001b[49m\u001b[38;5;241;43m*\u001b[39;49m\u001b[38;5;241;43m*\u001b[39;49m\u001b[43mkwargs\u001b[49m\u001b[43m,\u001b[49m\n\u001b[1;32m   3122\u001b[0m \u001b[43m\u001b[49m\u001b[43m)\u001b[49m\n",
      "File \u001b[0;32m/Library/Frameworks/Python.framework/Versions/3.11/lib/python3.11/site-packages/pandas/io/parquet.py:480\u001b[0m, in \u001b[0;36mto_parquet\u001b[0;34m(df, path, engine, compression, index, storage_options, partition_cols, filesystem, **kwargs)\u001b[0m\n\u001b[1;32m    476\u001b[0m impl \u001b[38;5;241m=\u001b[39m get_engine(engine)\n\u001b[1;32m    478\u001b[0m path_or_buf: FilePath \u001b[38;5;241m|\u001b[39m WriteBuffer[\u001b[38;5;28mbytes\u001b[39m] \u001b[38;5;241m=\u001b[39m io\u001b[38;5;241m.\u001b[39mBytesIO() \u001b[38;5;28;01mif\u001b[39;00m path \u001b[38;5;129;01mis\u001b[39;00m \u001b[38;5;28;01mNone\u001b[39;00m \u001b[38;5;28;01melse\u001b[39;00m path\n\u001b[0;32m--> 480\u001b[0m \u001b[43mimpl\u001b[49m\u001b[38;5;241;43m.\u001b[39;49m\u001b[43mwrite\u001b[49m\u001b[43m(\u001b[49m\n\u001b[1;32m    481\u001b[0m \u001b[43m    \u001b[49m\u001b[43mdf\u001b[49m\u001b[43m,\u001b[49m\n\u001b[1;32m    482\u001b[0m \u001b[43m    \u001b[49m\u001b[43mpath_or_buf\u001b[49m\u001b[43m,\u001b[49m\n\u001b[1;32m    483\u001b[0m \u001b[43m    \u001b[49m\u001b[43mcompression\u001b[49m\u001b[38;5;241;43m=\u001b[39;49m\u001b[43mcompression\u001b[49m\u001b[43m,\u001b[49m\n\u001b[1;32m    484\u001b[0m \u001b[43m    \u001b[49m\u001b[43mindex\u001b[49m\u001b[38;5;241;43m=\u001b[39;49m\u001b[43mindex\u001b[49m\u001b[43m,\u001b[49m\n\u001b[1;32m    485\u001b[0m \u001b[43m    \u001b[49m\u001b[43mpartition_cols\u001b[49m\u001b[38;5;241;43m=\u001b[39;49m\u001b[43mpartition_cols\u001b[49m\u001b[43m,\u001b[49m\n\u001b[1;32m    486\u001b[0m \u001b[43m    \u001b[49m\u001b[43mstorage_options\u001b[49m\u001b[38;5;241;43m=\u001b[39;49m\u001b[43mstorage_options\u001b[49m\u001b[43m,\u001b[49m\n\u001b[1;32m    487\u001b[0m \u001b[43m    \u001b[49m\u001b[43mfilesystem\u001b[49m\u001b[38;5;241;43m=\u001b[39;49m\u001b[43mfilesystem\u001b[49m\u001b[43m,\u001b[49m\n\u001b[1;32m    488\u001b[0m \u001b[43m    \u001b[49m\u001b[38;5;241;43m*\u001b[39;49m\u001b[38;5;241;43m*\u001b[39;49m\u001b[43mkwargs\u001b[49m\u001b[43m,\u001b[49m\n\u001b[1;32m    489\u001b[0m \u001b[43m\u001b[49m\u001b[43m)\u001b[49m\n\u001b[1;32m    491\u001b[0m \u001b[38;5;28;01mif\u001b[39;00m path \u001b[38;5;129;01mis\u001b[39;00m \u001b[38;5;28;01mNone\u001b[39;00m:\n\u001b[1;32m    492\u001b[0m     \u001b[38;5;28;01massert\u001b[39;00m \u001b[38;5;28misinstance\u001b[39m(path_or_buf, io\u001b[38;5;241m.\u001b[39mBytesIO)\n",
      "File \u001b[0;32m/Library/Frameworks/Python.framework/Versions/3.11/lib/python3.11/site-packages/pandas/io/parquet.py:198\u001b[0m, in \u001b[0;36mPyArrowImpl.write\u001b[0;34m(self, df, path, compression, index, storage_options, partition_cols, filesystem, **kwargs)\u001b[0m\n\u001b[1;32m    195\u001b[0m     merged_metadata \u001b[38;5;241m=\u001b[39m {\u001b[38;5;241m*\u001b[39m\u001b[38;5;241m*\u001b[39mexisting_metadata, \u001b[38;5;241m*\u001b[39m\u001b[38;5;241m*\u001b[39mdf_metadata}\n\u001b[1;32m    196\u001b[0m     table \u001b[38;5;241m=\u001b[39m table\u001b[38;5;241m.\u001b[39mreplace_schema_metadata(merged_metadata)\n\u001b[0;32m--> 198\u001b[0m path_or_handle, handles, filesystem \u001b[38;5;241m=\u001b[39m \u001b[43m_get_path_or_handle\u001b[49m\u001b[43m(\u001b[49m\n\u001b[1;32m    199\u001b[0m \u001b[43m    \u001b[49m\u001b[43mpath\u001b[49m\u001b[43m,\u001b[49m\n\u001b[1;32m    200\u001b[0m \u001b[43m    \u001b[49m\u001b[43mfilesystem\u001b[49m\u001b[43m,\u001b[49m\n\u001b[1;32m    201\u001b[0m \u001b[43m    \u001b[49m\u001b[43mstorage_options\u001b[49m\u001b[38;5;241;43m=\u001b[39;49m\u001b[43mstorage_options\u001b[49m\u001b[43m,\u001b[49m\n\u001b[1;32m    202\u001b[0m \u001b[43m    \u001b[49m\u001b[43mmode\u001b[49m\u001b[38;5;241;43m=\u001b[39;49m\u001b[38;5;124;43m\"\u001b[39;49m\u001b[38;5;124;43mwb\u001b[39;49m\u001b[38;5;124;43m\"\u001b[39;49m\u001b[43m,\u001b[49m\n\u001b[1;32m    203\u001b[0m \u001b[43m    \u001b[49m\u001b[43mis_dir\u001b[49m\u001b[38;5;241;43m=\u001b[39;49m\u001b[43mpartition_cols\u001b[49m\u001b[43m \u001b[49m\u001b[38;5;129;43;01mis\u001b[39;49;00m\u001b[43m \u001b[49m\u001b[38;5;129;43;01mnot\u001b[39;49;00m\u001b[43m \u001b[49m\u001b[38;5;28;43;01mNone\u001b[39;49;00m\u001b[43m,\u001b[49m\n\u001b[1;32m    204\u001b[0m \u001b[43m\u001b[49m\u001b[43m)\u001b[49m\n\u001b[1;32m    205\u001b[0m \u001b[38;5;28;01mif\u001b[39;00m (\n\u001b[1;32m    206\u001b[0m     \u001b[38;5;28misinstance\u001b[39m(path_or_handle, io\u001b[38;5;241m.\u001b[39mBufferedWriter)\n\u001b[1;32m    207\u001b[0m     \u001b[38;5;129;01mand\u001b[39;00m \u001b[38;5;28mhasattr\u001b[39m(path_or_handle, \u001b[38;5;124m\"\u001b[39m\u001b[38;5;124mname\u001b[39m\u001b[38;5;124m\"\u001b[39m)\n\u001b[1;32m    208\u001b[0m     \u001b[38;5;129;01mand\u001b[39;00m \u001b[38;5;28misinstance\u001b[39m(path_or_handle\u001b[38;5;241m.\u001b[39mname, (\u001b[38;5;28mstr\u001b[39m, \u001b[38;5;28mbytes\u001b[39m))\n\u001b[1;32m    209\u001b[0m ):\n\u001b[1;32m    210\u001b[0m     \u001b[38;5;28;01mif\u001b[39;00m \u001b[38;5;28misinstance\u001b[39m(path_or_handle\u001b[38;5;241m.\u001b[39mname, \u001b[38;5;28mbytes\u001b[39m):\n",
      "File \u001b[0;32m/Library/Frameworks/Python.framework/Versions/3.11/lib/python3.11/site-packages/pandas/io/parquet.py:140\u001b[0m, in \u001b[0;36m_get_path_or_handle\u001b[0;34m(path, fs, storage_options, mode, is_dir)\u001b[0m\n\u001b[1;32m    130\u001b[0m handles \u001b[38;5;241m=\u001b[39m \u001b[38;5;28;01mNone\u001b[39;00m\n\u001b[1;32m    131\u001b[0m \u001b[38;5;28;01mif\u001b[39;00m (\n\u001b[1;32m    132\u001b[0m     \u001b[38;5;129;01mnot\u001b[39;00m fs\n\u001b[1;32m    133\u001b[0m     \u001b[38;5;129;01mand\u001b[39;00m \u001b[38;5;129;01mnot\u001b[39;00m is_dir\n\u001b[0;32m   (...)\u001b[0m\n\u001b[1;32m    138\u001b[0m     \u001b[38;5;66;03m# fsspec resources can also point to directories\u001b[39;00m\n\u001b[1;32m    139\u001b[0m     \u001b[38;5;66;03m# this branch is used for example when reading from non-fsspec URLs\u001b[39;00m\n\u001b[0;32m--> 140\u001b[0m     handles \u001b[38;5;241m=\u001b[39m \u001b[43mget_handle\u001b[49m\u001b[43m(\u001b[49m\n\u001b[1;32m    141\u001b[0m \u001b[43m        \u001b[49m\u001b[43mpath_or_handle\u001b[49m\u001b[43m,\u001b[49m\u001b[43m \u001b[49m\u001b[43mmode\u001b[49m\u001b[43m,\u001b[49m\u001b[43m \u001b[49m\u001b[43mis_text\u001b[49m\u001b[38;5;241;43m=\u001b[39;49m\u001b[38;5;28;43;01mFalse\u001b[39;49;00m\u001b[43m,\u001b[49m\u001b[43m \u001b[49m\u001b[43mstorage_options\u001b[49m\u001b[38;5;241;43m=\u001b[39;49m\u001b[43mstorage_options\u001b[49m\n\u001b[1;32m    142\u001b[0m \u001b[43m    \u001b[49m\u001b[43m)\u001b[49m\n\u001b[1;32m    143\u001b[0m     fs \u001b[38;5;241m=\u001b[39m \u001b[38;5;28;01mNone\u001b[39;00m\n\u001b[1;32m    144\u001b[0m     path_or_handle \u001b[38;5;241m=\u001b[39m handles\u001b[38;5;241m.\u001b[39mhandle\n",
      "File \u001b[0;32m/Library/Frameworks/Python.framework/Versions/3.11/lib/python3.11/site-packages/pandas/io/common.py:749\u001b[0m, in \u001b[0;36mget_handle\u001b[0;34m(path_or_buf, mode, encoding, compression, memory_map, is_text, errors, storage_options)\u001b[0m\n\u001b[1;32m    747\u001b[0m \u001b[38;5;66;03m# Only for write methods\u001b[39;00m\n\u001b[1;32m    748\u001b[0m \u001b[38;5;28;01mif\u001b[39;00m \u001b[38;5;124m\"\u001b[39m\u001b[38;5;124mr\u001b[39m\u001b[38;5;124m\"\u001b[39m \u001b[38;5;129;01mnot\u001b[39;00m \u001b[38;5;129;01min\u001b[39;00m mode \u001b[38;5;129;01mand\u001b[39;00m is_path:\n\u001b[0;32m--> 749\u001b[0m     \u001b[43mcheck_parent_directory\u001b[49m\u001b[43m(\u001b[49m\u001b[38;5;28;43mstr\u001b[39;49m\u001b[43m(\u001b[49m\u001b[43mhandle\u001b[49m\u001b[43m)\u001b[49m\u001b[43m)\u001b[49m\n\u001b[1;32m    751\u001b[0m \u001b[38;5;28;01mif\u001b[39;00m compression:\n\u001b[1;32m    752\u001b[0m     \u001b[38;5;28;01mif\u001b[39;00m compression \u001b[38;5;241m!=\u001b[39m \u001b[38;5;124m\"\u001b[39m\u001b[38;5;124mzstd\u001b[39m\u001b[38;5;124m\"\u001b[39m:\n\u001b[1;32m    753\u001b[0m         \u001b[38;5;66;03m# compression libraries do not like an explicit text-mode\u001b[39;00m\n",
      "File \u001b[0;32m/Library/Frameworks/Python.framework/Versions/3.11/lib/python3.11/site-packages/pandas/io/common.py:616\u001b[0m, in \u001b[0;36mcheck_parent_directory\u001b[0;34m(path)\u001b[0m\n\u001b[1;32m    614\u001b[0m parent \u001b[38;5;241m=\u001b[39m Path(path)\u001b[38;5;241m.\u001b[39mparent\n\u001b[1;32m    615\u001b[0m \u001b[38;5;28;01mif\u001b[39;00m \u001b[38;5;129;01mnot\u001b[39;00m parent\u001b[38;5;241m.\u001b[39mis_dir():\n\u001b[0;32m--> 616\u001b[0m     \u001b[38;5;28;01mraise\u001b[39;00m \u001b[38;5;167;01mOSError\u001b[39;00m(\u001b[38;5;124mrf\u001b[39m\u001b[38;5;124m\"\u001b[39m\u001b[38;5;124mCannot save file into a non-existent directory: \u001b[39m\u001b[38;5;124m'\u001b[39m\u001b[38;5;132;01m{\u001b[39;00mparent\u001b[38;5;132;01m}\u001b[39;00m\u001b[38;5;124m'\u001b[39m\u001b[38;5;124m\"\u001b[39m)\n",
      "\u001b[0;31mOSError\u001b[0m: Cannot save file into a non-existent directory: '../tw/db/financials'"
     ]
    }
   ],
   "source": [
    "df_long_format = pd.DataFrame(sum([array_f.tolist() for array_f in arrs], []))\n",
    "df_long_format.columns = ['colname', 'value', 'percentage', 'season_end', \"ticker\"]\n",
    "df_long_format = df_long_format[(df_long_format['season_end'] >= '2021-01-01')&(df_long_format['season_end'] <= '2022-12-31')]\n",
    "df_long_format.to_parquet('../db/tw/financials/BS_111_110.parquet')\n"
   ]
  }
 ],
 "metadata": {
  "kernelspec": {
   "display_name": "Python 3",
   "language": "python",
   "name": "python3"
  },
  "language_info": {
   "codemirror_mode": {
    "name": "ipython",
    "version": 3
   },
   "file_extension": ".py",
   "mimetype": "text/x-python",
   "name": "python",
   "nbconvert_exporter": "python",
   "pygments_lexer": "ipython3",
   "version": "3.11.9"
  }
 },
 "nbformat": 4,
 "nbformat_minor": 2
}
